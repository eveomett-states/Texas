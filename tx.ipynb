{
 "cells": [
  {
   "cell_type": "code",
   "execution_count": 1,
   "metadata": {},
   "outputs": [],
   "source": [
    "import pandas as pd\n",
    "import geopandas as gpd\n",
    "import maup\n",
    "import time\n",
    "from maup import smart_repair\n",
    "from gerrychain import Graph\n",
    "import math\n",
    "\n",
    "maup.progress.enabled = True"
   ]
  },
  {
   "cell_type": "code",
   "execution_count": 2,
   "metadata": {},
   "outputs": [],
   "source": [
    "import warnings\n",
    "warnings.filterwarnings(\"ignore\")"
   ]
  },
  {
   "cell_type": "code",
   "execution_count": 3,
   "metadata": {},
   "outputs": [],
   "source": [
    "# state = Texas\n",
    "state_ab = \"tx\""
   ]
  },
  {
   "cell_type": "markdown",
   "metadata": {},
   "source": [
    "## Data\n",
    "1. Download all the data in directory \"tx_data\"\n",
    "2. Extract them all"
   ]
  },
  {
   "cell_type": "code",
   "execution_count": 5,
   "metadata": {},
   "outputs": [],
   "source": [
    "data_folder = state_ab + \"_data/\"\n",
    "population1_data = \"./{}{}_pl2020_b/{}_pl2020_p1_b.shp\".format(data_folder, state_ab, state_ab)\n",
    "population2_data = \"./{}{}_pl2020_b/{}_pl2020_p2_b.shp\".format(data_folder, state_ab, state_ab)\n",
    "vap_data =  \"./{}{}_pl2020_b/{}_pl2020_p4_b.shp\".format(data_folder, state_ab, state_ab)\n",
    "vest20_data = \"./{}{}_vest_20/{}_vest_20.shp\".format(data_folder, state_ab, state_ab)\n",
    "vest18_data = \"./{}{}_vest_18/{}_vest_18.shp\".format(data_folder, state_ab, state_ab)\n",
    "vest16_data = \"./{}{}_vest_16/{}_vest_16.shp\".format(data_folder, state_ab, state_ab)\n",
    "cd_data = \"./{}{}_cong_2021/PLANC2193.shp\".format(data_folder, state_ab)\n",
    "send_data = \"./{}{}_sldu_2021/PLANS2168.shp\".format(data_folder, state_ab)\n",
    "hdist_data = \"./{}{}_sldl_2021/PLANH2316.shp\".format(data_folder, state_ab)\n",
    "county_data = \"./{}{}_pl2020_cnty/{}_pl2020_cnty.shp\".format(data_folder, state_ab, state_ab)"
   ]
  },
  {
   "cell_type": "code",
   "execution_count": 6,
   "metadata": {},
   "outputs": [],
   "source": [
    "def do_smart_repair(df, min_rook_length = None, snap_precision = 10):\n",
    "    # change it to the UTM it needs for smart_repair\n",
    "    df = df.to_crs(df.estimate_utm_crs())\n",
    "    df = smart_repair(df, min_rook_length = min_rook_length, snap_precision = snap_precision)\n",
    "\n",
    "    if maup.doctor(df) == False:\n",
    "        raise Exception('maup.doctor failed')\n",
    "    \n",
    "    return df"
   ]
  },
  {
   "cell_type": "code",
   "execution_count": 7,
   "metadata": {},
   "outputs": [],
   "source": [
    "def add_district(dist_df, dist_name, election_df, col_name):\n",
    "    election_df = election_df.to_crs(election_df.estimate_utm_crs())\n",
    "    dist_df = dist_df.to_crs(dist_df.estimate_utm_crs())\n",
    "    # check if it needs to be smart_repair\n",
    "    if maup.doctor(dist_df) != True:\n",
    "        dist_df = do_smart_repair(dist_df)\n",
    "\n",
    "    # assign the pricincts\n",
    "    precincts_to_district_assignment = maup.assign(election_df.geometry, dist_df.geometry)\n",
    "    election_df[dist_name] = precincts_to_district_assignment\n",
    "    for precinct_index in range(len(election_df)):\n",
    "        if not math.isnan(election_df.at[precinct_index, dist_name]): #Note: added this b/c some precinct not assigned to a district\n",
    "            election_df.at[precinct_index, dist_name] = dist_df.at[election_df.at[precinct_index, dist_name], col_name]\n",
    "\n",
    "    return election_df"
   ]
  },
  {
   "cell_type": "code",
   "execution_count": 8,
   "metadata": {},
   "outputs": [],
   "source": [
    "def rename(original, year):\n",
    "    party = original[6]\n",
    "    if party == 'R' or party == 'D':\n",
    "        return original[3:6] + year + original[6]\n",
    "    else:\n",
    "        return original[3:6] + year + 'O'"
   ]
  },
  {
   "cell_type": "code",
   "execution_count": 9,
   "metadata": {},
   "outputs": [],
   "source": [
    "pop_col = ['TOTPOP', 'HISP', 'NH_WHITE', 'NH_BLACK', 'NH_AMIN', 'NH_ASIAN', 'NH_NHPI', 'NH_OTHER', 'NH_2MORE', 'H_WHITE', 'H_BLACK', 'H_AMIN', 'H_ASIAN', 'H_NHPI', 'H_OTHER', 'H_2MORE', 'VAP', 'HVAP', 'WVAP', 'BVAP', 'AMINVAP', 'ASIANVAP', 'NHPIVAP', 'OTHERVAP', '2MOREVAP']"
   ]
  },
  {
   "cell_type": "code",
   "execution_count": 10,
   "metadata": {},
   "outputs": [],
   "source": [
    "def check_population(population, df):\n",
    "    pop_check = pd.DataFrame({\n",
    "        'pop_col': pop_col,\n",
    "        'population_df': population[pop_col].sum(), \n",
    "        'vest_base': df[pop_col].sum(),\n",
    "        'equal': [x == y for x, y in zip(population[pop_col].sum(), df[pop_col].sum())]\n",
    "    })\n",
    "    if pop_check['equal'].mean() < 1:\n",
    "        print(pop_check)\n",
    "        raise Exception(\"population doesn't agree\")\n",
    "\n",
    "    else:\n",
    "        print(\"population agrees\")"
   ]
  },
  {
   "cell_type": "code",
   "execution_count": 11,
   "metadata": {},
   "outputs": [],
   "source": [
    "def add_vest(vest, df, year, population, start_col, snap_precision = 10):\n",
    "    df = df.to_crs(df.estimate_utm_crs())\n",
    "    vest = vest.to_crs(vest.estimate_utm_crs())\n",
    "    population = population.to_crs(population.estimate_utm_crs())\n",
    "    df_crs = df.crs\n",
    "    vest_crs = vest.crs\n",
    "    \n",
    "     # check if it needs to be smart_repair\n",
    "    if maup.doctor(vest) != True:\n",
    "        vest = do_smart_repair(vest, snap_precision = snap_precision)\n",
    "    \n",
    "    # rename the columns\n",
    "    original_col = vest.columns[start_col:-1]\n",
    "    new_col = [rename(i, year) for i in original_col]\n",
    "    rename_dict = dict(zip(original_col, new_col))\n",
    "    vest = vest.rename(columns=rename_dict)\n",
    "    vest = vest.groupby(level=0, axis=1).sum() # combine all the other party's vote into columns with sufix \"O\"\n",
    "    col_name = list(set(new_col))\n",
    "    col_name.sort()\n",
    "    \n",
    "    # make the blocks from precincts by weight\n",
    "    vest = gpd.GeoDataFrame(vest, crs=vest_crs)\n",
    "    election_in_block = population[[\"VAP\", 'geometry']] # population_df is in block scale\n",
    "    blocks_to_precincts_assignment = maup.assign(election_in_block.geometry, vest.geometry)\n",
    "    weights = election_in_block[\"VAP\"] / blocks_to_precincts_assignment.map(election_in_block[\"VAP\"].groupby(blocks_to_precincts_assignment).sum())\n",
    "    weights = weights.fillna(0)\n",
    "    prorated = maup.prorate(blocks_to_precincts_assignment, vest[col_name], weights)\n",
    "    election_in_block[col_name] = prorated\n",
    "    \n",
    "    # assign blocks to precincts\n",
    "    election_in_block = gpd.GeoDataFrame(election_in_block, crs=vest_crs)\n",
    "    df = gpd.GeoDataFrame(df, crs=df_crs)\n",
    "    block_to_pricinct_assginment = maup.assign(election_in_block.geometry, df.geometry)\n",
    "    df[col_name] = election_in_block[col_name].groupby(block_to_pricinct_assginment).sum()\n",
    "    df = df.groupby(level=0, axis=1).sum()\n",
    "    df = gpd.GeoDataFrame(df, crs = df_crs)\n",
    "    # check if population agrees\n",
    "    check_population(population, df)\n",
    "    \n",
    "    return df"
   ]
  },
  {
   "cell_type": "code",
   "execution_count": 12,
   "metadata": {},
   "outputs": [],
   "source": [
    "def add_vest_base(vest, start_col, year, county = None, min_rook_length = None, snap_precision = 10):\n",
    "    vest = vest.to_crs(vest.estimate_utm_crs())\n",
    "    vest_crs = vest.crs\n",
    "    original_col = vest.columns[start_col:-1]\n",
    "    new_col = [rename(i, year) for i in original_col]\n",
    "    rename_dict = dict(zip(original_col, new_col))\n",
    "    vest = vest.rename(columns=rename_dict)\n",
    "    vest = vest.groupby(level=0, axis=1).sum()\n",
    "    vest = gpd.GeoDataFrame(vest, crs=vest_crs)\n",
    "\n",
    "    if county is not None:\n",
    "        county = county.to_crs(county.estimate_utm_crs())\n",
    "        vest = smart_repair(vest, nest_within_regions = county, min_rook_length = min_rook_length, snap_precision = snap_precision) # nest precincts within counties\n",
    "\n",
    "    else:\n",
    "        vest = smart_repair(vest, min_rook_length = min_rook_length, snap_precision = snap_precision) \n",
    "    \n",
    "    return vest"
   ]
  },
  {
   "cell_type": "code",
   "execution_count": 13,
   "metadata": {},
   "outputs": [],
   "source": [
    "def check_small_boundary_lengths(vest_base):\n",
    "    import copy\n",
    "    vest_base = vest_base.to_crs(vest_base.estimate_utm_crs())\n",
    "\n",
    "    boundaries = copy.deepcopy(vest_base)\n",
    "    boundaries[\"geometry\"] = boundaries.geometry.boundary  # get boundaries\n",
    "    neighbors = gpd.sjoin(boundaries, vest_base, predicate=\"intersects\") # find boundaries that intersect\n",
    "    neighbors = neighbors[neighbors.index != neighbors.index_right] # remove boundaries of a region with itself\n",
    "\n",
    "    # compute shared border length using intersection\n",
    "    borders = list(neighbors.apply(\n",
    "        lambda row: row.geometry.intersection(vest_base.loc[row.index_right, \"geometry\"]).length, axis=1\n",
    "    ))\n",
    "\n",
    "    borders.sort()\n",
    "    \n",
    "    return borders"
   ]
  },
  {
   "cell_type": "markdown",
   "metadata": {},
   "source": [
    "### Read the census data"
   ]
  },
  {
   "cell_type": "code",
   "execution_count": 15,
   "metadata": {},
   "outputs": [],
   "source": [
    "population1_df = gpd.read_file(population1_data)\n",
    "population2_df = gpd.read_file(population2_data)\n",
    "vap_df = gpd.read_file(vap_data)\n",
    "county_df = gpd.read_file(county_data)"
   ]
  },
  {
   "cell_type": "code",
   "execution_count": 16,
   "metadata": {},
   "outputs": [],
   "source": [
    "population2_df = population2_df.drop(columns=['SUMLEV', 'LOGRECNO', 'GEOID', 'COUNTY', 'geometry'])\n",
    "vap_df = vap_df.drop(columns=['SUMLEV', 'LOGRECNO', 'GEOID', 'COUNTY', 'geometry'])"
   ]
  },
  {
   "cell_type": "code",
   "execution_count": 17,
   "metadata": {},
   "outputs": [],
   "source": [
    "population_df = pd.merge(population1_df, population2_df, on='GEOID20')\n",
    "population_df = pd.merge(population_df, vap_df, on='GEOID20')\n",
    "population_df = population_df.to_crs(population_df.estimate_utm_crs())"
   ]
  },
  {
   "cell_type": "code",
   "execution_count": 18,
   "metadata": {},
   "outputs": [
    {
     "name": "stderr",
     "output_type": "stream",
     "text": [
      "100%|█████████████████████████████████| 668757/668757 [05:03<00:00, 2202.39it/s]\n"
     ]
    },
    {
     "data": {
      "text/plain": [
       "True"
      ]
     },
     "execution_count": 18,
     "metadata": {},
     "output_type": "execute_result"
    }
   ],
   "source": [
    "maup.doctor(population_df)"
   ]
  },
  {
   "cell_type": "code",
   "execution_count": 19,
   "metadata": {},
   "outputs": [],
   "source": [
    "population_df['H_WHITE'] = population_df.apply(lambda t: t['P0010003'] - t['P0020005'], 1)\n",
    "population_df['H_BLACK'] = population_df.apply(lambda t: t['P0010004'] - t['P0020006'], 1)\n",
    "population_df['H_AMIN'] = population_df.apply(lambda t: t['P0010005'] - t['P0020007'], 1)\n",
    "population_df['H_ASIAN'] = population_df.apply(lambda t: t['P0010006'] - t['P0020008'], 1)\n",
    "population_df['H_NHPI'] = population_df.apply(lambda t: t['P0010007'] - t['P0020009'], 1)\n",
    "population_df['H_OTHER'] = population_df.apply(lambda t: t['P0010008'] - t['P0020010'], 1)\n",
    "population_df['H_2MORE'] = population_df.apply(lambda t: t['P0010009'] - t['P0020011'], 1)"
   ]
  },
  {
   "cell_type": "code",
   "execution_count": 20,
   "metadata": {},
   "outputs": [],
   "source": [
    "rename_dict = {'P0020001': 'TOTPOP', 'P0020002': 'HISP', 'P0020005': 'NH_WHITE', 'P0020006': 'NH_BLACK', 'P0020007': 'NH_AMIN',\n",
    "                    'P0020008': 'NH_ASIAN', 'P0020009': 'NH_NHPI', 'P0020010': 'NH_OTHER', 'P0020011': 'NH_2MORE',\n",
    "                    'P0040001': 'VAP', 'P0040002': 'HVAP', 'P0040005': 'WVAP', 'P0040006': 'BVAP', 'P0040007': 'AMINVAP',\n",
    "                                        'P0040008': 'ASIANVAP', 'P0040009': 'NHPIVAP', 'P0040010': 'OTHERVAP', 'P0040011': '2MOREVAP'}"
   ]
  },
  {
   "cell_type": "code",
   "execution_count": 21,
   "metadata": {},
   "outputs": [],
   "source": [
    "population_df.rename(columns=rename_dict, inplace = True)"
   ]
  },
  {
   "cell_type": "code",
   "execution_count": 22,
   "metadata": {},
   "outputs": [
    {
     "name": "stderr",
     "output_type": "stream",
     "text": [
      "100%|████████████████████████████████████████| 254/254 [00:00<00:00, 308.55it/s]\n"
     ]
    },
    {
     "data": {
      "text/plain": [
       "True"
      ]
     },
     "execution_count": 22,
     "metadata": {},
     "output_type": "execute_result"
    }
   ],
   "source": [
    "county_df = county_df.to_crs(county_df.estimate_utm_crs())\n",
    "maup.doctor(county_df)"
   ]
  },
  {
   "cell_type": "markdown",
   "metadata": {},
   "source": [
    "## Read the vest 18 data\n",
    "\n",
    "Now using it as a \"base pricinct\""
   ]
  },
  {
   "cell_type": "markdown",
   "metadata": {},
   "source": [
    "## Check if vest18 can be used as base"
   ]
  },
  {
   "cell_type": "code",
   "execution_count": 25,
   "metadata": {},
   "outputs": [],
   "source": [
    "vest18 = gpd.read_file(vest18_data)"
   ]
  },
  {
   "cell_type": "code",
   "execution_count": 26,
   "metadata": {},
   "outputs": [
    {
     "data": {
      "text/plain": [
       "Index(['CNTY', 'COLOR', 'PREC', 'PCTKEY', 'CNTYKEY', 'G18VR', 'G18SSVR',\n",
       "       'G18USSRCRU', 'G18USSDORO', 'G18USSLDIK', 'G18GOVRABB', 'G18GOVDVAL',\n",
       "       'G18GOVLTIP', 'G18LTGRPAT', 'G18LTGDCOL', 'G18LTGLMCK', 'G18ATGRPAX',\n",
       "       'G18ATGDNEL', 'G18ATGLHAR', 'G18COMRHEG', 'G18COMDCHE', 'G18COMLSAN',\n",
       "       'G18LANRBUS', 'G18LANDSUA', 'G18LANLPIN', 'G18AGRRMIL', 'G18AGRDOLS',\n",
       "       'G18AGRLCAR', 'G18RRCRCRA', 'G18RRCDMCA', 'G18RRCLWRI', 'G18SSCRBLA',\n",
       "       'G18SSCDKIR', 'G18SSCRDEV', 'G18SSCDSAN', 'G18SSCRBRO', 'G18SSCDCHE',\n",
       "       'G18SCCRKEL', 'G18SCCDJAC', 'G18SCCLSTR', 'G18SCCRHER', 'G18SCCDFRA',\n",
       "       'G18SCCRSLA', 'G18SCCLASH', 'geometry'],\n",
       "      dtype='object')"
      ]
     },
     "execution_count": 26,
     "metadata": {},
     "output_type": "execute_result"
    }
   ],
   "source": [
    "vest18.columns"
   ]
  },
  {
   "cell_type": "markdown",
   "metadata": {},
   "source": [
    "## Fields\n",
    "G20VR - Voter registration\n",
    "G20SSVR - Spanish surname voter registration"
   ]
  },
  {
   "cell_type": "code",
   "execution_count": 28,
   "metadata": {},
   "outputs": [],
   "source": [
    "start_col = 7\n",
    "vest_base_data = vest18\n",
    "year = '18'"
   ]
  },
  {
   "cell_type": "code",
   "execution_count": 29,
   "metadata": {},
   "outputs": [
    {
     "name": "stderr",
     "output_type": "stream",
     "text": [
      "100%|████████████████████████████████████████| 254/254 [00:00<00:00, 302.66it/s]\n"
     ]
    },
    {
     "name": "stdout",
     "output_type": "stream",
     "text": [
      "Snapping all geometries to a grid with precision 10^( -4 ) to avoid GEOS errors.\n"
     ]
    },
    {
     "name": "stderr",
     "output_type": "stream",
     "text": [
      "100%|████████████████████████████████████████| 254/254 [00:00<00:00, 411.91it/s]\n",
      "100%|█████████████████████████████████████████| 254/254 [00:04<00:00, 56.14it/s]\n"
     ]
    },
    {
     "name": "stdout",
     "output_type": "stream",
     "text": [
      "Identifying overlaps...\n"
     ]
    },
    {
     "name": "stderr",
     "output_type": "stream",
     "text": [
      "100%|█████████████████████████████████| 132998/132998 [01:54<00:00, 1159.77it/s]\n"
     ]
    },
    {
     "name": "stdout",
     "output_type": "stream",
     "text": [
      "Resolving overlaps and filling gaps...\n"
     ]
    },
    {
     "name": "stderr",
     "output_type": "stream",
     "text": [
      "100%|████████████████████████████████████████| 254/254 [00:00<00:00, 766.23it/s]\n",
      "100%|█████████████████████████████████████████| 254/254 [00:03<00:00, 69.01it/s]\n"
     ]
    },
    {
     "name": "stdout",
     "output_type": "stream",
     "text": [
      "1 gaps in region 0 will remain unfilled, because they either are not simply connected or exceed the area threshold.\n"
     ]
    },
    {
     "name": "stderr",
     "output_type": "stream",
     "text": [
      "Gaps to simplify in region 0: 100%|██████████| 213/213 [00:01<00:00, 114.88it/s]\n",
      "Gaps to fill in region 0: 100%|█████████████████| 11/11 [00:00<00:00, 51.25it/s]\n",
      "Gaps to simplify in region 1: 100%|███████████| 243/243 [00:20<00:00, 11.97it/s]\n",
      "Gaps to fill in region 1: 100%|███████████████████| 6/6 [00:00<00:00, 28.44it/s]\n",
      "Gaps to simplify in region 2: 100%|███████████| 297/297 [00:05<00:00, 51.77it/s]\n",
      "Gaps to fill in region 2: 100%|█████████████████| 19/19 [00:00<00:00, 21.41it/s]\n",
      "Gaps to simplify in region 3: 100%|███████████| 904/904 [00:11<00:00, 81.41it/s]\n",
      "Gaps to fill in region 3: 100%|███████████████████| 5/5 [00:00<00:00, 40.74it/s]\n",
      "Gaps to simplify in region 4: 100%|██████████| 206/206 [00:01<00:00, 128.78it/s]\n",
      "Gaps to fill in region 4: 100%|███████████████████| 1/1 [00:00<00:00, 47.98it/s]\n",
      "Gaps to simplify in region 5: 100%|███████████| 559/559 [00:13<00:00, 40.23it/s]\n",
      "Gaps to fill in region 5: 100%|███████████████████| 3/3 [00:00<00:00, 22.02it/s]\n",
      "Gaps to simplify in region 6: 100%|█████████| 1090/1090 [00:33<00:00, 32.38it/s]\n",
      "Gaps to fill in region 6: 100%|███████████████████| 3/3 [00:00<00:00, 19.42it/s]\n",
      "Gaps to simplify in region 7: 100%|██████████| 459/459 [00:03<00:00, 130.22it/s]\n",
      "Gaps to fill in region 7: 100%|███████████████████| 2/2 [00:00<00:00, 43.56it/s]\n",
      "Gaps to simplify in region 8: 100%|███████████| 752/752 [00:08<00:00, 88.73it/s]\n",
      "Gaps to fill in region 8: 100%|███████████████████| 4/4 [00:00<00:00, 53.42it/s]\n",
      "Gaps to simplify in region 9: 100%|███████████| 810/810 [00:32<00:00, 25.24it/s]\n",
      "Gaps to fill in region 9: 100%|███████████████████| 1/1 [00:00<00:00, 13.26it/s]\n",
      "Gaps to simplify in region 10: 100%|█████████| 121/121 [00:01<00:00, 108.01it/s]\n",
      "Gaps to fill in region 10: 100%|██████████████████| 3/3 [00:00<00:00, 65.01it/s]\n",
      "Gaps to simplify in region 11: 100%|██████████| 552/552 [00:26<00:00, 20.79it/s]\n",
      "Gaps to fill in region 11: 100%|██████████████████| 2/2 [00:00<00:00, 24.31it/s]\n",
      "Gaps to simplify in region 12: 100%|█████████| 100/100 [00:00<00:00, 129.06it/s]\n",
      "Gaps to fill: 0it [00:00, ?it/s]\n",
      "Gaps to simplify in region 13: 100%|████████| 1069/1069 [00:18<00:00, 56.97it/s]\n",
      "Gaps to fill in region 13: 100%|██████████████████| 2/2 [00:00<00:00, 27.47it/s]\n"
     ]
    },
    {
     "name": "stdout",
     "output_type": "stream",
     "text": [
      "1 gaps in region 14 will remain unfilled, because they either are not simply connected or exceed the area threshold.\n"
     ]
    },
    {
     "name": "stderr",
     "output_type": "stream",
     "text": [
      "Gaps to simplify in region 14: 100%|██████████| 765/765 [00:13<00:00, 57.08it/s]\n",
      "Gaps to fill in region 14: 100%|██████████████████| 5/5 [00:00<00:00, 35.54it/s]\n",
      "Gaps to simplify in region 15: 100%|██████████| 274/274 [00:03<00:00, 76.43it/s]\n",
      "Gaps to fill in region 15: 100%|██████████████████| 1/1 [00:00<00:00, 24.38it/s]\n",
      "Gaps to simplify in region 16: 100%|██████████| 749/749 [00:40<00:00, 18.28it/s]\n",
      "Gaps to fill in region 16: 100%|██████████████████| 2/2 [00:00<00:00, 22.89it/s]\n",
      "Gaps to simplify in region 17: 100%|████████| 1474/1474 [00:35<00:00, 41.88it/s]\n",
      "Gaps to fill in region 17: 100%|██████████████████| 7/7 [00:00<00:00, 23.65it/s]\n",
      "Gaps to simplify in region 18: 100%|████████| 1249/1249 [00:33<00:00, 37.24it/s]\n",
      "Gaps to fill in region 18: 100%|██████████████████| 2/2 [00:00<00:00, 29.90it/s]\n",
      "Gaps to simplify in region 19: 100%|████████| 1111/1111 [00:29<00:00, 38.09it/s]\n",
      "Gaps to fill in region 19: 100%|██████████████████| 3/3 [00:00<00:00, 26.73it/s]\n",
      "Gaps to simplify in region 20: 100%|████████| 1170/1170 [00:15<00:00, 77.35it/s]\n",
      "Gaps to fill in region 20: 100%|██████████████████| 6/6 [00:00<00:00, 39.43it/s]\n",
      "Gaps to simplify in region 21: 100%|██████████| 761/761 [00:27<00:00, 27.82it/s]\n",
      "Gaps to fill: 0it [00:00, ?it/s]\n",
      "Gaps to simplify in region 22: 100%|██████████| 161/161 [00:02<00:00, 65.06it/s]\n",
      "Gaps to fill in region 22: 100%|██████████████████| 2/2 [00:00<00:00, 18.12it/s]\n",
      "Gaps to simplify in region 23: 100%|██████████| 474/474 [00:15<00:00, 30.25it/s]\n",
      "Gaps to fill in region 23: 100%|██████████████████| 4/4 [00:00<00:00, 25.78it/s]\n",
      "Gaps to simplify in region 24: 100%|██████████| 288/288 [00:06<00:00, 42.06it/s]\n",
      "Gaps to fill in region 24: 100%|██████████████████| 3/3 [00:00<00:00, 20.39it/s]\n",
      "Gaps to simplify in region 25: 100%|██████████| 224/224 [00:03<00:00, 72.85it/s]\n",
      "Gaps to fill in region 25: 100%|██████████████████| 7/7 [00:00<00:00, 33.23it/s]\n",
      "Gaps to simplify in region 26: 100%|█████████| 240/240 [00:02<00:00, 115.63it/s]\n",
      "Gaps to fill in region 26: 100%|██████████████████| 7/7 [00:00<00:00, 40.41it/s]\n",
      "Gaps to simplify in region 27: 100%|██████████| 316/316 [00:05<00:00, 62.57it/s]\n",
      "Gaps to fill in region 27: 100%|████████████████| 12/12 [00:01<00:00,  8.35it/s]\n",
      "Gaps to simplify in region 28: 100%|█████████| 269/269 [00:02<00:00, 114.53it/s]\n",
      "Gaps to fill in region 28: 100%|████████████████| 12/12 [00:00<00:00, 38.93it/s]\n",
      "Gaps to simplify in region 29: 100%|██████████| 162/162 [00:06<00:00, 25.51it/s]\n",
      "Gaps to fill in region 29: 100%|████████████████| 12/12 [00:02<00:00,  5.74it/s]\n",
      "Gaps to simplify in region 30: 100%|████████████| 95/95 [00:01<00:00, 77.14it/s]\n",
      "Gaps to fill in region 30: 100%|██████████████████| 2/2 [00:07<00:00,  3.89s/it]\n",
      "Gaps to simplify in region 31: 100%|█████████| 316/316 [00:02<00:00, 120.68it/s]\n",
      "Gaps to fill in region 31: 100%|██████████████████| 4/4 [00:00<00:00, 40.56it/s]\n",
      "Gaps to simplify in region 32: 100%|██████████| 321/321 [00:03<00:00, 84.94it/s]\n",
      "Gaps to fill in region 32: 100%|██████████████████| 6/6 [00:00<00:00, 37.15it/s]\n",
      "Gaps to simplify in region 33: 100%|█████████| 228/228 [00:01<00:00, 122.42it/s]\n",
      "Gaps to fill in region 33: 100%|██████████████████| 2/2 [00:00<00:00, 30.64it/s]\n"
     ]
    },
    {
     "name": "stdout",
     "output_type": "stream",
     "text": [
      "1 gaps in region 34 will remain unfilled, because they either are not simply connected or exceed the area threshold.\n"
     ]
    },
    {
     "name": "stderr",
     "output_type": "stream",
     "text": [
      "Gaps to simplify in region 34: 100%|██████████| 185/185 [00:05<00:00, 33.39it/s]\n",
      "Gaps to fill in region 34: 100%|██████████████████| 7/7 [00:01<00:00,  4.86it/s]\n",
      "Gaps to simplify in region 35: 100%|██████████| 577/577 [00:23<00:00, 24.77it/s]\n",
      "Gaps to fill in region 35: 100%|██████████████████| 3/3 [00:00<00:00, 20.33it/s]\n",
      "Gaps to simplify in region 36: 100%|███████████| 77/77 [00:00<00:00, 155.81it/s]\n",
      "Gaps to fill in region 36: 100%|██████████████████| 1/1 [00:00<00:00, 57.86it/s]\n",
      "Gaps to simplify in region 37: 100%|██████████| 391/391 [00:05<00:00, 72.38it/s]\n",
      "Gaps to fill in region 37: 100%|██████████████████| 3/3 [00:00<00:00, 40.96it/s]\n",
      "Gaps to simplify in region 38: 100%|██████████| 777/777 [00:18<00:00, 42.68it/s]\n",
      "Gaps to fill in region 38: 100%|██████████████████| 4/4 [00:00<00:00, 27.77it/s]\n",
      "Gaps to simplify in region 39: 100%|████████| 1073/1073 [02:01<00:00,  8.85it/s]\n",
      "Gaps to fill in region 39: 100%|██████████████████| 3/3 [00:00<00:00, 13.73it/s]\n",
      "Gaps to simplify in region 40: 100%|█████████| 291/291 [00:02<00:00, 121.90it/s]\n",
      "Gaps to fill in region 40: 100%|████████████████| 17/17 [00:00<00:00, 54.15it/s]\n",
      "Gaps to simplify in region 41: 100%|█████████| 136/136 [00:01<00:00, 111.90it/s]\n",
      "Gaps to fill: 0it [00:00, ?it/s]\n",
      "Gaps to simplify in region 42: 100%|██████████| 232/232 [00:02<00:00, 78.62it/s]\n",
      "Gaps to fill: 0it [00:00, ?it/s]\n",
      "Gaps to simplify in region 43: 100%|█████████| 161/161 [00:01<00:00, 138.52it/s]\n",
      "Gaps to fill in region 43: 100%|██████████████████| 3/3 [00:00<00:00, 69.94it/s]\n",
      "Gaps to simplify in region 44: 100%|██████████| 281/281 [00:02<00:00, 97.45it/s]\n",
      "Gaps to fill in region 44: 100%|██████████████████| 7/7 [00:00<00:00, 37.74it/s]\n",
      "Gaps to simplify in region 45: 100%|██████████| 234/234 [00:10<00:00, 22.37it/s]\n",
      "Gaps to fill: 0it [00:00, ?it/s]\n",
      "Gaps to simplify in region 46: 100%|████████████| 86/86 [00:01<00:00, 57.58it/s]\n",
      "Gaps to fill in region 46: 100%|██████████████████| 1/1 [00:00<00:00, 16.50it/s]\n",
      "Gaps to simplify in region 47: 100%|███████████| 74/74 [00:00<00:00, 104.18it/s]\n",
      "Gaps to fill in region 47: 100%|██████████████████| 2/2 [00:00<00:00, 35.12it/s]\n",
      "Gaps to simplify in region 48: 100%|█████████| 107/107 [00:00<00:00, 149.11it/s]\n",
      "Gaps to fill in region 48: 100%|██████████████████| 2/2 [00:00<00:00, 36.17it/s]\n",
      "Gaps to simplify in region 49: 100%|█████████| 106/106 [00:00<00:00, 119.47it/s]\n",
      "Gaps to fill in region 49: 100%|██████████████████| 1/1 [00:00<00:00, 64.31it/s]\n",
      "Gaps to simplify in region 50: 100%|███████████| 98/98 [00:00<00:00, 142.29it/s]\n",
      "Gaps to fill in region 50: 100%|██████████████████| 2/2 [00:00<00:00, 43.66it/s]\n",
      "Gaps to simplify in region 51: 100%|█████████| 122/122 [00:01<00:00, 107.35it/s]\n",
      "Gaps to fill: 0it [00:00, ?it/s]\n",
      "Gaps to simplify in region 52: 100%|████████| 1059/1059 [00:18<00:00, 58.73it/s]\n",
      "Gaps to fill in region 52: 100%|██████████████████| 1/1 [00:00<00:00, 16.74it/s]\n",
      "Gaps to simplify in region 53: 100%|██████████| 223/223 [00:02<00:00, 76.57it/s]\n",
      "Gaps to fill in region 53: 100%|██████████████████| 5/5 [00:00<00:00, 28.59it/s]\n",
      "Gaps to simplify in region 54: 100%|█████████| 164/164 [00:01<00:00, 139.49it/s]\n",
      "Gaps to fill in region 54: 100%|██████████████████| 2/2 [00:00<00:00, 60.92it/s]\n",
      "Gaps to simplify in region 55: 100%|██████████| 110/110 [00:01<00:00, 96.44it/s]\n",
      "Gaps to fill in region 55: 100%|██████████████████| 2/2 [00:00<00:00, 30.43it/s]\n",
      "Gaps to simplify in region 56: 100%|██████████| 451/451 [00:05<00:00, 87.83it/s]\n",
      "Gaps to fill in region 56: 100%|██████████████████| 4/4 [00:00<00:00, 31.02it/s]\n",
      "Gaps to simplify in region 57: 100%|████████| 1183/1183 [01:02<00:00, 19.03it/s]\n",
      "Gaps to fill in region 57: 100%|██████████████████| 2/2 [00:00<00:00, 20.95it/s]\n",
      "Gaps to simplify in region 58: 100%|██████████| 864/864 [00:10<00:00, 83.24it/s]\n",
      "Gaps to fill in region 58: 100%|████████████████| 13/13 [00:00<00:00, 23.58it/s]\n",
      "Gaps to simplify in region 59: 100%|████████| 1076/1076 [00:20<00:00, 53.28it/s]\n",
      "Gaps to fill in region 59: 100%|██████████████████| 3/3 [00:00<00:00, 24.25it/s]\n",
      "Gaps to simplify in region 60: 100%|███████| 1303/1303 [00:12<00:00, 104.10it/s]\n",
      "Gaps to fill in region 60: 100%|████████████████| 13/13 [00:00<00:00, 56.73it/s]\n",
      "Gaps to simplify in region 61: 100%|████████| 1064/1064 [00:22<00:00, 46.51it/s]\n",
      "Gaps to fill in region 61: 100%|██████████████████| 4/4 [00:00<00:00, 16.96it/s]\n",
      "Gaps to simplify in region 62: 100%|██████████| 549/549 [00:05<00:00, 91.67it/s]\n",
      "Gaps to fill in region 62: 100%|██████████████████| 7/7 [00:00<00:00, 31.52it/s]\n",
      "Gaps to simplify in region 63: 100%|████████| 1119/1119 [00:20<00:00, 55.13it/s]\n",
      "Gaps to fill in region 63: 100%|██████████████████| 7/7 [00:00<00:00, 37.62it/s]\n",
      "Gaps to simplify in region 64: 100%|████████| 2176/2176 [01:41<00:00, 21.34it/s]\n",
      "Gaps to fill in region 64: 100%|████████████████| 28/28 [00:02<00:00, 11.33it/s]\n",
      "Gaps to simplify in region 65: 100%|██████████| 695/695 [00:26<00:00, 26.73it/s]\n",
      "Gaps to fill: 0it [00:00, ?it/s]\n",
      "Gaps to simplify in region 66: 100%|████████| 1702/1702 [01:03<00:00, 26.83it/s]\n",
      "Gaps to fill in region 66: 100%|██████████████████| 3/3 [00:00<00:00, 19.14it/s]\n",
      "Gaps to simplify in region 67: 100%|██████████| 151/151 [00:01<00:00, 89.59it/s]\n",
      "Gaps to fill in region 67: 100%|██████████████████| 1/1 [00:00<00:00, 29.50it/s]\n",
      "Gaps to simplify in region 68: 100%|██████████| 189/189 [00:02<00:00, 93.57it/s]\n",
      "Gaps to fill in region 68: 100%|██████████████████| 3/3 [00:00<00:00, 45.24it/s]\n",
      "Gaps to simplify in region 69: 100%|██████████| 169/169 [00:02<00:00, 79.97it/s]\n",
      "Gaps to fill in region 69: 100%|██████████████████| 7/7 [00:00<00:00, 24.32it/s]\n",
      "Gaps to simplify in region 70: 100%|██████████| 208/208 [00:04<00:00, 42.88it/s]\n",
      "Gaps to fill in region 70: 100%|██████████████████| 3/3 [00:00<00:00,  8.58it/s]\n",
      "Gaps to simplify in region 71: 100%|█████████| 311/311 [00:02<00:00, 120.43it/s]\n",
      "Gaps to fill in region 71: 100%|██████████████████| 1/1 [00:00<00:00, 38.66it/s]\n",
      "Gaps to simplify in region 72: 100%|██████████| 530/530 [00:06<00:00, 82.67it/s]\n",
      "Gaps to fill in region 72: 100%|██████████████████| 1/1 [00:00<00:00, 29.97it/s]\n",
      "Gaps to simplify in region 73: 100%|██████████| 114/114 [00:08<00:00, 12.80it/s]\n",
      "Gaps to fill in region 73: 100%|██████████████████| 3/3 [00:00<00:00, 56.24it/s]\n",
      "Gaps to simplify in region 74: 100%|██████████| 546/546 [00:07<00:00, 76.69it/s]\n",
      "Gaps to fill in region 74: 100%|██████████████████| 5/5 [00:00<00:00, 46.72it/s]\n",
      "Gaps to simplify in region 75: 100%|█████████| 178/178 [00:01<00:00, 106.66it/s]\n",
      "Gaps to fill in region 75: 100%|██████████████████| 3/3 [00:00<00:00, 41.93it/s]\n",
      "Gaps to simplify in region 76: 100%|██████████| 704/704 [00:18<00:00, 37.78it/s]\n",
      "Gaps to fill in region 76: 100%|██████████████████| 1/1 [00:00<00:00, 29.37it/s]\n",
      "Gaps to simplify in region 77: 100%|██████████| 485/485 [00:07<00:00, 63.36it/s]\n",
      "Gaps to fill in region 77: 100%|██████████████████| 4/4 [00:00<00:00, 25.99it/s]\n",
      "Gaps to simplify in region 78: 100%|██████████| 747/747 [00:12<00:00, 62.10it/s]\n",
      "Gaps to fill in region 78: 100%|██████████████████| 3/3 [00:00<00:00, 38.29it/s]\n",
      "Gaps to simplify in region 79: 100%|██████████| 696/696 [00:27<00:00, 25.51it/s]\n",
      "Gaps to fill in region 79: 100%|██████████████████| 3/3 [00:00<00:00,  9.79it/s]\n",
      "Gaps to simplify in region 80: 100%|████████████| 93/93 [00:01<00:00, 89.21it/s]\n",
      "Gaps to fill: 0it [00:00, ?it/s]\n",
      "Gaps to simplify in region 81: 100%|███████████| 84/84 [00:00<00:00, 147.57it/s]\n",
      "Gaps to fill in region 81: 100%|██████████████████| 2/2 [00:00<00:00, 50.99it/s]\n",
      "Gaps to simplify in region 82: 100%|███████████| 89/89 [00:00<00:00, 118.71it/s]\n",
      "Gaps to fill: 0it [00:00, ?it/s]\n",
      "Gaps to simplify in region 83: 100%|████████| 1585/1585 [00:34<00:00, 45.98it/s]\n",
      "Gaps to fill in region 83: 100%|██████████████████| 2/2 [00:00<00:00, 22.78it/s]\n",
      "Gaps to simplify in region 84: 100%|█████████| 479/479 [00:04<00:00, 107.44it/s]\n",
      "Gaps to fill in region 84: 100%|████████████████| 15/15 [00:00<00:00, 45.45it/s]\n",
      "Gaps to simplify in region 85: 100%|█████████| 155/155 [00:01<00:00, 106.81it/s]\n",
      "Gaps to fill: 0it [00:00, ?it/s]\n",
      "Gaps to simplify in region 86: 100%|█████████| 127/127 [00:00<00:00, 155.52it/s]\n",
      "Gaps to fill: 0it [00:00, ?it/s]\n",
      "Gaps to simplify in region 87: 100%|██████████| 184/184 [00:02<00:00, 85.57it/s]\n",
      "Gaps to fill in region 87: 100%|██████████████████| 6/6 [00:00<00:00, 34.21it/s]\n",
      "Gaps to simplify in region 88: 100%|██████████| 742/742 [00:18<00:00, 39.30it/s]\n",
      "Gaps to fill: 0it [00:00, ?it/s]\n",
      "Gaps to simplify in region 89: 100%|██████████| 865/865 [00:13<00:00, 62.97it/s]\n",
      "Gaps to fill in region 89: 100%|██████████████████| 6/6 [00:00<00:00, 33.17it/s]\n",
      "Gaps to simplify in region 90: 100%|████████| 2613/2613 [01:06<00:00, 39.11it/s]\n",
      "Gaps to fill in region 90: 100%|██████████████████| 1/1 [00:00<00:00, 12.58it/s]\n",
      "Gaps to simplify in region 91: 100%|███████████| 96/96 [00:00<00:00, 157.27it/s]\n",
      "Gaps to fill in region 91: 100%|██████████████████| 1/1 [00:00<00:00, 51.30it/s]\n",
      "Gaps to simplify in region 92: 100%|████████| 1222/1222 [00:24<00:00, 50.31it/s]\n",
      "Gaps to fill in region 92: 100%|██████████████████| 1/1 [00:00<00:00, 19.53it/s]\n",
      "Gaps to simplify in region 93: 100%|█████████| 146/146 [00:00<00:00, 160.27it/s]\n",
      "Gaps to fill: 0it [00:00, ?it/s]\n",
      "Gaps to simplify in region 94: 100%|███████████| 70/70 [00:00<00:00, 131.59it/s]\n",
      "Gaps to fill in region 94: 100%|██████████████████| 1/1 [00:00<00:00, 58.60it/s]\n",
      "Gaps to simplify in region 95: 100%|████████| 1204/1204 [00:33<00:00, 36.21it/s]\n",
      "Gaps to fill in region 95: 100%|██████████████████| 4/4 [00:00<00:00, 19.50it/s]\n",
      "Gaps to simplify in region 96: 100%|██████████| 238/238 [00:05<00:00, 40.54it/s]\n",
      "Gaps to fill in region 96: 100%|██████████████████| 2/2 [00:00<00:00, 24.93it/s]\n",
      "Gaps to simplify in region 97: 100%|████████| 1197/1197 [00:30<00:00, 38.62it/s]\n",
      "Gaps to fill in region 97: 100%|██████████████████| 3/3 [00:00<00:00, 15.50it/s]\n",
      "Gaps to simplify in region 98: 100%|██████████| 388/388 [00:04<00:00, 94.30it/s]\n",
      "Gaps to fill in region 98: 100%|██████████████████| 1/1 [00:00<00:00, 31.15it/s]\n",
      "Gaps to simplify in region 99: 100%|███████████| 79/79 [00:00<00:00, 152.21it/s]\n",
      "Gaps to fill in region 99: 100%|██████████████████| 2/2 [00:00<00:00, 46.63it/s]\n",
      "Gaps to simplify in region 100: 100%|█████████| 584/584 [00:10<00:00, 53.68it/s]\n",
      "Gaps to fill in region 100: 100%|█████████████████| 1/1 [00:00<00:00, 30.20it/s]\n",
      "Gaps to simplify in region 101: 100%|████████| 233/233 [00:02<00:00, 110.86it/s]\n",
      "Gaps to fill in region 101: 100%|█████████████████| 3/3 [00:00<00:00, 35.96it/s]\n",
      "Gaps to simplify in region 102: 100%|████████| 243/243 [00:02<00:00, 114.42it/s]\n",
      "Gaps to fill in region 102: 100%|█████████████████| 3/3 [00:00<00:00, 39.12it/s]\n",
      "Gaps to simplify in region 103: 100%|█████████| 251/251 [00:04<00:00, 54.97it/s]\n",
      "Gaps to fill in region 103: 100%|█████████████████| 1/1 [00:00<00:00, 19.15it/s]\n",
      "Gaps to simplify in region 104: 100%|█████████| 203/203 [00:02<00:00, 83.15it/s]\n",
      "Gaps to fill: 0it [00:00, ?it/s]\n",
      "Gaps to simplify in region 105: 100%|█████████| 315/315 [00:04<00:00, 73.40it/s]\n",
      "Gaps to fill in region 105: 100%|█████████████████| 1/1 [00:00<00:00, 26.15it/s]\n",
      "Gaps to simplify in region 106: 100%|█████████| 118/118 [00:01<00:00, 65.77it/s]\n",
      "Gaps to fill in region 106: 100%|█████████████████| 1/1 [00:00<00:00, 24.64it/s]\n",
      "Gaps to simplify in region 107: 100%|████████| 268/268 [00:02<00:00, 109.22it/s]\n",
      "Gaps to fill in region 107: 100%|█████████████████| 3/3 [00:00<00:00, 51.56it/s]\n",
      "Gaps to simplify in region 108: 100%|████████| 281/281 [00:02<00:00, 109.48it/s]\n",
      "Gaps to fill in region 108: 100%|█████████████████| 2/2 [00:00<00:00, 44.38it/s]\n",
      "Gaps to simplify in region 109: 100%|█████████| 135/135 [00:01<00:00, 96.45it/s]\n",
      "Gaps to fill in region 109: 100%|█████████████████| 2/2 [00:00<00:00, 47.02it/s]\n",
      "Gaps to simplify in region 110: 100%|███████| 1037/1037 [00:25<00:00, 40.19it/s]\n",
      "Gaps to fill in region 110: 100%|█████████████████| 5/5 [00:00<00:00, 21.16it/s]\n",
      "Gaps to simplify in region 111: 100%|████████| 563/563 [00:04<00:00, 119.42it/s]\n",
      "Gaps to fill in region 111: 100%|█████████████████| 3/3 [00:00<00:00, 52.64it/s]\n",
      "Gaps to simplify in region 112: 100%|█████████| 232/232 [00:02<00:00, 87.81it/s]\n",
      "Gaps to fill in region 112: 100%|█████████████████| 6/6 [00:00<00:00, 26.99it/s]\n",
      "Gaps to simplify in region 113: 100%|████████| 247/247 [00:02<00:00, 115.66it/s]\n",
      "Gaps to fill in region 113: 100%|█████████████████| 2/2 [00:00<00:00, 35.93it/s]\n",
      "Gaps to simplify in region 114: 100%|███████| 1264/1264 [00:15<00:00, 79.64it/s]\n",
      "Gaps to fill in region 114: 100%|█████████████████| 6/6 [00:00<00:00, 40.39it/s]\n",
      "Gaps to simplify in region 115: 100%|█████████| 452/452 [00:04<00:00, 91.29it/s]\n",
      "Gaps to fill in region 115: 100%|█████████████████| 2/2 [00:00<00:00, 37.84it/s]\n",
      "Gaps to simplify in region 116: 100%|████████| 132/132 [00:01<00:00, 113.95it/s]\n",
      "Gaps to fill in region 116: 100%|█████████████████| 2/2 [00:00<00:00, 31.74it/s]\n",
      "Gaps to simplify in region 117: 100%|█████████| 141/141 [00:01<00:00, 79.22it/s]\n",
      "Gaps to fill in region 117: 100%|█████████████████| 1/1 [00:00<00:00, 43.52it/s]\n",
      "Gaps to simplify in region 118: 100%|█████████| 910/910 [00:19<00:00, 46.93it/s]\n",
      "Gaps to fill in region 118: 100%|█████████████████| 2/2 [00:00<00:00, 56.32it/s]\n",
      "Gaps to simplify in region 119: 100%|████████| 140/140 [00:01<00:00, 139.77it/s]\n",
      "Gaps to fill in region 119: 100%|█████████████████| 1/1 [00:00<00:00, 48.76it/s]\n",
      "Gaps to simplify in region 120: 100%|█████████| 911/911 [00:11<00:00, 81.84it/s]\n",
      "Gaps to fill in region 120: 100%|█████████████████| 4/4 [00:00<00:00, 50.19it/s]\n",
      "Gaps to simplify in region 121: 100%|███████| 1247/1247 [00:17<00:00, 70.85it/s]\n",
      "Gaps to fill in region 121: 100%|█████████████████| 4/4 [00:00<00:00, 29.69it/s]\n",
      "Gaps to simplify in region 122: 100%|█████████| 169/169 [00:02<00:00, 74.78it/s]\n",
      "Gaps to fill in region 122: 100%|█████████████████| 2/2 [00:00<00:00, 34.63it/s]\n",
      "Gaps to simplify in region 123: 100%|████████| 251/251 [00:02<00:00, 109.29it/s]\n",
      "Gaps to fill in region 123: 100%|█████████████████| 1/1 [00:00<00:00, 34.63it/s]\n",
      "Gaps to simplify in region 124: 100%|█████████| 753/753 [00:13<00:00, 57.11it/s]\n",
      "Gaps to fill: 0it [00:00, ?it/s]\n",
      "Gaps to simplify in region 125: 100%|█████████| 658/658 [00:08<00:00, 81.36it/s]\n",
      "Gaps to fill in region 125: 100%|█████████████████| 3/3 [00:00<00:00, 48.35it/s]\n",
      "Gaps to simplify in region 126: 100%|████████| 185/185 [00:01<00:00, 148.39it/s]\n",
      "Gaps to fill in region 126: 100%|█████████████████| 6/6 [00:00<00:00, 49.57it/s]\n",
      "Gaps to simplify in region 127: 100%|█████████| 192/192 [00:03<00:00, 48.91it/s]\n",
      "Gaps to fill in region 127: 100%|█████████████████| 2/2 [00:00<00:00, 17.33it/s]\n",
      "Gaps to simplify in region 128: 100%|████████| 156/156 [00:01<00:00, 109.72it/s]\n",
      "Gaps to fill in region 128: 100%|█████████████████| 4/4 [00:00<00:00, 48.24it/s]\n",
      "Gaps to simplify in region 129: 100%|█████████| 263/263 [00:04<00:00, 60.01it/s]\n",
      "Gaps to fill in region 129: 100%|█████████████████| 4/4 [00:00<00:00, 23.70it/s]\n",
      "Gaps to simplify in region 130: 100%|████████| 143/143 [00:00<00:00, 157.77it/s]\n",
      "Gaps to fill in region 130: 100%|█████████████████| 6/6 [00:00<00:00, 58.13it/s]\n",
      "Gaps to simplify in region 131: 100%|██████████| 82/82 [00:00<00:00, 158.25it/s]\n",
      "Gaps to fill in region 131: 100%|█████████████████| 3/3 [00:00<00:00, 56.19it/s]\n",
      "Gaps to simplify in region 132: 100%|████████| 183/183 [00:01<00:00, 142.87it/s]\n",
      "Gaps to fill in region 132: 100%|█████████████████| 1/1 [00:00<00:00, 43.17it/s]\n",
      "Gaps to simplify in region 133: 100%|█████████| 665/665 [00:08<00:00, 76.64it/s]\n",
      "Gaps to fill in region 133: 100%|█████████████████| 1/1 [00:00<00:00, 24.52it/s]\n",
      "Gaps to simplify in region 134: 100%|██████████| 97/97 [00:00<00:00, 136.71it/s]\n",
      "Gaps to fill: 0it [00:00, ?it/s]\n",
      "Gaps to simplify in region 135: 100%|███████| 1376/1376 [00:25<00:00, 53.29it/s]\n",
      "Gaps to fill in region 135: 100%|█████████████████| 1/1 [00:00<00:00, 20.93it/s]\n",
      "Gaps to simplify in region 136: 100%|████████| 220/220 [00:02<00:00, 101.39it/s]\n",
      "Gaps to fill in region 136: 100%|█████████████████| 1/1 [00:00<00:00, 23.87it/s]\n",
      "Gaps to simplify in region 137: 100%|████████| 311/311 [00:02<00:00, 115.24it/s]\n",
      "Gaps to fill in region 137: 100%|█████████████████| 2/2 [00:00<00:00, 33.26it/s]\n",
      "Gaps to simplify in region 138: 100%|█████████| 409/409 [00:04<00:00, 85.81it/s]\n",
      "Gaps to fill in region 138: 100%|█████████████████| 2/2 [00:00<00:00, 38.88it/s]\n",
      "Gaps to simplify in region 139: 100%|████████| 137/137 [00:01<00:00, 123.59it/s]\n",
      "Gaps to fill in region 139: 100%|█████████████████| 1/1 [00:00<00:00, 36.67it/s]\n",
      "Gaps to simplify in region 140: 100%|███████| 1030/1030 [00:14<00:00, 70.66it/s]\n",
      "Gaps to fill in region 140: 100%|█████████████████| 3/3 [00:00<00:00, 43.71it/s]\n",
      "Gaps to simplify in region 141: 100%|█████████| 127/127 [00:01<00:00, 85.91it/s]\n",
      "Gaps to fill in region 141: 100%|█████████████████| 1/1 [00:00<00:00, 26.94it/s]\n",
      "Gaps to simplify in region 142: 100%|█████████| 686/686 [00:15<00:00, 43.34it/s]\n",
      "Gaps to fill in region 142: 100%|█████████████████| 3/3 [00:00<00:00, 28.23it/s]\n",
      "Gaps to simplify in region 143: 100%|████████| 135/135 [00:01<00:00, 102.88it/s]\n",
      "Gaps to fill in region 143: 100%|█████████████████| 2/2 [00:00<00:00, 37.85it/s]\n",
      "Gaps to simplify in region 144: 100%|██████████| 68/68 [00:00<00:00, 160.50it/s]\n",
      "Gaps to fill in region 144: 100%|█████████████████| 4/4 [00:00<00:00, 54.29it/s]\n",
      "Gaps to simplify in region 145: 100%|█████████| 152/152 [00:01<00:00, 77.80it/s]\n",
      "Gaps to fill in region 145: 100%|█████████████████| 1/1 [00:00<00:00, 21.94it/s]\n",
      "Gaps to simplify in region 146: 100%|█████████| 744/744 [00:16<00:00, 45.23it/s]\n",
      "Gaps to fill in region 146: 100%|█████████████████| 3/3 [00:00<00:00, 16.56it/s]\n",
      "Gaps to simplify in region 147: 100%|████████| 171/171 [00:01<00:00, 103.47it/s]\n",
      "Gaps to fill: 0it [00:00, ?it/s]\n",
      "Gaps to simplify in region 148: 100%|█████████| 204/204 [00:03<00:00, 67.30it/s]\n",
      "Gaps to fill in region 148: 100%|█████████████████| 1/1 [00:00<00:00, 16.49it/s]\n",
      "Gaps to simplify in region 149: 100%|█████████| 286/286 [00:04<00:00, 58.73it/s]\n",
      "Gaps to fill in region 149: 100%|█████████████████| 3/3 [00:00<00:00, 26.65it/s]\n",
      "Gaps to simplify in region 150: 100%|████████| 180/180 [00:01<00:00, 119.78it/s]\n",
      "Gaps to fill in region 150: 100%|█████████████████| 2/2 [00:00<00:00, 37.27it/s]\n",
      "Gaps to simplify in region 151: 100%|████████| 110/110 [00:00<00:00, 111.37it/s]\n",
      "Gaps to fill in region 151: 100%|█████████████████| 2/2 [00:00<00:00, 33.92it/s]\n",
      "Gaps to simplify in region 152: 100%|█████████| 211/211 [00:02<00:00, 74.05it/s]\n",
      "Gaps to fill in region 152: 100%|█████████████████| 2/2 [00:00<00:00, 34.39it/s]\n",
      "Gaps to simplify in region 153: 100%|█████████| 144/144 [00:05<00:00, 27.02it/s]\n",
      "Gaps to fill in region 153: 100%|█████████████████| 1/1 [00:00<00:00, 11.79it/s]\n",
      "Gaps to simplify in region 154: 100%|█████████| 669/669 [00:14<00:00, 45.49it/s]\n",
      "Gaps to fill in region 154: 100%|█████████████████| 3/3 [00:00<00:00, 24.55it/s]\n",
      "Gaps to simplify in region 155: 100%|████████| 118/118 [00:01<00:00, 115.64it/s]\n",
      "Gaps to fill in region 155: 100%|█████████████████| 1/1 [00:00<00:00, 29.45it/s]\n",
      "Gaps to simplify in region 156: 100%|█████████| 191/191 [00:01<00:00, 98.80it/s]\n",
      "Gaps to fill in region 156: 100%|█████████████████| 2/2 [00:00<00:00, 29.48it/s]\n",
      "Gaps to simplify in region 157: 100%|███████| 1266/1266 [00:20<00:00, 60.84it/s]\n",
      "Gaps to fill in region 157: 100%|█████████████████| 7/7 [00:00<00:00, 29.93it/s]\n",
      "Gaps to simplify in region 158: 100%|█████████| 161/161 [00:01<00:00, 87.41it/s]\n",
      "Gaps to fill: 0it [00:00, ?it/s]\n",
      "Gaps to simplify in region 159: 100%|█████████| 135/135 [00:01<00:00, 83.60it/s]\n",
      "Gaps to fill: 0it [00:00, ?it/s]\n",
      "Gaps to simplify in region 160: 100%|███████| 1067/1067 [00:16<00:00, 64.27it/s]\n",
      "Gaps to fill in region 160: 100%|█████████████████| 2/2 [00:00<00:00, 24.74it/s]\n",
      "Gaps to simplify in region 161: 100%|█████████| 856/856 [00:15<00:00, 55.96it/s]\n",
      "Gaps to fill: 0it [00:00, ?it/s]\n",
      "Gaps to simplify in region 162: 100%|█████████| 226/226 [00:04<00:00, 52.89it/s]\n",
      "Gaps to fill: 0it [00:00, ?it/s]\n",
      "Gaps to simplify in region 163: 100%|█████████| 493/493 [00:10<00:00, 46.11it/s]\n",
      "Gaps to fill in region 163: 100%|█████████████████| 3/3 [00:00<00:00, 19.45it/s]\n",
      "Gaps to simplify in region 164: 100%|████████| 244/244 [00:02<00:00, 113.94it/s]\n",
      "Gaps to fill in region 164: 100%|█████████████████| 2/2 [00:00<00:00, 33.14it/s]\n",
      "Gaps to simplify in region 165: 100%|█████████| 789/789 [00:38<00:00, 20.69it/s]\n",
      "Gaps to fill: 0it [00:00, ?it/s]\n",
      "Gaps to simplify in region 166: 100%|████████| 343/343 [00:03<00:00, 104.02it/s]\n",
      "Gaps to fill: 0it [00:00, ?it/s]\n",
      "Gaps to simplify in region 167: 100%|█████████| 905/905 [00:14<00:00, 63.91it/s]\n",
      "Gaps to fill in region 167: 100%|█████████████████| 3/3 [00:00<00:00, 20.13it/s]\n",
      "Gaps to simplify in region 168: 100%|██████████| 65/65 [00:00<00:00, 182.94it/s]\n",
      "Gaps to fill in region 168: 100%|█████████████████| 2/2 [00:00<00:00, 59.50it/s]\n",
      "Gaps to simplify in region 169: 100%|████████| 188/188 [00:01<00:00, 149.41it/s]\n",
      "Gaps to fill: 0it [00:00, ?it/s]\n",
      "Gaps to simplify in region 170: 100%|█████████| 194/194 [00:02<00:00, 78.67it/s]\n",
      "Gaps to fill in region 170: 100%|█████████████████| 2/2 [00:00<00:00, 16.40it/s]\n",
      "Gaps to simplify in region 171: 100%|███████| 1056/1056 [00:12<00:00, 86.43it/s]\n",
      "Gaps to fill: 0it [00:00, ?it/s]\n",
      "Gaps to simplify in region 172: 100%|█████████| 221/221 [00:03<00:00, 71.76it/s]\n",
      "Gaps to fill in region 172: 100%|█████████████████| 1/1 [00:00<00:00, 27.41it/s]\n",
      "Gaps to simplify in region 173: 100%|█████████| 209/209 [00:02<00:00, 83.02it/s]\n",
      "Gaps to fill: 0it [00:00, ?it/s]\n",
      "Gaps to simplify in region 174: 100%|██████████| 66/66 [00:00<00:00, 164.48it/s]\n",
      "Gaps to fill: 0it [00:00, ?it/s]\n",
      "Gaps to simplify in region 175: 100%|████████| 149/149 [00:01<00:00, 102.14it/s]\n",
      "Gaps to fill in region 175: 100%|█████████████████| 3/3 [00:00<00:00, 37.13it/s]\n",
      "Gaps to simplify in region 176: 100%|█████████| 262/262 [00:05<00:00, 47.39it/s]\n",
      "Gaps to fill in region 176: 100%|█████████████████| 1/1 [00:00<00:00, 18.62it/s]\n",
      "Gaps to simplify in region 177: 100%|████████| 168/168 [00:01<00:00, 134.98it/s]\n",
      "Gaps to fill in region 177: 100%|█████████████████| 1/1 [00:00<00:00, 40.76it/s]\n",
      "Gaps to simplify in region 178: 100%|█████████| 387/387 [00:05<00:00, 71.78it/s]\n",
      "Gaps to fill in region 178: 100%|█████████████████| 1/1 [00:00<00:00, 25.53it/s]\n",
      "Gaps to simplify in region 179: 100%|███████| 1559/1559 [01:13<00:00, 21.10it/s]\n",
      "Gaps to fill: 0it [00:00, ?it/s]\n",
      "Gaps to simplify in region 180: 100%|████████| 283/283 [00:02<00:00, 108.94it/s]\n",
      "Gaps to fill in region 180: 100%|█████████████████| 4/4 [00:00<00:00, 38.15it/s]\n",
      "Gaps to simplify in region 181: 100%|█████████| 108/108 [00:03<00:00, 28.55it/s]\n",
      "Gaps to fill in region 181: 100%|█████████████████| 1/1 [00:00<00:00, 15.90it/s]\n",
      "Gaps to simplify in region 182: 100%|████████| 102/102 [00:00<00:00, 102.45it/s]\n",
      "Gaps to fill: 0it [00:00, ?it/s]\n",
      "Gaps to simplify in region 183: 100%|█████████| 224/224 [00:02<00:00, 83.72it/s]\n",
      "Gaps to fill in region 183: 100%|█████████████████| 1/1 [00:00<00:00, 19.61it/s]\n",
      "Gaps to simplify in region 184: 100%|████████| 141/141 [00:01<00:00, 131.27it/s]\n",
      "Gaps to fill in region 184: 100%|█████████████████| 3/3 [00:00<00:00, 46.98it/s]\n",
      "Gaps to simplify in region 185: 100%|█████████| 124/124 [00:01<00:00, 68.52it/s]\n",
      "Gaps to fill in region 185: 100%|█████████████████| 1/1 [00:00<00:00, 49.16it/s]\n",
      "Gaps to simplify in region 186: 100%|████████| 116/116 [00:00<00:00, 135.49it/s]\n",
      "Gaps to fill in region 186: 100%|█████████████████| 2/2 [00:00<00:00, 49.40it/s]\n",
      "Gaps to simplify in region 187: 100%|██████████| 68/68 [00:00<00:00, 165.77it/s]\n",
      "Gaps to fill: 0it [00:00, ?it/s]\n",
      "Gaps to simplify in region 188: 100%|█████████| 119/119 [00:02<00:00, 46.77it/s]\n",
      "Gaps to fill in region 188: 100%|█████████████████| 1/1 [00:00<00:00, 34.80it/s]\n",
      "Gaps to simplify in region 189: 100%|█████████| 497/497 [00:06<00:00, 73.02it/s]\n",
      "Gaps to fill in region 189: 100%|█████████████████| 2/2 [00:00<00:00, 25.12it/s]\n",
      "Gaps to simplify in region 190: 100%|█████████| 544/544 [00:08<00:00, 64.65it/s]\n",
      "Gaps to fill in region 190: 100%|█████████████████| 1/1 [00:00<00:00, 30.64it/s]\n",
      "Gaps to simplify in region 191: 100%|██████████| 79/79 [00:00<00:00, 188.13it/s]\n",
      "Gaps to fill: 0it [00:00, ?it/s]\n",
      "Gaps to simplify in region 192: 100%|███████| 1029/1029 [00:19<00:00, 51.75it/s]\n",
      "Gaps to fill in region 192: 100%|█████████████████| 2/2 [00:00<00:00, 30.80it/s]\n",
      "Gaps to simplify in region 193: 100%|███████| 1034/1034 [00:17<00:00, 59.98it/s]\n",
      "Gaps to fill: 0it [00:00, ?it/s]\n",
      "Gaps to simplify in region 194: 100%|████████| 169/169 [00:01<00:00, 116.74it/s]\n",
      "Gaps to fill in region 194: 100%|█████████████████| 4/4 [00:00<00:00, 35.80it/s]\n",
      "Gaps to simplify in region 195: 100%|█████████| 193/193 [00:02<00:00, 79.55it/s]\n",
      "Gaps to fill in region 195: 100%|█████████████████| 2/2 [00:00<00:00, 27.04it/s]\n",
      "Gaps to simplify in region 196: 100%|████████| 206/206 [00:01<00:00, 133.50it/s]\n",
      "Gaps to fill in region 196: 100%|█████████████████| 4/4 [00:00<00:00, 51.61it/s]\n",
      "Gaps to simplify in region 197: 100%|████████| 289/289 [00:02<00:00, 107.50it/s]\n",
      "Gaps to fill in region 197: 100%|█████████████████| 1/1 [00:00<00:00, 31.11it/s]\n",
      "Gaps to simplify in region 198: 100%|█████████| 541/541 [00:14<00:00, 37.45it/s]\n",
      "Gaps to fill: 0it [00:00, ?it/s]\n",
      "Gaps to simplify in region 199: 100%|█████████| 410/410 [00:07<00:00, 53.63it/s]\n",
      "Gaps to fill in region 199: 100%|█████████████████| 1/1 [00:00<00:00, 18.55it/s]\n",
      "Gaps to simplify in region 200: 100%|████████| 242/242 [00:01<00:00, 143.46it/s]\n",
      "Gaps to fill in region 200: 100%|█████████████████| 1/1 [00:00<00:00, 32.78it/s]\n",
      "Gaps to simplify in region 201: 100%|████████| 192/192 [00:01<00:00, 108.89it/s]\n",
      "Gaps to fill: 0it [00:00, ?it/s]\n",
      "Gaps to simplify in region 202: 100%|█████████| 705/705 [00:07<00:00, 88.48it/s]\n",
      "Gaps to fill in region 202: 100%|█████████████████| 3/3 [00:00<00:00, 33.80it/s]\n",
      "Gaps to simplify in region 203: 100%|█████████| 339/339 [00:04<00:00, 76.37it/s]\n",
      "Gaps to fill in region 203: 100%|█████████████████| 6/6 [00:00<00:00, 32.43it/s]\n",
      "Gaps to simplify in region 204: 100%|████████| 286/286 [00:02<00:00, 118.71it/s]\n",
      "Gaps to fill in region 204: 100%|█████████████████| 3/3 [00:00<00:00, 40.86it/s]\n",
      "Gaps to simplify in region 205: 100%|█████████| 181/181 [00:01<00:00, 99.74it/s]\n",
      "Gaps to fill in region 205: 100%|█████████████████| 1/1 [00:01<00:00,  1.31s/it]\n",
      "Gaps to simplify in region 206: 100%|███████████| 61/61 [00:00<00:00, 91.74it/s]\n",
      "Gaps to fill in region 206: 100%|█████████████████| 3/3 [00:00<00:00, 27.18it/s]\n",
      "Gaps to simplify in region 207: 100%|████████| 130/130 [00:01<00:00, 129.46it/s]\n",
      "Gaps to fill in region 207: 100%|█████████████████| 1/1 [00:00<00:00, 36.82it/s]\n",
      "Gaps to simplify in region 208: 100%|████████| 251/251 [00:02<00:00, 102.31it/s]\n",
      "Gaps to fill in region 208: 100%|█████████████████| 2/2 [00:00<00:00, 51.56it/s]\n",
      "Gaps to simplify in region 209: 100%|█████████| 952/952 [00:21<00:00, 43.52it/s]\n",
      "Gaps to fill in region 209: 100%|█████████████████| 2/2 [00:00<00:00, 22.76it/s]\n",
      "Gaps to simplify in region 210: 100%|████████| 154/154 [00:01<00:00, 112.56it/s]\n",
      "Gaps to fill: 0it [00:00, ?it/s]\n",
      "Gaps to simplify in region 211: 100%|█████████| 191/191 [00:04<00:00, 39.30it/s]\n",
      "Gaps to fill in region 211: 100%|█████████████████| 1/1 [00:00<00:00, 41.10it/s]\n",
      "Gaps to simplify in region 212: 100%|████████| 161/161 [00:01<00:00, 116.96it/s]\n",
      "Gaps to fill: 0it [00:00, ?it/s]\n",
      "Gaps to simplify in region 213: 100%|███████| 1592/1592 [00:40<00:00, 38.88it/s]\n",
      "Gaps to fill: 0it [00:00, ?it/s]\n",
      "Gaps to simplify in region 214: 100%|█████████| 183/183 [00:02<00:00, 79.67it/s]\n",
      "Gaps to fill in region 214: 100%|█████████████████| 1/1 [00:00<00:00, 25.60it/s]\n",
      "Gaps to simplify in region 215: 100%|████████| 219/219 [00:01<00:00, 118.43it/s]\n",
      "Gaps to fill: 0it [00:00, ?it/s]\n",
      "Gaps to simplify in region 216: 100%|████████| 139/139 [00:01<00:00, 127.92it/s]\n",
      "Gaps to fill in region 216: 100%|█████████████████| 4/4 [00:00<00:00, 48.40it/s]\n",
      "Gaps to simplify in region 217: 100%|█████████| 847/847 [00:25<00:00, 33.48it/s]\n",
      "Gaps to fill in region 217: 100%|█████████████████| 2/2 [00:00<00:00, 29.63it/s]\n",
      "Gaps to simplify in region 218: 100%|████████| 114/114 [00:00<00:00, 140.10it/s]\n",
      "Gaps to fill in region 218: 100%|█████████████████| 2/2 [00:00<00:00, 40.15it/s]\n",
      "Gaps to simplify in region 219: 100%|█████████| 187/187 [00:03<00:00, 53.11it/s]\n",
      "Gaps to fill in region 219: 100%|█████████████████| 3/3 [00:00<00:00, 27.31it/s]\n",
      "Gaps to simplify in region 220: 100%|█████████| 207/207 [00:05<00:00, 36.65it/s]\n",
      "Gaps to fill in region 220: 100%|█████████████████| 1/1 [00:00<00:00, 22.13it/s]\n",
      "Gaps to simplify in region 221: 100%|█████████| 329/329 [00:03<00:00, 97.76it/s]\n",
      "Gaps to fill: 0it [00:00, ?it/s]\n",
      "Gaps to simplify in region 222: 100%|████████| 231/231 [00:01<00:00, 141.61it/s]\n",
      "Gaps to fill in region 222: 100%|█████████████████| 9/9 [00:00<00:00, 51.32it/s]\n",
      "Gaps to simplify in region 223: 100%|████████| 129/129 [00:01<00:00, 110.92it/s]\n",
      "Gaps to fill: 0it [00:00, ?it/s]\n",
      "Gaps to simplify in region 224: 100%|█████████| 142/142 [00:03<00:00, 43.12it/s]\n",
      "Gaps to fill in region 224: 100%|█████████████████| 1/1 [00:00<00:00, 20.33it/s]\n",
      "Gaps to simplify in region 225: 100%|█████████| 468/468 [00:09<00:00, 49.15it/s]\n",
      "Gaps to fill in region 225: 100%|█████████████████| 1/1 [00:00<00:00, 16.73it/s]\n",
      "Gaps to simplify in region 226: 100%|██████████| 84/84 [00:00<00:00, 184.30it/s]\n",
      "Gaps to fill: 0it [00:00, ?it/s]\n",
      "Gaps to simplify in region 227: 100%|█████████| 628/628 [00:24<00:00, 25.59it/s]\n",
      "Gaps to fill: 0it [00:00, ?it/s]\n",
      "Gaps to simplify in region 228: 100%|█████████| 389/389 [00:10<00:00, 38.18it/s]\n",
      "Gaps to fill: 0it [00:00, ?it/s]\n",
      "Gaps to simplify in region 229: 100%|█████████| 494/494 [00:23<00:00, 20.70it/s]\n",
      "Gaps to fill in region 229: 100%|█████████████████| 1/1 [00:00<00:00, 12.62it/s]\n",
      "Gaps to simplify in region 230: 100%|█████████| 665/665 [00:21<00:00, 30.27it/s]\n",
      "Gaps to fill in region 230: 100%|█████████████████| 5/5 [00:00<00:00, 13.54it/s]\n",
      "Gaps to simplify in region 231: 100%|█████████| 172/172 [00:03<00:00, 55.19it/s]\n",
      "Gaps to fill in region 231: 100%|█████████████████| 1/1 [00:00<00:00, 39.15it/s]\n",
      "Gaps to simplify in region 232: 100%|████████| 229/229 [00:02<00:00, 102.67it/s]\n",
      "Gaps to fill: 0it [00:00, ?it/s]\n",
      "Gaps to simplify in region 233: 100%|█████████| 154/154 [00:02<00:00, 70.83it/s]\n",
      "Gaps to fill: 0it [00:00, ?it/s]\n",
      "Gaps to simplify in region 234: 100%|█████████| 224/224 [00:03<00:00, 73.10it/s]\n",
      "Gaps to fill in region 234: 100%|█████████████████| 1/1 [00:00<00:00, 20.59it/s]\n",
      "Gaps to simplify in region 235: 100%|█████████| 626/626 [00:13<00:00, 45.13it/s]\n",
      "Gaps to fill in region 235: 100%|█████████████████| 2/2 [00:00<00:00, 18.94it/s]\n",
      "Gaps to simplify in region 236: 100%|██████████| 97/97 [00:00<00:00, 142.67it/s]\n",
      "Gaps to fill: 0it [00:00, ?it/s]\n",
      "Gaps to simplify in region 237: 100%|█████████| 293/293 [00:05<00:00, 57.96it/s]\n",
      "Gaps to fill in region 237: 100%|█████████████████| 1/1 [00:00<00:00, 28.79it/s]\n",
      "Gaps to simplify in region 238: 100%|█████████| 422/422 [00:06<00:00, 66.82it/s]\n",
      "Gaps to fill: 0it [00:00, ?it/s]\n",
      "Gaps to simplify in region 239: 100%|█████████| 433/433 [00:12<00:00, 35.36it/s]\n",
      "Gaps to fill in region 239: 100%|█████████████████| 3/3 [00:00<00:00, 20.72it/s]\n",
      "Gaps to simplify in region 240: 100%|████████| 143/143 [00:01<00:00, 123.02it/s]\n",
      "Gaps to fill in region 240: 100%|█████████████████| 3/3 [00:00<00:00, 46.01it/s]\n",
      "Gaps to simplify in region 241: 100%|█████████| 119/119 [00:04<00:00, 29.02it/s]\n",
      "Gaps to fill in region 241: 100%|█████████████████| 1/1 [00:00<00:00, 19.62it/s]\n",
      "Gaps to simplify in region 242: 100%|████████| 115/115 [00:00<00:00, 128.38it/s]\n",
      "Gaps to fill: 0it [00:00, ?it/s]\n",
      "Gaps to simplify in region 243: 100%|████████| 108/108 [00:00<00:00, 139.35it/s]\n",
      "Gaps to fill in region 243: 100%|█████████████████| 1/1 [00:00<00:00, 44.60it/s]\n",
      "Gaps to simplify in region 244: 100%|████████| 376/376 [00:03<00:00, 110.32it/s]\n",
      "Gaps to fill in region 244: 100%|█████████████████| 1/1 [00:00<00:00, 54.04it/s]\n",
      "Gaps to simplify in region 245: 100%|█████████| 376/376 [00:18<00:00, 20.30it/s]\n",
      "Gaps to fill in region 245: 100%|█████████████████| 1/1 [00:00<00:00, 22.63it/s]\n",
      "Gaps to simplify in region 246: 100%|█████████| 375/375 [00:12<00:00, 30.05it/s]\n",
      "Gaps to fill in region 246: 100%|█████████████████| 3/3 [00:00<00:00, 27.52it/s]\n",
      "Gaps to simplify in region 247: 100%|█████████| 133/133 [00:01<00:00, 76.23it/s]\n",
      "Gaps to fill in region 247: 100%|█████████████████| 1/1 [00:00<00:00, 18.44it/s]\n",
      "Gaps to simplify in region 248: 100%|█████████| 605/605 [00:11<00:00, 54.20it/s]\n",
      "Gaps to fill in region 248: 100%|█████████████████| 5/5 [00:00<00:00, 34.44it/s]\n",
      "Gaps to simplify in region 249: 100%|███████| 1840/1840 [02:40<00:00, 11.47it/s]\n",
      "Gaps to fill in region 249: 100%|█████████████████| 2/2 [00:00<00:00,  8.58it/s]\n",
      "Gaps to simplify in region 250: 100%|███████| 1988/1988 [01:46<00:00, 18.74it/s]\n",
      "Gaps to fill: 0it [00:00, ?it/s]\n",
      "Gaps to simplify in region 251: 100%|█████████| 366/366 [00:05<00:00, 71.57it/s]\n",
      "Gaps to fill in region 251: 100%|█████████████████| 2/2 [00:00<00:00, 32.00it/s]\n",
      "Gaps to simplify in region 252: 100%|██████████| 92/92 [00:00<00:00, 119.24it/s]\n",
      "Gaps to fill in region 252: 100%|█████████████████| 3/3 [00:00<00:00, 46.10it/s]\n",
      "Gaps to simplify in region 253: 100%|██████████| 84/84 [00:00<00:00, 105.69it/s]\n",
      "Gaps to fill: 0it [00:00, ?it/s]\n"
     ]
    },
    {
     "name": "stdout",
     "output_type": "stream",
     "text": [
      "WARNING: A component of the geometry at index 8398 may have been disconnected!\n"
     ]
    }
   ],
   "source": [
    "vest_base = add_vest_base(vest_base_data, start_col, year, county = county_df)"
   ]
  },
  {
   "cell_type": "code",
   "execution_count": 30,
   "metadata": {},
   "outputs": [
    {
     "name": "stdout",
     "output_type": "stream",
     "text": [
      "[0.0, 0.0, 0.0, 0.0, 0.0, 0.0, 0.0, 0.0, 0.0, 0.0, 0.0, 0.0, 0.0, 0.0, 0.0, 0.0, 0.0, 0.0, 0.0, 0.0, 0.0, 0.0, 0.0, 0.0, 0.0, 0.0, 0.0, 0.0, 0.0, 0.0, 0.0, 0.0, 0.0, 0.0, 0.0, 0.0, 0.0, 0.0, 0.0, 0.0, 0.0, 0.0, 0.0, 0.0, 0.0, 0.0, 0.0, 0.0, 0.0, 0.0, 0.0, 0.0, 0.0, 0.0, 0.0, 0.0, 0.0, 0.0, 0.0, 0.0, 0.0, 0.0, 0.0, 0.0, 0.0, 0.0, 0.0, 0.0, 0.0, 0.0, 0.0, 0.0, 0.0, 0.0, 0.0, 0.0, 0.0, 0.0, 0.0, 0.0, 0.0, 0.0, 0.0, 0.0, 0.0, 0.0, 0.0, 0.0, 0.0, 0.0, 0.0, 0.0, 0.0, 0.0, 0.0, 0.0, 0.0, 0.0, 0.0, 0.0, 0.0, 0.0, 0.0, 0.0, 0.0, 0.0, 0.0, 0.0, 0.0, 0.0, 0.0, 0.0, 0.0, 0.0, 0.0, 0.0, 0.0, 0.0, 0.0, 0.0, 0.0, 0.0, 0.0, 0.0, 0.0, 0.0, 0.0, 0.0, 0.0, 0.0, 0.0, 0.0, 0.0, 0.0, 0.0, 0.0, 0.0, 0.0, 0.0, 0.0, 0.0, 0.0, 0.0, 0.0, 0.0, 0.0, 0.0, 0.0, 0.0, 0.0, 0.0, 0.0, 0.0, 0.0, 0.0, 0.0, 0.0, 0.0, 0.0, 0.0, 0.0, 0.0, 0.0, 0.0, 0.0, 0.0, 0.0, 0.0, 0.0, 0.0, 0.0, 0.0, 0.0, 0.0, 0.0, 0.0, 0.0, 0.0, 0.0, 0.0, 0.0, 0.0, 0.0, 0.0, 0.0, 0.0, 0.0, 0.0, 0.0, 0.0, 0.0, 0.0, 0.0, 0.0, 0.0, 0.0, 0.0, 0.0, 0.0, 0.0, 0.0, 0.0, 0.0, 0.0, 0.0, 0.0, 0.0, 0.0, 0.0, 0.0, 0.0, 0.0, 0.0, 0.0, 0.0, 0.0, 0.0, 0.0, 0.0, 0.0, 0.0, 0.0, 0.0, 0.0, 0.0, 0.0, 0.0, 0.0, 0.0, 0.0, 0.0, 0.0, 0.0, 0.0, 0.0, 0.0, 0.0, 0.0, 0.0, 0.0, 0.0, 0.0, 0.0, 0.0, 0.0, 0.0, 0.0, 0.0, 0.0, 0.0, 0.0, 0.0, 0.0, 0.0, 0.0, 0.0, 0.0, 0.0, 0.0, 0.0, 0.0, 0.0, 0.0, 0.0, 0.0, 0.0, 0.0, 0.0, 0.0, 0.0, 0.0, 0.0, 0.0, 0.0, 0.0, 0.0, 0.0, 0.0, 0.0, 0.0, 0.0, 0.0, 0.0, 0.0, 0.0, 0.0, 0.0, 0.0, 0.0, 0.0, 0.0, 0.0, 0.0, 0.0, 0.0, 0.0, 0.0, 0.0, 0.0, 0.0, 0.0, 0.0, 0.0, 0.0, 0.0, 0.0, 0.0, 0.0, 0.0, 0.0, 0.0, 0.0, 0.0, 0.0, 0.0, 0.0, 0.0, 0.0, 0.0, 0.0, 0.0, 0.0, 0.0, 0.0, 0.0, 0.0, 0.0, 0.0, 0.0, 0.0, 0.0, 0.0, 0.0, 0.0, 0.0, 0.0, 0.0, 0.0, 0.0, 0.0, 0.0, 0.0, 0.0, 0.0, 0.0, 0.0, 0.0, 0.0, 0.0, 0.0, 0.0, 0.0, 0.0, 0.0, 0.0, 0.0, 0.0, 0.0, 0.0, 0.0, 0.0, 0.0, 0.0, 0.0, 0.0, 0.0, 0.0, 0.0, 0.0, 0.0, 0.0, 0.0, 0.0, 0.0, 0.0, 0.0, 0.0, 0.0, 0.0, 0.0, 0.0, 0.0, 0.0, 0.0, 0.0, 0.0, 0.0, 0.0, 0.0, 0.0, 0.0, 0.0, 0.0, 0.0, 0.0, 0.0, 0.0, 0.0, 0.0, 0.0, 0.0, 0.0, 0.0, 0.0, 0.0, 0.0, 0.0, 0.0, 0.0, 0.0, 0.0, 0.0, 0.0, 0.0, 0.0, 0.0, 0.0, 0.0, 0.0, 0.0, 0.0, 0.0, 0.0, 0.0, 0.0, 0.0, 0.0, 0.0, 0.0, 0.0, 0.0, 0.0, 0.0, 0.0, 0.0, 0.0, 0.0, 0.0, 0.0, 0.0, 0.0, 0.0, 0.0, 0.0, 0.0, 0.0, 0.0, 0.0, 0.0, 0.0, 0.0, 0.0, 0.0, 0.0, 0.0, 0.0, 0.0, 0.0, 0.0, 0.0, 0.0, 0.0, 0.0, 0.0, 0.0, 0.0, 0.0, 0.0, 0.0, 0.0, 0.0, 0.0, 0.0, 0.0, 0.0, 0.0, 0.0, 0.0, 0.0, 0.0, 0.0, 0.0, 0.0, 0.0, 0.0, 0.0, 0.0, 0.0, 0.0, 0.0, 0.0, 0.0, 0.0, 0.0, 0.0, 0.0, 0.0, 0.0, 0.0, 0.0, 0.0, 0.0, 0.0, 0.0, 0.0, 0.0, 0.0, 0.0, 0.0, 0.0, 0.0, 0.0, 0.0, 0.0, 0.0, 0.0, 0.0, 0.0, 0.0, 0.0, 0.0, 0.0, 0.0, 0.0, 0.0, 0.0, 0.0, 0.0, 0.0, 0.0, 0.0, 0.0, 0.0, 0.0, 0.0, 0.0, 0.0, 0.0, 0.0, 0.0, 0.0, 0.0, 0.0, 0.0, 0.0, 0.0, 0.0, 0.0, 0.0, 0.0, 0.0, 0.0, 0.0, 0.0, 0.0, 0.0, 0.0, 0.0, 0.0, 0.0, 0.0, 0.0, 0.0, 0.0, 0.0, 0.0, 0.0, 0.0, 0.0, 0.0, 0.0, 0.0, 0.0, 0.0, 0.0, 0.0, 0.0, 0.0, 0.0, 0.0, 0.0, 0.0, 0.0, 0.0, 0.0, 0.0, 0.0, 0.0, 0.0, 0.0, 0.0, 0.0, 0.0, 0.0, 0.0, 0.0, 0.0, 0.0, 0.0, 0.0, 0.0, 0.0, 0.0, 0.0, 0.0, 0.0, 0.0, 0.0, 0.0, 0.0, 0.0, 0.0, 0.0, 0.0, 0.0, 0.0, 0.0, 0.0, 0.0, 0.0, 0.0, 0.0, 0.0, 0.0, 0.0, 0.0, 0.0, 0.0, 0.0, 0.0, 0.0, 0.0, 0.0, 0.0, 0.0, 0.0, 0.0, 0.0, 0.0, 0.0, 0.0, 0.0, 0.0, 0.0, 0.0, 0.0, 0.0, 0.0, 0.0, 0.0, 0.0, 0.0, 0.0, 0.0, 0.0, 0.0, 0.0, 0.0, 0.0, 0.0, 0.0, 0.0, 0.0, 0.0, 0.0, 0.0, 0.0, 0.0, 0.0, 0.0, 0.0, 0.0, 0.0, 0.0, 0.0, 0.0, 0.0, 0.0, 0.0, 0.0, 0.0, 0.0, 0.0, 0.0, 0.0, 0.0, 0.0, 0.0, 0.0, 0.0, 0.0, 0.0, 0.0, 0.0, 0.0, 0.0, 0.0, 0.0, 0.0, 0.0, 0.0, 0.0, 0.0, 0.0, 0.0, 0.0, 0.0, 0.0, 0.0, 0.0, 0.0, 0.0, 0.0, 0.0, 0.0, 0.0, 0.0, 0.0, 0.0, 0.0, 0.0, 0.0, 0.0, 0.0, 0.0, 0.0, 0.0, 0.0, 0.0, 0.0, 0.0, 0.0, 0.0, 0.0, 0.0, 0.0, 0.0, 0.0, 0.0, 0.0, 0.0, 0.0, 0.0, 0.0, 0.0, 0.0, 0.0, 0.0, 0.0, 0.0, 0.0, 0.0, 0.0, 0.0, 0.0, 0.0, 0.0, 0.0, 0.0, 0.0, 0.0, 0.0, 0.0, 0.0, 0.0, 0.0, 0.0, 0.0, 0.0, 0.0, 0.0, 0.0, 0.0, 0.0, 0.0, 0.0, 0.0, 0.0, 0.0, 0.0, 0.0, 0.0, 0.0, 0.0, 0.0, 0.0, 0.0, 0.0, 0.0, 0.0, 0.0, 0.0, 0.0, 0.0, 0.0, 0.0, 0.0, 0.0, 0.0, 0.0, 0.0, 0.0, 0.0, 0.0, 0.0, 0.0, 0.0, 0.0, 0.0, 0.0, 0.0, 0.0, 0.0, 0.0, 0.0, 0.0, 0.0, 0.0, 0.0, 0.0, 0.0, 0.0, 0.0, 0.0, 0.0, 0.0, 0.0, 0.0, 0.0, 0.0, 0.0, 0.0, 0.0, 0.0, 0.0, 0.0, 0.0, 0.0, 0.0, 0.0, 0.0, 0.0, 0.0, 0.0, 0.0, 0.0, 0.0, 0.0, 0.0, 0.0, 0.0, 0.0, 0.0, 0.0, 0.0, 0.0, 0.0, 0.0, 0.0, 0.0, 0.0, 0.0, 0.0, 0.0, 0.0, 0.0, 0.0, 0.0, 0.0, 0.0, 0.0, 0.0, 0.0, 0.0, 0.0, 0.0, 0.0, 0.0, 0.0, 0.0, 0.0, 0.0, 0.0, 0.0, 0.0, 0.0, 0.0, 0.0, 0.0, 0.0, 0.0, 0.0, 0.0, 0.0, 0.0, 0.0, 0.0, 0.0, 0.0, 0.0, 0.0, 0.0, 0.0, 0.0, 0.0, 0.0, 0.0, 0.0, 0.0, 0.0, 0.0, 0.0, 0.0, 0.0, 0.0, 0.0, 0.0, 0.0, 0.0, 0.0, 0.0, 0.0, 0.0, 0.0, 0.0, 0.0, 0.0, 0.0, 0.0, 0.0, 0.0, 0.0, 0.0, 0.0, 0.0, 0.0, 0.0, 0.0, 0.0, 0.0, 0.0, 0.0, 0.0, 0.0, 0.0, 0.0, 0.0, 0.0, 0.0, 0.0, 0.0, 0.0, 0.0, 0.0, 0.0, 0.0, 0.0, 0.0, 0.0, 0.0, 0.0, 0.0, 0.0, 0.0, 0.0, 0.0, 0.0, 0.0, 0.0, 0.0, 0.0, 0.0, 0.0, 0.0, 0.0, 0.0, 0.0, 0.0, 0.0, 0.0, 0.0, 0.0, 0.0, 0.0, 0.0, 0.0, 0.0, 0.0, 0.0, 0.0, 0.0, 0.0, 0.0, 0.0, 0.0, 0.0, 0.0, 0.0, 0.0, 0.0, 0.0, 0.0, 0.0, 0.0, 0.0, 0.0, 0.0, 0.0, 0.0, 0.0, 0.0, 0.0, 0.0, 0.0, 0.0, 0.0, 0.0, 0.0, 0.0, 0.0, 0.0, 0.0, 0.0, 0.0, 0.0, 0.0, 0.0, 0.0, 0.0, 0.0, 0.0, 0.0, 0.0, 0.0, 0.0, 0.0, 0.0, 0.0, 0.0, 0.0, 0.0, 0.0, 0.0, 0.0, 0.0, 0.0, 0.0, 0.0, 0.0, 0.0, 0.0, 0.0, 0.0, 0.0, 0.0, 0.0, 0.0, 0.0, 0.0, 0.0, 0.0, 0.0, 0.0, 0.0, 0.0, 0.0, 0.0, 0.0, 0.0, 0.0, 0.0, 0.0, 0.0, 0.0, 0.0, 0.0, 0.0, 0.0, 0.0, 0.0, 0.0, 0.0, 0.0, 0.0, 0.0, 0.0, 0.0, 0.0, 0.0, 0.0, 0.0, 0.0, 0.0, 0.0, 0.0, 0.0, 0.0, 0.0, 0.0, 0.0, 0.0, 0.0, 0.0, 0.0, 0.0, 0.0, 0.0, 0.0, 0.0, 0.0, 0.0, 0.0, 0.0, 0.0, 0.0, 0.0, 0.0, 0.0, 0.0, 0.0, 0.0, 0.0, 0.0, 0.0, 0.0, 0.0, 0.0, 0.0, 0.0, 0.0, 0.0, 0.0, 0.0, 0.0, 0.0, 0.0, 0.0, 0.0, 0.0, 0.0, 0.0, 0.0, 0.0, 0.0, 0.0, 0.0, 0.0, 0.0, 0.0, 0.0, 0.0, 0.0, 0.0, 0.0, 0.0, 0.0, 0.0, 0.0, 0.0, 0.0, 0.0, 0.0, 0.0, 0.0, 0.0, 0.0, 0.0, 0.0, 0.0, 0.0, 0.0, 0.0, 0.0, 0.0, 0.0, 0.0, 0.0, 0.0, 0.0, 0.0, 0.0, 0.0, 0.0, 0.0, 0.0, 0.0, 0.0, 0.0, 0.0, 0.0, 0.0, 0.0, 0.0, 0.0, 0.0, 0.0, 0.0, 0.0, 0.0, 0.0, 0.0, 0.0, 0.0, 0.0, 0.0, 0.0, 0.0, 0.0, 0.0, 0.0, 0.0, 0.0, 0.0, 0.0, 0.0, 0.0, 0.0, 0.0, 0.0, 0.0, 0.0, 0.0, 0.0, 0.0, 0.0, 0.0, 0.0, 0.0, 0.0, 0.0, 0.0, 0.0, 0.0, 0.0, 0.0, 0.0, 0.0, 0.0, 0.0, 0.0, 0.0, 0.0, 0.0, 0.0, 0.0, 0.0, 0.0, 0.0, 0.0, 0.0, 0.0, 0.0, 0.0, 0.0, 0.0, 0.0, 0.0, 0.0, 0.0, 0.0, 0.0, 0.0, 0.0, 0.0, 0.0, 0.0, 0.0, 0.0, 0.0, 0.0, 0.0, 0.0, 0.0, 0.0, 0.0, 0.0, 0.0, 0.0, 0.0, 0.0, 0.0, 0.0, 0.0, 0.0, 0.0, 0.0, 0.0, 0.0, 0.0, 0.0, 0.0, 0.0, 0.0, 0.0, 0.0, 0.0, 0.0, 0.0, 0.0, 0.0, 0.0, 0.0, 0.0, 0.0, 0.0, 0.0, 0.0, 0.0, 0.0, 0.0, 0.0, 0.0, 0.0, 0.0, 0.0, 0.0, 0.0, 0.0, 0.0, 0.0, 0.0, 0.0, 0.0, 0.0, 0.0, 0.0, 0.0, 0.0, 0.0, 0.0, 0.0, 0.0, 0.0, 0.0, 0.0, 0.0, 0.0, 0.0, 0.0, 0.0, 0.0, 0.0, 0.0, 0.0, 0.0, 0.0, 0.0, 0.0, 0.0, 0.0, 0.0, 0.0, 0.0, 0.0, 0.0, 0.0, 0.0, 0.0, 0.0, 0.0, 0.0, 0.0, 0.0, 0.0, 0.0, 0.0, 0.0, 0.0, 0.0, 0.0, 0.0, 0.0, 0.0, 0.0, 0.0, 0.0, 0.0, 0.0, 0.0, 0.0, 0.0, 0.0, 0.0, 0.0, 0.0, 0.0, 0.0, 0.0, 0.0, 0.0, 0.0, 0.0, 0.0, 0.0, 0.0, 0.0, 0.0, 0.0, 0.0, 0.0, 0.0, 0.0, 0.0, 0.0, 0.0, 0.0, 0.0, 0.0, 0.0, 0.0, 0.0, 0.0, 0.0, 0.0, 0.0, 0.0, 0.0, 0.0, 0.0, 0.0, 0.0, 0.0, 0.0, 0.0, 0.0, 0.0, 0.0, 0.0, 0.0, 0.0, 0.0, 0.0, 0.0, 0.0, 0.0, 0.0, 0.0, 0.0, 0.0, 0.0, 0.0, 0.0, 0.0, 0.0, 0.0, 0.0, 0.0, 0.0, 0.0, 0.0, 0.0, 0.0, 0.0, 0.0, 0.0, 0.0, 0.0, 0.0, 0.0, 0.0, 0.0, 0.0, 0.0, 0.0, 0.0, 0.0, 0.0, 0.0, 0.0, 0.0, 0.0, 0.0, 0.0, 0.0, 0.0, 0.0, 0.0, 0.0, 0.0, 0.0, 0.0, 0.0, 0.0, 0.0, 0.0, 0.0, 0.0, 0.0, 0.0, 0.0, 0.0, 0.0, 0.0, 0.0, 0.0, 0.0, 0.0, 0.0, 0.0, 0.0, 0.0, 0.0, 0.0, 0.0, 0.0, 0.0, 0.0, 0.0, 0.0, 0.0, 0.0, 0.0, 0.0, 0.0, 0.0, 0.0, 0.0, 0.0, 0.0, 0.0, 0.0, 0.0, 0.0, 0.0, 0.0, 0.0, 0.0, 0.0, 0.0, 0.0, 0.0, 0.0, 0.0, 0.0, 0.0, 0.0, 0.0, 0.0, 0.0, 0.0, 0.0, 0.0, 0.0, 0.0, 0.0, 0.0, 0.0, 0.0, 0.0, 0.0, 0.0, 0.0, 0.0, 0.0, 0.0, 0.0, 0.0, 0.0, 0.0, 0.0, 0.0, 0.0, 0.0, 0.0, 0.0, 0.0, 0.0, 0.0, 0.0, 0.0, 0.0, 0.0, 0.0, 0.0, 0.0, 0.0, 0.0, 0.0, 0.0, 0.0, 0.0, 0.0, 0.0, 0.0, 0.0, 0.0, 0.0, 0.0, 0.0, 0.0, 0.0, 0.0, 0.0, 0.0, 0.0, 0.0, 0.0, 0.0, 0.0, 0.0, 0.0, 0.0, 0.0, 0.0, 0.0, 0.0, 0.0, 0.0, 0.0, 0.0, 0.0, 0.0, 0.0, 0.0, 0.0, 0.0, 0.0, 0.0, 0.0, 0.0, 0.0, 0.0, 0.0, 0.0, 0.0, 0.0, 0.0, 0.0, 0.0, 0.0, 0.0, 0.0, 0.0, 0.0, 0.0, 0.0, 0.0, 0.0, 0.0, 0.0, 0.0, 0.0, 0.0, 0.0, 0.0, 0.0, 0.0, 0.0, 0.0, 0.0, 0.0, 0.0, 0.0, 0.0, 0.0, 0.0, 0.0, 0.0, 0.0, 0.0, 0.0, 0.0, 0.0, 0.0, 0.0, 0.0, 0.0, 0.0, 0.0, 0.0, 0.0, 0.0, 0.0, 0.0, 0.0, 0.0, 0.0, 0.0, 0.0, 0.0, 0.0, 0.0, 0.0, 0.0, 0.0, 0.0, 0.0, 0.0, 0.0, 0.0, 0.0, 0.0, 0.0, 0.0, 0.0, 0.0, 0.0, 0.0, 0.0, 0.0, 0.0, 0.0, 0.0, 0.0, 0.0, 0.0, 0.0, 0.0, 0.0, 0.0, 0.0, 0.0, 0.0, 0.0, 0.0, 0.0, 0.0, 0.0, 0.0, 0.0, 0.0, 0.0, 0.0, 0.0, 0.0, 0.0, 0.0, 0.0, 0.0, 0.0, 0.0, 0.0, 0.0, 0.0, 0.0, 0.0, 0.0, 0.0, 0.0, 0.0, 0.0, 0.0, 0.0, 0.0, 0.0, 0.0, 0.0, 0.0, 0.0, 0.0, 0.0, 0.0, 0.0, 0.0, 0.0, 0.0, 0.0, 0.0, 0.0, 0.0, 0.0, 0.0, 0.0, 0.0, 0.0, 0.0, 0.0, 0.0, 0.0, 0.0, 0.0, 0.0, 0.0, 0.0, 0.0, 0.0, 0.0, 0.0, 0.0, 0.0, 0.0, 0.0, 0.0, 0.0, 0.0, 0.0, 0.0, 0.0, 0.0, 0.0, 0.0, 0.0, 0.0, 0.0, 0.0, 0.0, 0.0, 0.0, 0.0, 0.0, 0.0, 0.0, 0.0, 0.0, 0.0, 0.0, 0.0, 0.0, 0.0, 0.0, 0.0, 0.0, 0.0, 0.0, 0.0, 0.0, 0.0, 0.0, 0.0, 0.0, 0.0, 0.0, 0.0, 0.0, 0.0, 0.0, 0.0, 0.0, 0.0, 0.0, 0.0, 0.0, 0.0, 0.0, 0.0, 0.0, 0.0, 0.0, 0.0, 0.0, 0.0, 0.0, 0.0, 0.0, 0.0, 0.0, 0.0, 0.0, 0.0, 0.0, 0.0, 0.0, 0.0, 0.0, 0.0, 0.0, 0.0, 0.0, 0.0, 0.0, 0.0, 0.0, 0.0, 0.0, 0.0, 0.0, 0.0, 0.0, 0.0, 0.0, 0.0, 0.0, 0.0, 0.0, 0.0, 0.0, 0.0, 0.0, 0.0, 0.0, 0.0, 0.0, 0.0, 0.0, 0.0, 0.0, 0.0, 0.0, 0.0, 0.0, 0.0, 0.0, 0.0, 0.0, 0.0, 0.0, 0.0, 0.0, 0.0, 0.0, 0.0, 0.0, 0.0, 0.0, 0.0, 0.0, 0.0, 0.0, 0.0, 0.0, 0.0, 0.0, 0.0, 0.0, 0.0, 0.0, 0.0, 0.0, 0.0, 0.0, 0.0, 0.0, 0.0, 0.0, 0.0, 0.0, 0.0, 0.0, 0.0, 0.0, 0.0, 0.0, 0.0, 0.0, 0.0, 0.0, 0.0, 0.0, 0.0, 0.0, 0.0, 0.0, 0.0, 0.0, 0.0, 0.0, 0.0, 0.0, 0.0, 0.0, 0.0, 0.0, 0.0, 0.0, 0.0, 0.0, 0.0, 0.0, 0.0, 0.0, 0.0, 0.0, 0.0, 0.0, 0.0, 0.0, 0.0, 0.0, 0.0, 0.0, 0.0, 0.0, 0.0, 0.0, 0.0, 0.0, 0.0, 0.0, 0.0, 0.0, 0.0, 0.0, 0.0, 0.0, 0.0, 0.0, 0.0, 0.0, 0.0, 0.0, 0.0, 0.0, 0.0, 0.0, 0.0, 0.0, 0.0, 0.0, 0.0, 0.0, 0.0, 0.0, 0.0, 0.0, 0.0, 0.0, 0.0, 0.0, 0.0, 0.0, 0.0, 0.0, 0.0, 0.0, 0.0, 0.0, 0.0, 0.0, 0.0, 0.0, 0.0, 0.0, 0.0, 0.0, 0.0, 0.0, 0.0, 0.0, 0.0, 0.0, 0.0, 0.0, 0.0, 0.0, 0.0, 0.0, 0.0, 0.0, 0.0, 0.0, 0.0, 0.0, 0.0, 0.0, 0.0, 0.0, 0.0, 0.0, 0.0, 0.0, 0.0, 0.0, 0.0, 0.0, 0.0, 0.0, 0.0, 0.0, 0.0, 0.0, 0.0, 0.0, 0.0, 0.0, 0.0, 0.0, 0.0, 0.0, 0.0, 0.0, 0.0, 0.0, 0.0, 0.0, 0.0, 0.0, 0.0, 0.0, 0.0, 0.0, 0.0, 0.0, 0.0, 0.0, 0.0, 0.0, 0.0, 0.0, 0.0, 0.0, 0.0, 0.0, 0.0, 0.0, 0.0, 0.0, 0.0, 0.0, 0.0, 0.0, 0.0, 0.0, 0.0, 0.0, 0.0, 0.0, 0.0, 0.0, 0.0, 0.0, 0.0, 0.0, 0.0, 0.0, 0.0, 0.0, 0.0, 0.0, 0.0, 0.0, 0.0, 0.0, 0.0, 0.0, 0.0, 0.0, 0.0, 0.0, 0.0, 0.0, 0.0, 0.0, 0.0, 0.0, 0.0, 0.0, 0.0, 0.0, 0.0, 0.0, 0.0, 0.0, 0.0, 0.0, 0.0, 0.0, 0.0, 0.0, 0.0, 0.0, 0.0, 0.0, 0.0, 0.0, 0.0, 0.0, 0.0, 0.0, 0.0, 0.0, 0.0, 0.0, 0.0, 0.0, 0.0, 0.0, 0.0, 0.0, 0.0, 0.0, 0.0, 0.0, 0.0, 0.0, 0.0, 0.0, 0.0, 0.0, 0.0, 0.0, 0.0, 0.0, 0.0, 0.0, 0.0, 0.0, 0.0, 0.0, 0.0, 0.0, 0.0, 0.0, 0.0, 0.0, 0.0, 0.0, 0.0, 0.0, 0.0, 0.0, 0.0, 0.0, 0.0, 0.0, 0.0, 0.0, 0.0, 0.0, 0.0, 0.0, 0.0, 0.0, 0.0, 0.0, 0.0, 0.0, 0.0, 0.0, 0.0, 0.0, 0.0, 0.0, 0.0, 0.0, 0.0, 0.0, 0.0, 0.0, 0.0, 0.0, 0.0, 0.0, 0.0, 0.0, 0.0, 0.0, 0.0, 0.0, 0.0, 0.0, 0.0, 0.0, 0.0, 0.0, 0.0, 0.0, 0.0, 0.0, 0.0, 0.0, 0.0, 0.0, 0.0, 0.0, 0.0, 0.0, 0.0, 0.0, 0.0, 0.0, 0.0, 0.0, 0.0, 0.0, 0.0, 0.0, 0.0, 0.0, 0.0, 0.0, 0.0, 0.0, 0.0, 0.0, 0.0, 0.0, 0.0, 0.0, 0.0, 0.0, 0.0, 0.0, 0.0, 0.0, 0.0, 0.0, 0.0, 0.0, 0.0, 0.0, 0.0, 0.0, 0.0, 0.0, 0.0, 0.0, 0.0, 0.0, 0.0, 0.0, 0.0, 0.0, 0.0, 0.0, 0.0, 0.0, 0.0, 0.0, 0.0, 0.0, 0.0, 0.0, 0.0, 0.0, 0.0, 0.0, 0.0, 0.0, 0.0, 0.0, 0.0, 0.0, 0.0, 0.0, 0.0, 0.0, 0.0, 0.0, 0.0, 0.0, 0.0, 0.0, 0.0, 0.0, 0.0, 0.0, 0.0, 0.0, 0.0, 0.0, 0.0, 0.0, 0.0, 0.0, 0.0, 0.0, 0.0, 0.0, 0.0, 0.0, 0.0, 0.0, 0.0, 0.0, 0.0, 0.0, 0.0, 0.0, 0.0, 0.0, 0.0, 0.0, 0.0, 0.0, 0.0, 0.0, 0.0, 0.0, 0.0, 0.0, 0.0, 0.0, 0.0, 0.0, 0.0, 0.0, 0.0, 0.0, 0.0, 0.0, 0.0, 0.0, 0.0, 0.0, 0.0, 0.0, 0.0, 0.0, 0.0, 0.0, 0.0, 0.0, 0.0, 0.0, 0.0, 0.0, 0.0, 0.0, 0.0, 0.0, 0.0, 0.0, 0.0, 0.0, 0.0, 0.0, 0.0, 0.0, 0.0, 0.0, 0.0, 0.0, 0.0, 0.0, 0.0, 0.0, 0.0, 0.0, 0.0, 0.0, 0.0, 0.0, 0.0, 0.0, 0.0, 0.0, 0.0, 0.0, 0.0, 0.0, 0.0, 0.0, 0.0, 0.0, 0.0, 0.0, 0.0, 0.0, 0.0, 0.0, 0.0, 0.0, 0.0, 0.0, 0.0, 0.0, 0.0, 0.0, 0.0, 0.0, 0.0, 0.0, 0.0, 0.0, 0.0, 0.0, 0.0, 0.0, 0.0, 0.0, 0.0, 0.0, 0.0, 0.0, 0.0, 0.0, 0.0, 0.0, 0.0, 0.0, 0.0, 0.0, 0.0, 0.0, 0.0, 0.0, 0.0, 0.0, 0.0, 0.0, 0.0, 0.0, 0.0, 0.0, 0.0, 0.0, 0.0, 0.0, 0.0, 0.0, 0.0, 0.0, 0.0, 0.0, 0.0, 0.0, 0.0, 0.0, 0.0, 0.0, 0.0, 0.0, 0.0, 0.0, 0.0, 0.0, 0.0, 0.0, 0.0, 0.0, 0.0, 0.0, 0.0, 0.0, 0.0, 0.0, 0.0, 0.0, 0.0, 0.0, 0.0, 0.0, 0.0, 0.0, 0.0, 0.0, 0.0, 0.0, 0.0, 0.0, 0.0, 0.0, 0.0, 0.0, 0.0, 0.0, 0.0, 0.0, 0.0, 0.0, 0.0, 0.0, 0.0, 0.0, 0.0, 0.0, 0.0, 0.0, 0.0, 0.0, 0.0, 0.0, 0.0, 0.0, 0.0, 0.0, 0.0, 0.0, 0.0, 0.0, 0.0, 0.0, 0.0, 0.0, 0.0, 0.0, 0.0, 0.0, 0.0, 0.0, 0.0, 0.0, 0.0, 0.0, 0.0, 0.0, 0.0, 0.0, 0.0, 0.0, 0.0, 0.0, 0.0, 0.0, 0.0, 0.0, 0.0, 0.0, 0.0, 0.0, 0.0, 0.0, 0.0, 0.0, 0.0, 0.0, 0.0, 0.0, 0.0, 0.0, 0.0, 0.0, 0.0, 0.0, 0.0, 0.0, 0.0, 0.0, 0.0, 0.0, 0.0, 0.0, 0.0, 0.0, 0.0, 0.0, 0.0, 0.0, 0.0, 0.0, 0.0, 0.0, 0.0, 0.0, 0.0, 0.0, 0.0, 0.0, 0.0, 0.0, 0.0, 0.0, 0.0, 0.0, 0.0, 0.0, 0.0, 0.0, 0.0, 0.0, 0.0, 0.0, 0.0, 0.0, 0.0, 0.0, 0.0, 0.0, 0.0, 0.0, 0.0, 0.0, 0.0, 0.0, 0.0, 0.0, 0.0, 0.0, 0.0, 0.0, 0.0, 0.0, 0.0, 0.0, 0.0, 0.0, 0.0, 0.0, 0.0, 0.0, 0.0, 0.0, 0.0, 0.0, 0.0, 0.0, 0.0, 0.0, 0.0, 0.0, 0.0, 0.0, 0.0, 0.0, 0.0, 0.0, 0.0, 0.0, 0.0, 0.0, 0.0, 0.0, 0.0, 0.0, 0.0, 0.0, 0.0, 0.0, 0.0, 0.0, 0.0, 0.0, 0.0, 0.0, 0.0, 0.0, 0.0, 0.0, 0.0, 0.0, 0.0, 0.0, 0.0, 0.0, 0.0, 0.0, 0.0, 0.0, 0.0, 0.0, 0.0, 0.0, 0.0, 0.0, 0.0, 0.0, 0.0, 0.0, 0.0, 0.0, 0.0, 0.0, 0.0, 0.0, 0.0, 0.0, 0.0, 0.0, 0.0, 0.0, 0.0, 0.0, 0.0, 0.0, 0.0, 0.0, 0.0, 0.0, 0.0, 0.0, 0.0, 0.0, 0.0, 0.0, 0.0, 0.0, 0.0, 0.0, 0.0, 0.0, 0.0, 0.0, 0.0, 0.0, 0.0, 0.0, 0.0, 0.0, 0.0, 0.0, 0.0, 0.0, 0.0, 0.0, 0.0, 0.0, 0.0, 0.0, 0.0, 0.0, 0.0, 0.0, 0.0, 0.0, 0.0, 0.0, 0.0, 0.0, 0.0, 0.0, 0.0, 0.0, 0.0, 0.0, 0.0, 0.0, 0.0, 0.0, 0.0, 0.0, 0.0, 0.0, 0.0, 0.0, 0.0, 0.0, 0.0, 0.0, 0.0, 0.0, 0.0, 0.0, 0.0, 0.0, 0.0, 0.0, 0.0, 0.0, 0.0, 0.0, 0.0, 0.0, 0.0, 0.0, 0.0, 0.0, 0.0, 0.0, 0.0, 0.0, 0.0, 0.0, 0.0, 0.0, 0.0, 0.0, 0.0, 0.0, 0.0, 0.0, 0.0, 0.0, 0.0, 0.0, 0.0, 0.0, 0.0, 0.0, 0.0, 0.0, 0.0, 0.0, 0.0, 0.0, 0.0, 0.0, 0.0, 0.0, 0.0, 0.0, 0.0, 0.0, 0.0, 0.0, 0.0, 0.0, 0.0, 0.0, 0.0, 0.0, 0.0, 0.0, 0.0, 0.0, 0.0, 0.0, 0.0, 0.0, 0.0, 0.0, 0.0, 0.0, 0.0, 0.0, 0.0, 0.0, 0.0, 0.0, 0.0, 0.0, 0.0, 0.0, 0.0, 0.0, 0.0, 0.0, 0.0, 0.0, 0.0, 0.0, 0.0, 0.0, 0.0, 0.0, 0.0, 0.0, 0.0, 0.0, 0.0, 0.0, 0.0, 0.0, 0.0, 0.0, 0.0, 0.0, 0.0, 0.0, 0.0, 0.0, 0.0, 0.0, 0.0, 0.0, 0.0, 0.0, 0.0, 0.0, 0.0, 0.0, 0.0, 0.0, 0.0, 0.0, 0.0, 0.0, 0.0, 0.0, 0.0, 0.0, 0.0, 0.0, 0.0, 0.0, 0.0, 0.0, 0.0, 0.0, 0.0, 0.0, 0.0, 0.0, 0.0, 0.0, 0.0, 0.0, 0.0, 0.0, 0.0, 0.0, 0.0, 0.0, 0.0, 0.0, 0.0, 0.0, 0.0, 0.0, 0.0, 0.0, 0.0, 0.0, 0.0, 0.0, 0.0, 0.0, 0.0, 0.0, 0.0, 0.0, 0.0, 0.0, 0.0, 0.0, 0.0, 0.0, 0.0, 0.0, 0.0, 0.0, 0.0, 0.0, 0.0, 0.0, 0.0, 0.0, 0.0, 0.0, 0.0, 0.0, 0.0, 0.0, 0.0, 0.0, 0.0, 0.0, 0.0, 0.0, 0.0, 0.0, 0.0, 0.0, 0.0, 0.0, 0.0, 0.0, 0.0, 0.0, 0.0, 0.0, 0.0, 0.0, 0.0, 0.0, 0.0, 0.0, 0.0, 0.0, 0.0, 0.0, 0.0, 0.0, 0.0, 0.0, 0.0, 0.0, 0.0, 0.0, 0.0, 0.0, 0.0, 0.0, 0.0, 0.0, 0.0, 0.0, 0.0, 0.0, 0.0, 0.0, 0.0, 0.0, 0.0, 0.0, 0.0, 0.0, 0.0, 0.0, 0.0, 0.0, 0.0, 0.0, 0.0, 0.0, 0.0, 0.0, 0.0, 0.0, 0.0, 0.0, 0.0, 0.0, 0.0, 0.0, 0.0, 0.0, 0.0, 0.0, 0.0, 0.0, 0.0, 0.0, 0.0, 0.0, 0.0, 0.0, 0.0, 0.0, 0.0, 0.0, 0.0, 0.0, 0.0, 0.0, 0.0, 0.0, 0.0, 0.0, 0.0, 0.0, 0.0, 0.0, 0.0, 0.0, 0.0, 0.0, 0.0, 0.0, 0.0, 0.0, 0.0, 0.0, 0.0, 0.0, 0.0, 0.0, 0.0, 0.0, 0.0, 0.0, 0.0, 0.0, 0.0, 0.0, 0.0, 0.0, 0.0, 0.0, 0.0, 0.0, 0.0, 0.0, 0.0, 0.0, 0.0, 0.0, 0.0, 0.0, 0.0, 0.0, 0.0, 0.0, 0.0, 0.0, 0.0, 0.0, 0.0, 0.0, 0.0, 0.0, 0.0, 0.0, 0.0, 0.0, 0.0, 0.0, 0.0, 0.0, 0.0, 0.0, 0.0, 0.0, 0.0, 0.0, 0.0, 0.0, 0.0, 0.0, 0.0, 0.0, 0.0, 0.0, 0.0, 0.0, 0.0, 0.0, 0.0, 0.0, 0.0, 0.0, 0.0, 0.0, 0.0, 0.0, 0.0, 0.0, 0.0, 0.0, 0.0, 0.0, 0.0, 0.0, 0.0, 0.0, 0.0, 0.0, 0.0, 0.0, 0.0, 0.0, 0.0, 0.0, 0.0, 0.0, 0.0, 0.0, 0.0, 0.0, 0.0, 0.0, 0.0, 0.0, 0.0, 0.0, 0.0, 0.0, 0.0, 0.0, 0.0, 0.0, 0.0, 0.0, 0.0, 0.0, 0.0, 0.0, 0.0, 0.0, 0.0, 0.0, 0.0, 0.0, 0.0, 0.0, 0.0, 0.0, 0.0, 0.0, 0.0, 0.0, 0.0, 0.0, 0.0, 0.0, 0.0, 0.0, 0.0, 0.0, 0.0, 0.0, 0.0, 0.0, 0.0, 0.0, 0.0, 0.0, 0.0, 0.0, 0.0, 0.0, 0.0, 0.0, 0.0, 0.0, 0.0, 0.0, 0.0, 0.0, 0.0, 0.0, 0.0, 0.0, 0.0, 0.0, 0.0, 0.0, 0.0, 0.0, 0.0, 0.0, 0.0, 0.0, 0.0, 0.0, 0.0, 0.0, 0.0, 0.0, 0.0, 0.0, 0.0, 0.0, 0.0, 0.0, 0.0, 0.0, 0.0, 0.0, 0.0, 0.0, 0.0, 0.0, 0.0, 0.0, 0.0, 0.0, 0.0, 0.0, 0.0, 0.0, 0.0, 0.0, 0.0, 0.0, 0.0, 0.0, 0.0, 0.0, 0.0, 0.0, 0.0, 0.0, 0.0, 0.0, 0.0, 0.0, 0.0, 0.0, 0.0, 0.0, 0.0, 0.0, 0.0, 0.0, 0.0, 0.0, 0.0, 0.0, 0.0, 0.0, 0.0, 0.0, 0.0, 0.0, 0.0, 0.0, 0.0, 0.0, 0.0, 0.0, 0.0, 0.0, 0.0, 0.0, 0.0, 0.0, 0.0, 0.0, 0.0, 0.0, 0.0, 0.0, 0.0, 0.0, 0.0, 0.0, 0.0, 0.0, 0.0, 0.0, 0.0, 0.0, 0.0, 0.0, 0.0, 0.0, 0.0, 0.0, 0.0, 0.0, 0.0, 0.0, 0.0, 0.0, 0.0, 0.0, 0.0, 0.0, 0.0, 0.0, 0.0, 0.0, 0.0, 0.0, 0.0, 0.0, 0.0, 0.0, 0.0, 0.0, 0.0, 0.0, 0.0, 0.0, 0.0, 0.0, 0.0, 0.0, 0.0, 0.0, 0.0, 0.0, 0.0, 0.0, 0.0, 0.0, 0.0, 0.0, 0.0, 0.0, 0.0, 0.0, 0.0, 0.0, 0.0, 0.0, 0.0, 0.0, 0.0, 0.0, 0.0, 0.0, 0.0, 0.0, 0.0, 0.0, 0.0, 0.0, 0.0, 0.0, 0.0, 0.0, 0.0, 0.0, 0.0, 0.0, 0.0, 0.0, 0.0, 0.0, 0.0, 0.0, 0.0, 0.0, 0.0, 0.0, 0.0, 0.0, 0.0, 0.0, 0.0, 0.0, 0.0, 0.0, 0.0, 0.0, 0.0, 0.0, 0.0, 0.0, 0.0, 0.0, 0.0, 0.0, 0.0, 0.0, 0.0, 0.0, 0.0, 0.0, 0.0, 0.0, 0.0, 0.0, 0.0, 0.0, 0.0, 0.0, 0.0, 0.0, 0.0, 0.0, 0.0, 0.0, 0.0, 0.0, 0.0, 0.0, 0.0, 0.0, 0.0, 0.0, 0.0, 0.0, 0.0, 0.0, 0.0, 0.0, 0.0, 0.0, 0.0, 0.0, 0.0, 0.0, 0.0, 0.0, 0.0, 0.0, 0.0, 0.0, 0.0, 0.0, 0.0, 0.0, 0.0, 0.0, 0.0, 0.0, 0.0, 0.0, 0.0, 0.0, 0.0, 0.0, 0.0, 0.0, 0.0, 0.0, 0.0, 0.0, 0.0, 0.0, 0.0, 0.0, 0.0, 0.0, 0.0, 0.0, 0.0, 0.0, 0.0, 0.0, 0.0, 0.0, 0.0, 0.0, 0.0, 0.0, 0.0, 0.0, 0.0, 0.0, 0.0, 0.0, 0.0, 0.0, 0.0, 0.0, 0.0, 0.0, 0.0, 0.0, 0.0, 0.0, 0.0, 0.0, 0.0, 0.0, 0.0, 0.0, 0.0, 0.0, 0.0, 0.0, 0.0, 0.0, 0.0, 0.0, 0.0, 0.0, 0.0, 0.0, 0.0, 0.0, 0.0, 0.0, 0.0, 0.0, 0.0, 0.0, 0.0, 0.0, 0.0, 0.0, 0.0, 0.0, 0.0, 0.0, 0.0, 0.0, 0.0, 0.0, 0.0, 0.0, 0.0, 0.0, 0.0, 0.0, 0.0, 0.0, 0.0, 0.0, 0.0, 0.0, 0.0, 0.0, 0.0, 0.0, 0.0, 0.0, 0.0, 0.0, 0.0, 0.0, 0.0, 0.0, 0.0, 0.0, 0.0, 0.0, 0.0, 0.0, 0.0, 0.0, 0.0, 0.0, 0.0, 0.0, 0.0, 0.0, 0.0, 0.0, 0.0, 0.0, 0.0, 0.0, 0.0, 0.0, 0.0, 0.0, 0.0, 0.0, 0.0, 0.0, 0.0, 0.0, 0.0, 0.0, 0.0, 0.0, 0.0, 0.0, 0.0, 0.0, 0.0, 0.0, 0.0, 0.0, 0.0, 0.0, 0.0, 0.0, 0.0, 0.0, 0.0, 0.0, 0.0, 0.0, 0.0, 0.0, 0.0, 0.0, 0.0, 0.0, 0.0, 0.0, 0.0, 0.0, 0.0, 0.0, 0.0, 0.0, 0.0, 0.0, 0.0, 0.0, 0.0, 0.0, 0.0, 0.0, 0.0, 0.0, 0.0, 0.0, 0.0, 0.0, 0.0, 0.0, 0.0, 0.0, 0.0, 0.0, 0.0, 0.0, 0.0, 0.0, 0.0, 0.0, 0.0, 0.0, 0.0, 0.0, 0.0, 0.0, 0.0, 0.0, 0.0, 0.0, 0.0, 0.0, 0.0, 0.0, 0.0, 0.0, 0.0, 0.0, 0.0, 0.0, 0.0, 0.0, 0.0, 0.0, 0.0, 0.0, 0.0, 0.0, 0.0, 0.0, 0.0, 0.0, 0.0, 0.0, 0.0, 0.0, 0.0, 0.0, 0.0, 0.0, 0.0, 0.0, 0.0, 0.0, 0.0, 0.0, 0.0, 0.0, 0.0, 0.0, 0.0, 0.0, 0.0, 0.0, 0.0, 0.0, 0.0, 0.0, 0.0, 0.0, 0.0, 0.0, 0.0, 0.0, 0.0, 0.0, 0.0, 0.0, 0.0, 0.0, 0.0, 0.0, 0.0, 0.0, 0.0, 0.0, 0.0, 0.0, 0.0, 0.0, 0.0, 0.0, 0.0, 0.0, 0.0, 0.0, 0.0, 0.0, 0.0, 0.0, 0.0, 0.0, 0.0, 0.0, 0.0, 0.0, 0.0, 0.0, 0.0, 0.0, 0.0, 0.0, 0.0, 0.0, 0.0, 0.0, 0.0, 0.0, 0.0, 0.0, 0.0, 0.0, 0.0, 0.0, 0.0, 0.0, 0.0, 0.0, 0.0, 0.0, 0.0, 0.0, 0.0, 0.0, 0.0, 0.0, 0.0, 0.0, 0.0, 0.0, 0.0, 0.0, 0.0, 0.0, 0.0, 0.0, 0.0, 0.0, 0.0, 0.0, 0.0, 0.0, 0.0, 0.0, 0.0, 0.0, 0.0, 0.0, 0.0, 0.0, 0.0, 0.0, 0.0, 0.0, 0.0, 0.0, 0.0, 0.0, 0.0, 0.0, 0.0, 0.0, 0.0, 0.0, 0.0, 0.0, 0.0, 0.0, 0.0, 0.0, 0.0, 0.0, 0.0, 0.0, 0.0, 0.0, 0.0, 0.0, 0.0, 0.0, 0.0, 0.0, 0.0, 0.0, 0.0, 0.0, 0.0, 0.0, 0.0, 0.0, 0.0, 0.0, 0.0, 0.0, 0.0, 0.0, 0.0, 0.0, 0.0, 0.0, 0.0, 0.0, 0.0, 0.0, 0.0, 0.0, 0.0, 0.0, 0.0, 0.0, 0.0, 0.0, 0.0, 0.0, 0.0, 0.0, 0.0, 0.0, 0.0, 0.0, 0.0, 0.0, 0.0, 0.0, 0.0, 0.0, 0.0, 0.0, 0.0, 0.0, 0.0, 0.0, 0.0, 0.0, 0.0, 0.0, 0.0, 0.0, 0.0, 0.0, 0.0, 0.0, 0.0, 0.0, 0.0, 0.0, 0.0, 0.0, 0.0, 0.0, 0.0, 0.0, 0.0, 0.0, 0.0, 0.0, 0.0, 0.0, 0.0, 0.0, 0.0, 0.0, 0.0, 0.0, 0.0, 0.0, 0.0, 0.0, 0.0, 0.0, 0.0, 0.0, 0.0, 0.0, 0.0, 0.0, 0.0, 0.0, 0.0, 0.0, 0.0, 0.0, 0.0, 0.0, 0.0, 0.0, 0.0, 0.0, 0.0, 0.0, 0.0, 0.0, 0.0, 0.0, 0.0, 0.0, 0.0, 0.0, 0.0, 0.0, 0.0, 0.0, 0.0, 0.0, 0.0, 0.0, 0.0, 0.0, 0.0, 0.0, 0.0, 0.0, 0.0, 0.0, 0.0, 0.0, 0.0, 0.0, 0.0, 0.0, 0.0, 0.0, 0.0, 0.0, 0.0, 0.0, 0.0, 0.0, 0.0, 0.0, 0.0, 0.0, 0.0, 0.0, 0.0, 0.0, 0.0, 0.0, 0.0, 0.0, 0.0, 0.0, 0.0, 0.0, 0.0, 0.0, 0.0, 0.0, 0.0, 0.0, 0.0, 0.0, 0.0, 0.0, 0.0, 0.0, 0.0, 0.0, 0.0, 0.0, 0.0, 0.0, 0.0, 0.0, 0.0, 0.0, 0.0, 0.0, 0.0, 0.0, 0.0, 0.0, 0.0, 0.0, 0.0, 0.0, 0.0, 0.0, 0.0, 0.0, 0.0, 0.0, 0.0, 0.0, 0.0, 0.0, 0.0, 0.0, 0.0, 0.0, 0.0, 0.0, 0.0, 0.0, 0.0, 0.0, 0.0, 0.0, 0.0, 0.0, 0.0, 0.0, 0.0, 0.0, 0.0, 0.0, 0.0, 0.0, 0.0, 0.0, 0.0, 0.0, 0.0, 0.0, 0.0, 0.0, 0.0, 0.0, 0.0, 0.0, 0.0, 0.0, 0.0, 0.0, 0.0, 0.0, 0.0, 0.0, 0.0, 0.0, 0.0, 0.0, 0.0, 0.0, 0.0, 0.0, 0.0, 0.0, 0.0, 0.0, 0.0, 0.0, 0.0, 0.0, 0.0, 0.0, 0.0, 0.0, 0.0, 0.0, 0.0, 0.0, 0.0, 0.0, 0.0, 0.0, 0.0, 0.0, 0.0, 0.0, 0.0, 0.0, 0.0, 0.0, 0.0, 0.0, 0.0, 0.0, 0.0, 0.0, 0.0, 0.0, 0.0, 0.0, 0.0, 0.0, 0.0, 0.0, 0.0, 0.0, 0.0, 0.0, 0.0, 0.0, 0.0, 0.0, 0.0, 0.0, 0.0, 0.0, 0.0, 0.0, 0.0, 0.0, 0.0, 0.0, 0.0, 0.0, 0.0, 0.0, 0.0, 0.0, 0.0, 0.0, 0.0, 0.0, 0.0, 0.0, 0.0, 0.0, 0.0, 0.0, 0.0, 0.0, 0.0, 0.0, 0.0, 0.0, 0.0, 0.0, 0.0, 0.0, 0.0, 0.0, 0.0, 0.0, 0.0, 0.0, 0.0, 0.0, 0.0, 0.0, 0.0, 0.0, 0.0, 0.0, 0.0, 0.0, 0.0, 0.0, 0.0, 0.0, 0.0, 0.0, 0.0, 0.0, 0.0, 0.0, 0.0, 0.0, 0.0, 0.0, 0.0, 0.0, 0.0, 0.0, 0.0, 0.0, 0.0, 0.0, 0.0, 0.0, 0.0, 0.0, 0.0, 0.0, 0.0, 0.0, 0.0, 0.0, 0.0, 0.0, 0.0, 0.0, 0.0, 0.0, 0.0, 0.0, 0.0, 0.0, 0.0, 0.0, 0.0, 0.0, 0.0, 0.0, 0.0, 0.0, 0.0, 0.0, 0.0, 0.0, 0.0, 0.0, 0.0, 0.0, 0.0, 0.0, 0.0, 0.0, 0.0, 0.0, 0.0, 0.0, 0.0, 0.0, 0.0, 0.0, 0.0, 0.0, 0.0, 0.0, 0.0, 0.0, 0.0, 0.0, 0.0, 0.0, 0.0, 0.0, 0.0, 0.0, 0.0, 0.0, 0.0, 0.0, 0.0, 0.0, 0.0, 0.0, 0.0, 0.0, 0.0, 0.0, 0.0, 0.0, 0.0, 0.0, 0.0, 0.0, 0.0, 0.0, 0.0, 0.0, 0.0, 0.0, 0.0, 0.0, 0.0, 0.0, 0.0, 0.0, 0.0, 0.0, 0.0, 0.0, 0.0, 0.0, 0.0, 0.0, 0.0, 0.0, 0.0, 0.0, 0.0, 0.0, 0.0, 0.0, 0.0, 0.0, 0.0, 0.0, 0.0, 0.0, 0.0, 0.0, 0.0, 0.0, 0.0, 0.0, 0.0, 0.0, 0.0, 0.0, 0.0, 0.0, 0.0, 0.0, 0.0, 0.0, 0.0, 0.0, 0.0, 0.0, 0.0, 0.0, 0.0, 0.0, 0.0, 0.0, 0.0, 0.0, 0.0, 0.0, 0.0, 0.0, 0.0, 0.0, 0.0, 0.0, 0.0, 0.0, 0.0, 0.0, 0.0, 0.0, 0.0, 0.0, 0.0, 0.0, 0.0, 0.0, 0.0, 0.0, 0.0, 0.0, 0.0, 0.0, 0.0, 0.0, 0.0, 0.0, 0.0, 0.0, 0.0, 0.0, 0.0, 0.0, 0.0, 0.0, 0.0, 0.0, 0.0, 0.0, 0.0, 0.0, 0.0, 0.0, 0.0, 0.0, 0.0, 0.0, 0.0, 0.0, 0.0, 0.0, 0.0, 0.0, 0.0, 0.0, 0.0, 0.0, 0.0, 0.0, 0.0, 0.0, 0.0, 0.0, 0.0, 0.0, 0.0, 0.0, 0.0, 0.0, 0.0, 0.0, 0.0, 0.0, 0.0, 0.0, 0.0, 0.0, 0.0, 0.0, 0.0, 0.0, 0.0, 0.0, 0.0, 0.0, 0.0, 0.0, 0.0, 0.0, 0.0, 0.0, 0.0, 0.0, 0.0, 0.0, 0.0, 0.0, 0.0, 0.0, 0.0, 0.0, 0.0, 0.0, 0.0, 0.0, 0.0, 0.0, 0.0, 0.0, 0.0, 0.0, 0.0, 0.0, 0.0, 0.0, 0.0, 0.0, 0.0, 0.0, 0.0, 0.0, 0.0, 0.0, 0.0, 0.0, 0.0, 0.0, 0.0, 0.0, 0.0, 0.0, 0.0, 0.0, 0.0, 0.0, 0.0, 0.0, 0.0, 0.0, 0.0, 0.0, 0.0, 0.0, 0.0, 0.0, 0.0, 0.0, 0.0, 0.0, 0.0, 0.0, 0.0, 0.0, 0.0, 0.0, 0.0, 0.0, 0.0, 0.0, 0.0, 0.0, 0.0, 0.0, 0.0, 0.0, 0.0, 0.0, 0.0, 0.0, 0.0, 0.0, 0.0, 0.0, 0.0, 0.0, 0.0, 0.0, 0.0, 0.0, 0.0, 0.0, 0.0, 0.0, 0.0, 0.0, 0.0, 0.0, 0.0, 0.0, 0.0, 0.0, 0.0, 0.0, 0.0, 0.0, 0.0, 0.0, 0.0, 0.0, 0.0, 0.0, 0.0, 0.0, 0.0, 0.0, 0.0, 0.0, 0.0, 0.0, 0.0, 0.0, 0.0, 0.0, 0.0, 0.0, 0.0, 0.0, 0.0, 0.0, 0.0, 0.0, 0.0, 0.0, 0.0, 0.0, 0.0, 0.0, 0.0, 0.0, 0.0, 0.0, 0.0, 0.0, 0.0, 0.0, 0.0, 0.0, 0.0, 0.0, 0.0, 0.0, 0.0, 0.0, 0.0, 0.0, 0.0, 0.0, 0.0, 0.0, 0.0, 0.0, 0.0, 0.0, 0.0, 0.0, 0.0, 0.0, 0.0, 0.0, 0.0, 0.0, 0.0, 0.0, 0.0, 0.0, 0.0, 0.0, 0.0, 0.0, 0.0, 0.0, 0.0, 0.0, 0.0, 0.0, 0.0, 0.0, 0.0, 0.0, 0.0, 0.0, 0.0, 0.0, 0.0, 0.0, 0.0, 0.0, 0.0, 0.0, 0.0, 0.0, 0.0, 0.0, 0.0, 0.0, 0.0, 0.0, 0.0, 0.0, 0.0, 0.0, 0.0, 0.0, 0.0, 0.0, 0.0, 0.0, 0.0, 0.0, 0.0, 0.0, 0.0, 0.0, 0.0, 0.0, 0.0, 0.0, 0.0, 0.0, 0.0, 0.0, 0.0, 0.0, 0.0, 0.0, 0.0, 0.0, 0.0, 0.0, 0.0, 0.0, 0.0, 0.0, 0.0, 0.0, 0.0, 0.0, 0.0, 0.0, 0.0, 0.0, 0.0, 0.0, 0.0, 0.0, 0.0, 0.0, 0.0, 0.0, 0.0, 0.0, 0.0, 0.0, 0.0, 0.0, 0.0, 0.0, 0.0, 0.0, 0.0, 0.0, 0.0, 0.0, 0.0, 0.0, 0.0, 0.0, 0.0, 0.0, 0.0, 0.0, 0.0, 0.0, 0.0, 0.0, 0.0, 0.0, 0.0, 0.0, 0.0, 0.0, 0.0, 0.0, 0.0, 0.0, 0.0, 0.0, 0.0, 0.0, 0.0, 0.0, 0.0, 0.0, 0.0, 0.0, 0.0, 0.0, 0.0, 0.0, 0.0, 0.0, 0.0, 0.0, 0.0, 0.0, 0.0, 0.0, 0.0, 0.0, 0.0, 0.0, 0.0, 0.0, 0.0, 0.0, 0.0, 0.0, 0.0, 0.0, 0.0, 0.0, 0.0, 0.0, 0.0, 0.0, 0.0, 0.0, 0.0, 0.0, 0.0, 0.0, 0.0, 0.0, 0.0, 0.0, 0.0, 0.0, 0.0, 0.0, 0.0, 0.0, 0.0, 0.0, 0.0, 0.0, 0.0, 0.0, 0.0, 0.0, 0.0, 0.0, 0.0, 0.0, 0.0, 0.0, 0.0, 0.0, 0.0, 0.0, 0.0, 0.0, 0.0, 0.0, 0.0, 0.0, 0.0, 0.0, 0.0, 0.0, 0.0, 0.0, 0.0, 0.0, 0.0, 0.0, 0.0, 0.0, 0.0, 0.0, 0.0, 0.0, 0.0, 0.0, 0.0, 0.0, 0.0, 0.0, 0.0, 0.0, 0.0, 0.0, 0.0, 0.0, 0.0, 0.0, 0.0, 0.0, 0.0, 0.0, 0.0, 0.0, 0.0, 0.0, 0.0, 0.0, 0.0, 0.0, 0.0, 0.0, 0.0, 0.0, 0.0, 0.0, 0.0, 0.0, 0.0, 0.0, 0.0, 0.0, 0.0, 0.0, 0.0, 0.0, 0.0, 0.0, 0.0, 0.0, 0.0, 0.0, 0.0, 0.0, 0.0, 0.0, 0.0, 0.0, 0.0, 0.0, 0.0, 0.0, 0.0, 0.0, 0.0, 0.0, 0.0, 0.0, 0.0, 0.0, 0.0, 0.0, 0.0, 0.0, 0.0, 0.0, 0.0, 0.0, 0.0, 0.0, 0.0, 0.0, 0.0, 0.0, 0.0, 0.0, 0.0, 0.0, 0.0, 0.0, 0.0, 0.0, 0.0, 0.0, 0.0, 0.0, 0.0, 0.0, 0.0, 0.0, 0.0, 0.0, 0.0, 0.0, 0.0, 0.0, 0.0, 0.0, 0.0, 0.0, 0.0, 0.0, 0.0, 0.0, 0.0, 0.0, 0.0, 0.0, 0.0, 0.0, 0.0, 0.0, 0.0, 0.0, 0.0, 0.0, 0.0, 0.0, 0.0, 0.0, 0.0, 0.0, 0.0, 0.0, 0.0, 0.0, 0.0, 0.0, 0.0, 0.0, 0.0, 0.0, 0.0, 0.0, 0.0, 0.0, 0.0, 0.0, 0.0, 0.0, 0.0, 0.0, 0.0, 0.0, 0.0, 0.0, 0.0, 0.0, 0.0, 0.0, 0.0, 0.0, 0.0, 0.0, 0.0, 0.0, 0.0, 0.0, 0.0, 0.0, 0.0, 0.0, 0.0, 0.0, 0.0, 0.0, 0.0, 0.0, 0.0, 0.0, 0.0, 0.0, 0.0, 0.0, 0.0, 0.0, 0.0, 0.0, 0.0, 0.0, 0.0, 0.0, 0.0, 0.0, 0.0, 0.0, 0.0, 0.0, 0.0, 0.0, 0.0, 0.0, 0.0, 0.0, 0.0, 0.0, 0.0, 0.0, 0.0, 0.0, 0.0, 0.0, 0.0, 0.0, 0.0, 0.0, 0.0, 0.0, 0.0, 0.0, 0.0, 0.0, 0.0, 0.0, 0.0, 0.0, 0.0, 0.0, 0.0, 0.0, 0.0, 0.0, 0.0, 0.0, 0.0, 0.0, 0.0, 0.0, 0.0, 0.0, 0.0, 0.0, 0.0, 0.0, 0.0, 0.0, 0.0, 0.0, 0.0, 0.0, 0.0, 0.0, 0.0, 0.0, 0.0, 0.0, 0.0, 0.0, 0.0, 0.0, 0.0, 0.0, 0.0, 0.0, 0.0, 0.0, 0.0, 0.0, 0.0, 0.0, 0.0, 0.0, 0.0, 0.0, 0.0, 0.0, 0.0, 0.0, 0.0, 0.0, 0.0, 0.0, 0.0, 0.0, 0.0, 0.0, 0.0, 0.0, 0.0, 0.0, 0.0, 0.0, 0.0, 0.0, 0.0, 0.0, 0.0, 0.0, 0.0, 0.0, 0.0, 0.0, 0.0, 0.0, 0.0, 0.0, 0.0, 0.0, 0.0, 0.0, 0.0, 0.0, 0.0, 0.0, 0.0, 0.0, 0.0, 0.0, 0.0, 0.0, 0.0, 0.0, 0.0, 0.0, 0.0, 0.0, 0.0, 0.0, 0.0, 0.0, 0.0, 0.0, 0.0, 0.0, 0.0, 0.0, 0.0, 0.0, 0.0, 0.0, 0.0, 0.0, 0.0, 0.0, 0.0, 0.0, 0.0, 0.0, 0.0, 0.0, 0.0, 0.0, 0.0, 0.0, 0.0, 0.0, 0.0, 0.0, 0.0, 0.0, 0.0, 0.0, 0.0, 0.0, 0.0, 0.0, 0.0, 0.0, 0.0, 0.0, 0.0, 0.0, 0.0, 0.0, 0.0, 0.0, 0.0, 0.0, 0.0, 0.0, 0.0, 0.0, 0.0, 0.0, 0.0, 0.0, 0.0, 0.0, 0.0, 0.0, 0.0, 0.0, 0.0, 0.0, 0.0, 0.0, 0.0, 0.0, 0.0, 0.0, 0.0, 0.0, 0.0, 0.0, 0.0, 0.0, 0.0, 0.0, 0.0, 0.0, 0.0, 0.0, 0.0, 0.0, 0.0, 0.0, 0.0, 0.0, 0.0, 0.0, 0.0, 0.0, 9.980690127206587e-07, 9.980690127206587e-07, 1.3534404714493453e-06, 1.3534404714493453e-06, 4.487744709910336e-06, 4.487744709910336e-06, 5.406629425219146e-06, 5.406629425219146e-06, 1.0298985637393917e-05, 1.0298985637393917e-05, 1.4764630762230277e-05, 1.4764630762230277e-05, 2.3856965461721464e-05, 2.3856965461721464e-05, 2.3859131824623686e-05, 2.3859131824623686e-05, 2.615561175787174e-05, 2.615561175787174e-05, 3.1146050529975816e-05, 3.1146050529975816e-05, 3.275590820628357e-05, 3.275590820628357e-05, 3.7854775341868176e-05, 3.7854775341868176e-05, 6.967407790333077e-05, 6.967407790333077e-05, 8.491553969053983e-05, 8.491553969053983e-05, 9.350479138992876e-05, 9.350479138992876e-05, 9.900202883977482e-05, 9.900202883977482e-05, 9.996295185165147e-05, 9.996295185165147e-05, 0.00014041094390113688, 0.00014041094390113688, 0.0001425036329457846, 0.0001425036329457846, 0.0022708150625061515, 0.0022708150625061515, 0.007679192791873817, 0.007679192791873817, 0.01234706420073399, 0.01234706420073399, 0.023671634176213045, 0.023671634176213045, 0.0338421914183823, 0.0338421914183823, 0.04568629233808775, 0.04568629233808775, 0.113745021973614, 0.113745021973614, 0.24734853946428542, 0.24734853946428542, 0.27793092645358536, 0.27793092645358536, 0.36613357061114643, 0.3661335706111465, 0.5315244209553905, 0.5315244209553905, 0.5380337628423788, 0.5380337628423788, 1.1180283085955254, 1.1180283085955254, 1.127366362360802, 1.127366362360802, 1.1291857107252923, 1.1291857107252923, 1.7761137381125693, 1.7761137381125693, 1.9851398163100376, 1.9851398163100376, 2.1789018635167774, 2.1789018635167774, 2.633021262770746, 2.633021262770746, 2.748891882245397, 2.748891882245397, 2.8110022484103085, 2.8110022484103085, 3.7305117719466083, 3.7305117719466083, 3.9534987555069527, 3.9534987555069527, 3.9858776761602606, 3.9858776761602606, 4.17591214944788, 4.17591214944788, 4.20683946089016, 4.20683946089016, 4.262463205649946, 4.262463205649946, 4.391335425381623, 4.391335425381623, 4.899986632822347, 4.899986632822347, 5.061655258809443, 5.061655258809443, 5.1667533344511405, 5.1667533344511405, 5.384447375490928, 5.384447375490928, 5.44959317747836, 5.44959317747836, 5.665888637609805, 5.665888637609805, 5.767783457939749, 5.767783457939749, 5.773734854217517, 5.773734854217517, 5.868330901292963, 5.868330901292963, 5.927595211975877, 5.927595211975877, 6.43303108953309, 6.43303108953309, 6.776067697795648, 6.776067697795648, 6.903042975353538, 6.903042975353538, 6.987439617618716, 6.987439617618716, 7.115406697247989, 7.115406697247989, 7.29275929021725, 7.29275929021725, 7.440149308080238, 7.440149308080238, 7.62306049647082, 7.62306049647082, 7.662327183014542, 7.662327183014542, 7.739291360113671, 7.739291360113671, 7.778011851885257, 7.778011851885257, 8.112852110212945, 8.112852110212945, 8.336987830817918, 8.336987830817918, 8.507493944165207, 8.507493944165207, 8.529887654514607, 8.529887654514607, 8.558735310725892, 8.558735310725892, 8.580135526779056, 8.580135526779056, 8.590029280945718, 8.590029280945718, 8.675904958481873, 8.675904958481873, 8.975062699923223, 8.975062699923223, 9.396827209695276, 9.396827209695276, 9.414527015766156, 9.414527015766156, 9.449314147119086, 9.449314147119086, 9.46321701370425, 9.46321701370425, 9.64842269511592, 9.64842269511592, 9.70465015369445, 9.70465015369445, 9.745268370870203, 9.745268370870203, 9.87312121222357, 9.87312121222357, 9.87621986456577, 9.87621986456577, 9.950162855181555, 9.950162855181555, 10.134818554894819, 10.134818554894819, 10.149743536708614, 10.149743536708614, 10.271646817309037, 10.271646817309037, 10.311414221647551, 10.311414221647551, 10.337215095812464, 10.337215095812464, 10.54866866303337, 10.54866866303337, 10.644742960015577, 10.644742960015577, 10.684643992815586, 10.684643992815586, 10.69544596014001, 10.69544596014001, 10.760093464996821, 10.760093464996821, 10.847792922970967, 10.847792922970967, 10.896985001805636, 10.896985001805636, 10.91572380411841, 10.91572380411841, 11.059967573662966, 11.059967573662966, 11.112616217699403, 11.112616217699403, 11.11700965415771, 11.11700965415771, 11.803540503662703, 11.803540503662703, 11.848080770307169, 11.848080770307169, 11.869894365422596, 11.869894365422596, 11.870171492038317, 11.870171492038317, 12.091011382096884, 12.091011382096884, 12.19487866939349, 12.19487866939349, 12.409147033229058, 12.409147033229058, 12.590235884278052, 12.590235884278052, 12.616307401575755, 12.616307401575755, 12.867038497905195, 12.867038497905195, 12.908387230567246, 12.908387230567246, 12.91904544178527, 12.91904544178527, 12.924905364868145, 12.924905364868145, 12.943142734346823, 12.943142734346825, 13.100081509710655, 13.100081509710655, 13.152130119623461, 13.152130119623461, 13.231913519268385, 13.231913519268385, 13.334871142598898, 13.334871142598898, 13.432037421949754, 13.432037421949754, 13.528106614394705, 13.528106614394705, 13.561400226598872, 13.561400226598872, 13.575161904850727, 13.575161904850727, 13.641693843714076, 13.641693843714076, 13.643440607812236, 13.643440607812236, 13.656888993006973, 13.656888993006973, 13.696394886937163, 13.696394886937163, 13.75452900712827, 13.75452900712827, 13.792387432167706, 13.792387432167706, 13.87091642161928, 13.87091642161928, 13.919794783743612, 13.919794783743612, 13.920300688010975, 13.920300688010975, 13.940825644180702, 13.940825644180702, 13.97528022082665, 13.97528022082665, 13.976495718808954, 13.976495718808954, 14.056261864648416, 14.056261864648416, 14.07343667810224, 14.07343667810224, 14.147040855196353, 14.147040855196353, 14.203593003826876, 14.203593003826876, 14.24740718775948, 14.24740718775948, 14.31911717980997, 14.31911717980997, 14.43106099666765, 14.43106099666765, 14.452762939298557, 14.452762939298557, 14.504662766724298, 14.504662766724298, 14.50610858719639, 14.50610858719639, 14.547314708321203, 14.547314708321203, 14.582279588735908, 14.582279588735908, 14.588447047234794, 14.588447047234794, 14.669197469749891, 14.669197469749891, 14.684710157158491, 14.684710157158491, 14.757867955141874, 14.757867955141874, 14.77351977228298, 14.77351977228298, 14.773908593934353, 14.773908593934353, 14.860061379248577, 14.860061379248577, 14.878001285777476, 14.878001285777476, 14.889388176517214, 14.889388176517214, 14.93456261175941, 14.93456261175941, 14.949743383916626, 14.949743383916626, 14.969993526151107, 14.969993526151107, 14.9756075969466, 14.9756075969466, 14.995592881862557, 14.995592881862557, 15.113219980738661, 15.113219980738661, 15.225061044533113, 15.225061044533113, 15.252941885462574, 15.252941885462574, 15.286275080587997, 15.286275080587997, 15.327449418689746, 15.327449418689746, 15.346799516858049, 15.346799516858049, 15.439609868473168, 15.439609868473168, 15.450944352490042, 15.450944352490042, 15.455688450376087, 15.455688450376087, 15.535617376037235, 15.535617376037235, 15.640882829950726, 15.640882829950726, 15.828877843921084, 15.828877843921084, 16.07625705762561, 16.07625705762561, 16.170929982358647, 16.170929982358647, 16.27663413365784, 16.27663413365784, 16.34890765676268, 16.34890765676268, 16.366114878184362, 16.366114878184362, 16.369245533397446, 16.369245533397446, 16.431537460024945, 16.431537460024945, 16.577197937208613, 16.577197937208613, 16.69626880952951, 16.69626880952951, 16.748104558013676, 16.748104558013676, 16.75870618333548, 16.75870618333548, 16.765617799860436, 16.765617799860436, 16.781780750681712, 16.781780750681712, 16.786754268443463, 16.786754268443463, 17.079536067827384, 17.079536067827384, 17.206767032435256, 17.206767032435256, 17.245660743965246, 17.245660743965246, 17.425538965574304, 17.425538965574304, 17.525891958406262, 17.525891958406262, 17.552143728287824, 17.552143728287824, 17.578312134108476, 17.578312134108476, 17.599983936634274, 17.599983936634274, 17.727313073514306, 17.727313073514306, 17.742129410014343, 17.742129410014343, 17.844732689588557, 17.844732689588557, 17.938649992374348, 17.938649992374348, 18.003146867680766, 18.003146867680766, 18.177786802836952, 18.177786802836952, 18.403925276110225, 18.403925276110225, 18.411086062222466, 18.411086062222466, 18.43767397318705, 18.43767397318705, 18.453070413648376, 18.453070413648376, 18.54236581192487, 18.542365811924874, 18.54727722914186, 18.54727722914186, 18.614367098041992, 18.614367098041992, 18.625754724753794, 18.625754724753794, 18.77113481348257, 18.77113481348257, 18.91488858459088, 18.91488858459088, 19.003334905733592, 19.003334905733592, 19.01567583912837, 19.01567583912837, 19.233990616926018, 19.233990616926018, 19.3014071781798, 19.3014071781798, 19.321690852801783, 19.321690852801783, 19.530452420000373, 19.530452420000373, 19.63233817847341, 19.63233817847341, 19.696209944059504, 19.696209944059504, 19.70046812460198, 19.70046812460198, 19.839781735224058, 19.839781735224058, 19.862179661334025, 19.862179661334025, 19.875435357701154, 19.875435357701154, 19.93340552889501, 19.93340552889501, 19.957399271839947, 19.957399271839947, 19.97550009089353, 19.97550009089353, 20.042231357103216, 20.042231357103216, 20.06462379519039, 20.06462379519039, 20.08983592585287, 20.08983592585287, 20.105995518119787, 20.105995518119787, 20.172660507959634, 20.172660507959634, 20.17710049451315, 20.17710049451315, 20.1899464962174, 20.1899464962174, 20.263586921100416, 20.263586921100416, 20.424777425717647, 20.424777425717647, 20.458758057275467, 20.458758057275467, 20.540583668444647, 20.540583668444647, 20.67580919015613, 20.67580919015613, 20.694993578151507, 20.694993578151507, 20.706722291231394, 20.706722291231394, 20.70889758172274, 20.70889758172274, 20.740594217187045, 20.740594217187045, 20.742585829829398, 20.742585829829398, 20.785696151258126, 20.785696151258126, 20.912955797437075, 20.912955797437075, 21.18859990688537, 21.18859990688537, 21.233476913740777, 21.233476913740777, 21.31789776904562, 21.31789776904562, 21.43731773060363, 21.43731773060363, 21.460798181815832, 21.460798181815832, 21.658452615773943, 21.658452615773946, 21.667210050213633, 21.667210050213633, 21.70415614807919, 21.70415614807919, 21.785045099114072, 21.785045099114072, 21.859953537738164, 21.859953537738164, 21.958519427902463, 21.958519427902463, 21.98770515779081, 21.98770515779081, 22.06011479693446, 22.06011479693446, 22.06150943490884, 22.06150943490884, 22.074345429384646, 22.074345429384646, 22.087138036970437, 22.08713803697044, 22.192603300812998, 22.192603300812998, 22.404179528908184, 22.404179528908184, 22.421064012201914, 22.421064012201914, 22.487479499123555, 22.487479499123555, 22.555617209289863, 22.555617209289863, 22.659323503902325, 22.659323503902325, 22.681580921567868, 22.681580921567868, 22.75184971902874, 22.75184971902874, 22.939058415708505, 22.939058415708505, 22.990430213876902, 22.990430213876902, 23.059738235218298, 23.059738235218298, 23.085302631152324, 23.085302631152324, 23.10702195380875, 23.10702195380875, 23.20729892188861, 23.20729892188861, 23.24424948543429, 23.24424948543429, 23.253717894987293, 23.253717894987293, 23.258491632903915, 23.258491632903915, 23.312127506782947, 23.312127506782947, 23.328752472751965, 23.328752472751965, 23.416670595599026, 23.416670595599026, 23.435953707136814, 23.435953707136814, 23.55422793292628, 23.55422793292628, 23.801295887974906, 23.801295887974906, 23.866702675195594, 23.866702675195594, 23.871980182683714, 23.871980182683714, 23.897849105995675, 23.897849105995675, 24.063240281607342, 24.063240281607342, 24.064664489646123, 24.064664489646123, 24.13579399851154, 24.13579399851154, 24.30388832629496, 24.30388832629496, 24.34427455531856, 24.34427455531856, 24.476828912943837, 24.476828912943837, 24.652611483196747, 24.652611483196747, 24.75616495744421, 24.75616495744421, 24.82079532331156, 24.82079532331156, 24.855331418948474, 24.855331418948474, 24.890852597452568, 24.890852597452568, 24.989446679001727, 24.989446679001727, 25.038336749916407, 25.038336749916407, 25.046723944499707, 25.046723944499707, 25.075382382142134, 25.075382382142134, 25.13714842425335, 25.13714842425335, 25.191809027020476, 25.191809027020476, 25.29913889840916, 25.29913889840916, 25.365553652113807, 25.36555365211381, 25.497458856957476, 25.497458856957476, 25.632172078284157, 25.632172078284157, 25.81810050262977, 25.81810050262977, 25.951511618295882, 25.951511618295882, 25.98796115799347, 25.98796115799347, 26.070127098563344, 26.070127098563344, 26.179726497468895, 26.1797264974689, 26.238089154826472, 26.238089154826472, 26.24727166258904, 26.24727166258904, 26.334950391085975, 26.334950391085975, 26.431345546274493, 26.431345546274493, 26.44786102048453, 26.44786102048453, 26.46846171294892, 26.46846171294892, 26.51734021093658, 26.51734021093658, 26.525087465422633, 26.525087465422633, 26.566306983253224, 26.566306983253224, 26.566637101764893, 26.566637101764893, 26.637924825508826, 26.637924825508826, 26.852544688471543, 26.852544688471543, 26.930382973373465, 26.930382973373465, 26.933673158954953, 26.933673158954953, 27.012254873822197, 27.012254873822197, 27.105714096538215, 27.105714096538215, 27.197407344165082, 27.197407344165082, 27.221795532391678, 27.221795532391678, 27.25713323355854, 27.25713323355854, 27.31290729016544, 27.31290729016544, 27.5226713224923, 27.5226713224923, 27.641891303236044, 27.641891303236044, 27.823993991709973, 27.823993991709973, 28.074058517597795, 28.074058517597795, 28.217882299593715, 28.217882299593715, 28.356749680866585, 28.356749680866585, 28.458154259349, 28.458154259349, 28.603974794877605, 28.603974794877605, 28.61246787333845, 28.61246787333845, 28.749305275026288, 28.749305275026288, 28.795511740758194, 28.795511740758194, 29.04736537031266, 29.04736537031266, 29.137148006773625, 29.137148006773625, 29.166170271760574, 29.166170271760574, 29.240194015978133, 29.240194015978133, 29.47272899332679, 29.47272899332679, 29.550046165364122, 29.550046165364126, 29.634704779658904, 29.634704779658904, 29.693996350598976, 29.693996350598976, 29.723773660963822, 29.723773660963822, 29.735508130299863, 29.735508130299863, 29.975503005136638, 29.97550300513664, 29.975516164620082, 29.975516164620082, 30.078088050025585, 30.078088050025585, 30.271717894085114, 30.271717894085114, 30.291895227075006, 30.291895227075006, 30.37428995781487, 30.37428995781487, 30.461010926380382, 30.461010926380382, 30.57285852835173, 30.57285852835173, 30.673684649698888, 30.673684649698888, 30.714506901471168, 30.714506901471168, 30.80338660103254, 30.803386601032543, 30.8158280473592, 30.8158280473592, 30.847147227898635, 30.847147227898635, 30.943515376820248, 30.943515376820248, 31.09164879259257, 31.09164879259257, 31.26958897090723, 31.26958897090723, 31.38548446343607, 31.38548446343607, 31.577991861418965, 31.577991861418965, 31.755640920051412, 31.755640920051412, 31.888990558438067, 31.888990558438067, 32.10491596426874, 32.10491596426874, 32.118316343605365, 32.118316343605365, 32.16244238813613, 32.16244238813613, 32.219748203702785, 32.219748203702785, 32.27929325833825, 32.27929325833825, 32.34870016377907, 32.34870016377907, 32.46524136004934, 32.46524136004934, 32.58141677806473, 32.58141677806473, 32.879559656005846, 32.879559656005846, 33.13075663029983, 33.13075663029983, 33.169188802488215, 33.169188802488215, 33.30949827939385, 33.30949827939386, 33.46057028839993, 33.46057028839993, 33.65511229669428, 33.65511229669428, 33.706041192857, 33.706041192857, 33.71175540537199, 33.711755405371996, 33.788422999595376, 33.78842299959538, 33.84680436581402, 33.84680436581402, 33.935135208205295, 33.935135208205295, 34.01706250940209, 34.01706250940209, 34.04479803455634, 34.04479803455634, 34.052842080777076, 34.052842080777076, 34.084985035839146, 34.084985035839146, 34.22377839420728, 34.22377839420728, 34.287101522943345, 34.287101522943345, 34.32037795817798, 34.32037795817798, 34.321035798339395, 34.321035798339395, 34.37539010399658, 34.37539010399658, 34.384324359216656, 34.384324359216656, 34.392714730400506, 34.392714730400506, 34.44520973861677, 34.44520973861677, 34.77120320067801, 34.77120320067801, 35.13524600779945, 35.13524600779945, 35.68982729572083, 35.68982729572084, 35.810156574533465, 35.810156574533465, 36.05185626915839, 36.05185626915839, 36.11064086177431, 36.11064086177431, 36.13197289980793, 36.13197289980793, 36.30922913101848, 36.30922913101848, 36.346136790548684, 36.346136790548684, 36.407224565187725, 36.407224565187725, 36.54583148959342, 36.54583148959342, 36.610212338444725, 36.610212338444725, 36.645137676326364, 36.645137676326364, 36.74352496215996, 36.74352496215996, 36.82015849205947, 36.82015849205947, 36.98004155729915, 36.98004155729915, 37.05919587987691, 37.05919587987691, 37.12805929714582, 37.12805929714582, 37.15060166256453, 37.15060166256453, 37.52182919933132, 37.52182919933132, 37.7181116307433, 37.7181116307433, 37.82324644285602, 37.82324644285602, 37.83151257771467, 37.83151257771467, 37.85766576661942, 37.85766576661942, 37.86417300321532, 37.86417300321532, 37.89479089656994, 37.89479089656994, 38.020004069054465, 38.020004069054465, 38.09317272761786, 38.09317272761786, 38.10928662366558, 38.10928662366558, 38.56519718952728, 38.56519718952728, 38.66222560702018, 38.66222560702019, 38.744671130291344, 38.744671130291344, 38.77281721603596, 38.77281721603596, 39.069708146501085, 39.069708146501085, 39.08986054236601, 39.08986054236601, 39.272150371909504, 39.272150371909504, 39.55733723966177, 39.55733723966177, 39.59047445777081, 39.59047445777081, 39.77864256735276, 39.77864256735276, 39.791449015369906, 39.791449015369906, 39.810439250130216, 39.810439250130216, 39.865748711067894, 39.865748711067894, 40.04718567192401, 40.04718567192401, 40.142299715661366, 40.142299715661366, 40.17544197710206, 40.17544197710206, 40.19546860672372, 40.19546860672373, 40.20994371698227, 40.20994371698227, 40.518857487097236, 40.518857487097236, 40.86597473801038, 40.86597473801038, 41.476564204567445, 41.47656420456745, 41.50293159233722, 41.50293159233722, 41.51064036753077, 41.51064036753077, 41.5934675392696, 41.5934675392696, 41.59676243778412, 41.59676243778412, 41.69053499320573, 41.69053499320573, 42.07569415604094, 42.07569415604094, 42.26844676468456, 42.26844676468456, 42.74210315895611, 42.74210315895611, 42.934051935280564, 42.93405193528057, 43.08662541534629, 43.08662541534629, 43.17977277666371, 43.17977277666371, 43.58460256592076, 43.58460256592076, 43.60357573470896, 43.60357573470896, 43.648629723558095, 43.648629723558095, 43.72675195263122, 43.72675195263122, 43.89614396446123, 43.89614396446124, 43.97070098067692, 43.970700980676924, 44.20659531720593, 44.20659531720593, 44.25588519643752, 44.25588519643752, 44.26513847537695, 44.26513847537695, 44.379527345190034, 44.379527345190034, 44.47851891143079, 44.47851891143079, 44.521327149016585, 44.521327149016585, 44.74597764535129, 44.74597764535129, 44.88005162855907, 44.88005162855907, 44.90749245053164, 44.90749245053164, 45.526530384276356, 45.52653038427637, 45.672486156163046, 45.672486156163046, 45.90219123217119, 45.90219123217119, 46.02035792158739, 46.02035792158739, 46.069906003983654, 46.069906003983654, 46.07101132249477, 46.07101132249477, 46.25906404322086, 46.25906404322086, 46.42701884385342, 46.42701884385342, 46.43602216441545, 46.43602216441545, 46.663820733559874, 46.663820733559874, 46.79402630701297, 46.79402630701297, 46.808095888474284, 46.808095888474284, 46.812449596288886, 46.812449596288886, 46.93120180084003, 46.93120180084003, 46.94152908926822, 46.94152908926823, 46.9897232979687, 46.9897232979687, 47.10956958414863, 47.10956958414863, 47.1329166856614, 47.1329166856614, 47.1342747451141, 47.1342747451141, 47.18248672470605, 47.18248672470605, 47.29395417202003, 47.29395417202003, 47.35396856788578, 47.35396856788578, 47.5674793163558, 47.5674793163558, 47.8192816292312, 47.8192816292312, 47.8749890302117, 47.8749890302117, 48.144417399617154, 48.144417399617154, 48.161169234342054, 48.161169234342054, 48.288443267558634, 48.288443267558634, 48.290092435579524, 48.29009243557953, 48.39603249698309, 48.39603249698309, 48.40645576577255, 48.40645576577255, 48.40948045049682, 48.40948045049682, 48.85404729688184, 48.85404729688184, 48.92990666443061, 48.92990666443061, 49.10905541755676, 49.10905541755676, 49.21814789912485, 49.21814789912485, 49.24353899602312, 49.24353899602312, 49.50930424003482, 49.50930424003482, 49.671597003518805, 49.671597003518805, 49.781019680297305, 49.781019680297305, 49.99428736670599, 49.99428736670599, 50.70852901886498, 50.70852901886498, 50.7560030885175, 50.7560030885175, 50.81404234444486, 50.814042344444864, 50.8233816675084, 50.8233816675084, 51.05416698368453, 51.05416698368453, 51.07044948904107, 51.070449489041074, 51.25007914945504, 51.25007914945504, 51.42664170702559, 51.42664170702559, 51.635012375299, 51.635012375299, 51.69601124902211, 51.69601124902211, 51.70870617702583, 51.70870617702583, 51.73999675233284, 51.73999675233284, 51.78726638012151, 51.78726638012151, 52.07463920593083, 52.07463920593083, 52.22928508230517, 52.22928508230517, 52.37599922788408, 52.37599922788408, 52.70036812830541, 52.70036812830541, 52.76068427266891, 52.76068427266891, 52.79853023937231, 52.79853023937231, 53.11395769303594, 53.11395769303595, 53.2464182216745, 53.2464182216745, 53.25425423373224, 53.25425423373224, 53.32474384495692, 53.32474384495692, 53.4523208358067, 53.4523208358067, 53.491211587049044, 53.491211587049044, 53.49830802542848, 53.49830802542848, 53.72626185039474, 53.72626185039474, 53.72930053760672, 53.72930053760672, 53.977474923477715, 53.977474923477715, 54.02720664030806, 54.02720664030806, 54.048856234737215, 54.048856234737215, 54.644183045521714, 54.644183045521714, 54.805514491352476, 54.805514491352476, 54.93432180536552, 54.93432180536552, 55.157445593598844, 55.157445593598844, 55.22874385935144, 55.22874385935144, 55.24492251480534, 55.24492251480534, 55.51079402145987, 55.51079402145987, 55.62073752398274, 55.62073752398274, 55.804814270924496, 55.804814270924496, 55.88381709864566, 55.88381709864566, 56.06148327659407, 56.06148327659407, 56.34224124475898, 56.34224124475898, 56.61773754077747, 56.61773754077747, 56.72179702094631, 56.72179702094631, 56.77027385675705, 56.77027385675705, 56.93793400434435, 56.93793400434435, 56.95866391547621, 56.95866391547621, 57.165660863433686, 57.165660863433686, 57.49837533896471, 57.49837533896471, 57.51082360002605, 57.51082360002605, 57.665346247411854, 57.665346247411854, 57.83833611993629, 57.83833611993629, 57.93757836196822, 57.93757836196822, 58.24597355784658, 58.24597355784658, 58.34363746610406, 58.34363746610407, 58.4079289340319, 58.4079289340319, 58.837303094308744, 58.837303094308744, 58.84238622125795, 58.84238622125795, 59.3738025650242, 59.3738025650242, 59.40866689104661, 59.40866689104661, 59.42043643243519, 59.42043643243519, 59.475858087734764, 59.475858087734764, 59.57746992902048, 59.57746992902048, 59.697061026508344, 59.697061026508344, 60.00595625855439, 60.00595625855439, 60.015209382053314, 60.015209382053314, 60.06484822549748, 60.064848225497485, 60.072612192213235, 60.072612192213235, 60.13150607678092, 60.13150607678092, 60.140241404329004, 60.14024140432901, 60.486818631344704, 60.486818631344704, 60.623262855331404, 60.623262855331404, 60.73736251087396, 60.73736251087396, 60.84914686443069, 60.84914686443069, 60.87276815545894, 60.87276815545894, 61.046730153994126, 61.046730153994126, 61.09764241980554, 61.09764241980554, 61.11564338885864, 61.11564338885864, 61.3061942868403, 61.3061942868403, 61.30807275340085, 61.30807275340086, 61.53330511353704, 61.53330511353704, 61.55993427519572, 61.55993427519572, 61.8180591133093, 61.8180591133093, 61.88716356368621, 61.88716356368621, 61.96784621233098, 61.96784621233098, 61.973879986114184, 61.973879986114184, 62.08831798528483, 62.088317985284846, 62.349177226987216, 62.349177226987216, 62.52963297375398, 62.52963297375398, 62.59086683641013, 62.59086683641013, 62.69799062661045, 62.69799062661045, 63.22547880889407, 63.22547880889407, 63.274448344054775, 63.274448344054775, 63.39525200764048, 63.39525200764048, 63.480848578107874, 63.48084857810788, 63.86268843330963, 63.86268843330963, 63.8642531254607, 63.864253125460706, 64.13164621061118, 64.13164621061118, 64.1348665619949, 64.1348665619949, 64.546362344986, 64.546362344986, 64.66906284653699, 64.669062846537, 64.8975822356056, 64.8975822356056, 65.59747703301916, 65.59747703301916, 65.60215612601121, 65.60215612601121, 65.73568786226929, 65.73568786226929, 65.87178196790995, 65.87178196790995, 65.90820901803013, 65.90820901803013, 65.95864186780237, 65.95864186780237, 66.01565093242849, 66.01565093242849, 66.21788190534053, 66.21788190534053, 66.23778812388832, 66.23778812388832, 66.41438963040088, 66.41438963040088, 66.46459316458524, 66.46459316458524, 66.52255657143219, 66.52255657143219, 67.35845017819027, 67.35845017819027, 67.48141775092168, 67.4814177509217, 67.78329205288553, 67.78329205288553, 67.80211121337797, 67.80211121337798, 67.98488155586757, 67.98488155586757, 68.01768179900984, 68.01768179900984, 68.29607694535339, 68.29607694535339, 68.40765248753542, 68.40765248753542, 68.65550379435966, 68.65550379435966, 68.88473869211951, 68.88473869211951, 68.90146963229974, 68.90146963229974, 68.94058562702523, 68.94058562702523, 68.96486906583206, 68.96486906583206, 68.99738499085328, 68.99738499085328, 69.01330807421303, 69.01330807421303, 69.36090450907423, 69.36090450907423, 69.46502816168643, 69.46502816168643, 69.64283494905025, 69.64283494905025, 69.871701605638, 69.871701605638, 69.98404036425302, 69.98404036425302, 70.06144002734489, 70.06144002734489, 70.15528221111522, 70.15528221111522, 70.23141673741365, 70.23141673741365, 70.34056652968349, 70.34056652968349, 70.79615901505278, 70.79615901505278, 70.92388514189335, 70.92388514189335, 71.02814070540342, 71.02814070540342, 71.1190520663104, 71.11905206631042, 71.14184604476128, 71.14184604476128, 71.15619704637233, 71.15619704637233, 71.3021447182022, 71.3021447182022, 71.52476081490569, 71.52476081490569, 71.54926124456179, 71.54926124456179, 71.61628379169709, 71.61628379169709, 71.77019009909785, 71.77019009909785, 72.05392652597682, 72.05392652597682, 72.45543887267793, 72.45543887267793, 72.46395783612364, 72.46395783612364, 72.73903441253692, 72.73903441253692, 72.74585312241574, 72.74585312241574, 72.75956709042399, 72.75956709042399, 72.85013708997243, 72.85013708997243, 72.85989623063315, 72.85989623063317, 72.99976401379544, 72.99976401379544, 73.04194914683997, 73.04194914683997, 73.26202295776035, 73.26202295776035, 73.32193053486287, 73.32193053486287, 73.58099252268099, 73.58099252268099, 73.7748427013165, 73.7748427013165, 73.78552772226644, 73.78552772226644, 73.92274218462677, 73.92274218462677, 74.10911667513865, 74.10911667513865, 74.35893674948093, 74.35893674948093, 75.11082694241888, 75.11082694241888, 75.21795420314932, 75.21795420314932, 75.4944824146654, 75.4944824146654, 75.77990613303548, 75.77990613303548, 75.85787419176806, 75.85787419176806, 76.16187542721804, 76.16187542721804, 76.22955441221299, 76.22955441221299, 76.32097795930474, 76.32097795930476, 76.38651158839322, 76.38651158839322, 76.74405557269476, 76.74405557269476, 76.76651987243598, 76.76651987243599, 77.01799088724604, 77.01799088724604, 77.47682804482781, 77.47682804482781, 77.52720683568474, 77.52720683568474, 78.17754736913845, 78.17754736913847, 78.17793661510493, 78.17793661510493, 78.24803475917442, 78.24803475917442, 78.32196483026215, 78.32196483026215, 78.5326645171765, 78.5326645171765, 78.58873984398733, 78.58873984398733, 78.82194984407293, 78.82194984407293, 79.02378098214761, 79.02378098214761, 79.04129063111297, 79.04129063111299, 79.08115651410218, 79.08115651410218, 79.31924622153326, 79.31924622153326, 79.4184435208903, 79.4184435208903, 79.5269812933644, 79.5269812933644, 79.88486179487309, 79.88486179487309, 80.04983250850175, 80.04983250850175, 80.48366691214972, 80.48366691214972, 80.58117633630155, 80.58117633630155, 80.96553864627516, 80.96553864627516, 81.42817707828705, 81.42817707828705, 81.43777242010343, 81.43777242010343, 81.46794959586934, 81.46794959586934, 81.63349579935398, 81.63349579935398, 82.01521165556025, 82.01521165556025, 82.07130934359778, 82.07130934359778, 82.18840327149978, 82.18840327149978, 82.39990286593917, 82.39990286593917, 82.51118323633133, 82.51118323633133, 82.70570784820333, 82.70570784820335, 82.79653166048249, 82.79653166048249, 82.94439355007404, 82.94439355007404, 83.04509824071542, 83.04509824071542, 83.39143827924235, 83.39143827924237, 83.49593201929204, 83.49593201929204, 83.66860511937003, 83.66860511937003, 83.72930829157852, 83.72930829157852, 83.75139993781536, 83.75139993781536, 83.87901959546832, 83.87901959546832, 83.9702333033598, 83.9702333033598, 84.01331810393135, 84.01331810393135, 84.15107319556598, 84.15107319556598, 84.29376263636432, 84.29376263636432, 84.3622162154517, 84.3622162154517, 84.77131466321862, 84.77131466321862, 84.94450813860783, 84.94450813860783, 84.96709063620536, 84.96709063620536, 84.98018205524846, 84.98018205524846, 85.19668934808192, 85.19668934808192, 85.47184087560372, 85.47184087560372, 85.93977979318188, 85.93977979318188, 86.5495481611047, 86.5495481611047, 86.89651019391562, 86.89651019391562, 86.94131819109649, 86.94131819109649, 87.05344544115654, 87.05344544115655, 87.06965934971487, 87.06965934971487, 87.11918963291492, 87.11918963291492, 87.18146926448482, 87.18146926448482, 87.43582393149771, 87.43582393149772, 87.45970225732547, 87.45970225732547, 87.607832029477, 87.607832029477, 87.69790719468996, 87.69790719468996, 87.8467534677375, 87.8467534677375, 88.25364232272428, 88.25364232272428, 88.44573631184687, 88.44573631184687, 88.48008540483983, 88.48008540483983, 88.96563874153208, 88.96563874153208, 89.2307857271811, 89.2307857271811, 89.58911702491194, 89.58911702491194, 89.73371747632721, 89.73371747632723, 89.89467546482773, 89.89467546482773, 90.08059805127127, 90.08059805127127, 90.220173503563, 90.220173503563, 90.36825951180488, 90.36825951180488, 90.54633469904674, 90.54633469904674, 90.84883053103093, 90.84883053103094, 91.015360079207, 91.015360079207, 91.06177491687875, 91.06177491687875, 91.22359182975201, 91.22359182975201, 91.44878002927844, 91.44878002927844, 91.55887149244536, 91.55887149244538, 91.67814532365887, 91.67814532365887, 91.77225751217816, 91.77225751217816, 92.7814112840397, 92.7814112840397, 93.02187155008923, 93.02187155008923, 93.03528048808943, 93.03528048808943, 93.24301387642987, 93.24301387642987, 93.49114583845419, 93.49114583845419, 93.56633494685431, 93.56633494685431, 93.66398006868809, 93.66398006868809, 93.79358538459832, 93.79358538459832, 93.83767843218835, 93.83767843218835, 93.9882244652343, 93.9882244652343, 94.1868450740494, 94.1868450740494, 94.30488086678159, 94.30488086678159, 94.44093181243538, 94.44093181243538, 94.77803112149203, 94.77803112149205, 94.81373283483958, 94.81373283483958, 95.15536665066828, 95.15536665066828, 95.21056504753551, 95.21056504753551, 95.26717145883747, 95.26717145883747, 95.48032951738767, 95.48032951738767, 95.57309061163292, 95.57309061163292, 95.5865885881164, 95.5865885881164, 95.9099627027052, 95.9099627027052, 95.96542537232095, 95.96542537232095, 96.1563001172463, 96.1563001172463, 96.20947816589698, 96.20947816589698, 96.28515809789728, 96.28515809789728, 96.3794351638194, 96.3794351638194, 96.54017976553426, 96.54017976553426, 96.60938729875357, 96.60938729875357, 96.70768631742507, 96.70768631742507, 96.7680010102311, 96.7680010102311, 97.46747249581446, 97.46747249581446, 97.52106734303118, 97.52106734303118, 97.67450255365574, 97.67450255365574, 97.75695731028145, 97.75695731028145, 97.78034122183091, 97.78034122183091, 97.87120815742264, 97.87120815742264, 97.88103200626755, 97.88103200626755, 97.90388040108289, 97.90388040108289, 98.22365580429117, 98.22365580429118, 98.40962446888406, 98.40962446888408, 98.50402767340724, 98.50402767340724, 98.64392040521028, 98.64392040521028, 98.71976782119218, 98.71976782119218, 98.78378670247574, 98.78378670247574, 98.9922781614093, 98.9922781614093, 99.13984147916194, 99.13984147916194, 99.2599735053306, 99.25997350533063, 99.28010918290816, 99.28010918290816, 99.31265956669439, 99.31265956669439, 99.36591643482306, 99.36591643482306, 99.38910571314928, 99.38910571314928, 99.84101941764946, 99.84101941764946, 100.28386664454592, 100.28386664454592, 100.37589578369169, 100.37589578369169, 100.3853613200616, 100.3853613200616, 100.56262873315275, 100.56262873315276, 100.78405193842228, 100.78405193842228, 101.33228478855007, 101.33228478855008, 101.33367164214562, 101.33367164214562, 101.54411693879825, 101.54411693879825, 101.56164691754388, 101.56164691754388, 101.88224667917044, 101.88224667917044, 102.06538672589348, 102.06538672589348, 102.19597866693138, 102.19597866693138, 102.20947869259231, 102.20947869259231, 102.63969336080682, 102.63969336080682, 102.881395939851, 102.881395939851, 102.91414102422205, 102.91414102422205, 103.07974809178411, 103.07974809178411, 103.16967194302708, 103.16967194302708, 103.25907446682648, 103.25907446682648, 103.5345902927233, 103.53459029272331, 103.60461571211027, 103.60461571211029, 103.9764766254071, 103.9764766254071, 104.13894445566487, 104.13894445566487, 104.3881480213388, 104.38814802133881, 104.68821319872615, 104.68821319872615, 104.80934500056995, 104.80934500056995, 104.81648371580806, 104.81648371580806, 105.09190211865216, 105.09190211865216, 105.195024131868, 105.195024131868, 105.29837597443147, 105.29837597443148, 105.52170524014056, 105.52170524014058, 105.76725849987321, 105.76725849987321, 105.95222807813997, 105.95222807813997, 105.99908098903387, 105.99908098903387, 106.0613300864253, 106.0613300864253, 106.27173273731978, 106.27173273731978, 106.30451893831454, 106.30451893831454, 106.63812893258847, 106.63812893258847, 106.69024180116352, 106.69024180116352, 106.75005488343622, 106.75005488343622, 106.9069233030284, 106.9069233030284, 107.07633328494794, 107.07633328494794, 107.10239519802415, 107.10239519802417, 107.1669055437322, 107.1669055437322, 107.23075254154648, 107.23075254154648, 107.49854786049258, 107.49854786049258, 107.58956994939379, 107.58956994939379, 107.97020026687179, 107.97020026687179, 108.20367806685832, 108.20367806685833, 108.21915680523092, 108.21915680523092, 108.26539267809274, 108.26539267809275, 108.3475535048282, 108.3475535048282, 108.58018688920636, 108.58018688920636, 108.59539216427514, 108.59539216427514, 108.67777282899681, 108.67777282899681, 108.71717042714987, 108.71717042714987, 108.72401619660734, 108.72401619660735, 108.80169749161482, 108.80169749161482, 108.94113828510476, 108.94113828510476, 109.01875950881569, 109.0187595088157, 109.07689981021707, 109.07689981021707, 109.18041039879665, 109.18041039879667, 109.18263746250517, 109.18263746250518, 109.68265381289673, 109.68265381289673, 109.97656749618089, 109.97656749618089, 109.97978040211332, 109.97978040211332, 109.9876590409998, 109.9876590409998, 110.05039052516915, 110.05039052516915, 110.19160038048312, 110.19160038048312, 110.34450575398996, 110.34450575398996, 110.39115142386083, 110.39115142386083, 110.44852700821744, 110.44852700821744, 110.52798912515158, 110.52798912515158, 110.55621961628812, 110.55621961628812, 110.60844353771292, 110.60844353771292, 110.64201858581912, 110.64201858581912, 110.85752311072366, 110.85752311072366, 110.90274634094929, 110.9027463409493, 111.02876442697905, 111.02876442697905, 111.27164168486561, 111.27164168486561, 111.7089298581999, 111.7089298581999, 111.75974037723162, 111.75974037723162, 111.92273277951384, 111.92273277951384, 112.00990064267353, 112.00990064267353, 112.25372216991013, 112.25372216991013, 112.55950197576098, 112.55950197576098, 112.64914135364938, 112.64914135364938, 112.92656381127948, 112.92656381127948, 112.96369377158771, 112.96369377158771, 113.08617486306599, 113.08617486306599, 113.47379532533961, 113.47379532533961, 113.71212288407837, 113.71212288407837, 113.71775692004718, 113.71775692004718, 113.8686216623556, 113.8686216623556, 114.03398449233636, 114.03398449233637, 114.0598591614225, 114.0598591614225, 114.07725650910588, 114.0772565091059, 114.34450792112524, 114.34450792112524, 114.4370247145306, 114.4370247145306, 114.53277400962469, 114.53277400962469, 114.57038159537402, 114.57038159537402, 114.66201374581235, 114.66201374581235, 114.70538428582287, 114.70538428582287, 114.73684699656008, 114.73684699656009, 114.87148263751813, 114.87148263751813, 115.13573269288463, 115.13573269288463, 115.14785978582738, 115.14785978582738, 115.61597570083251, 115.61597570083251, 115.7880448970802, 115.78804489708021, 115.87414463050985, 115.87414463050985, 116.30742742950069, 116.30742742950069, 116.47618970802556, 116.47618970802556, 116.54551036478068, 116.54551036478068, 116.9484252429906, 116.9484252429906, 116.95180830860119, 116.95180830860119, 117.3942742987043, 117.3942742987043, 117.41992670196686, 117.41992670196686, 117.43617008371577, 117.43617008371577, 117.5822375453643, 117.5822375453643, 117.5867204301363, 117.5867204301363, 117.60173899763119, 117.60173899763119, 117.8433302802068, 117.8433302802068, 118.47730990940036, 118.47730990940036, 118.57532592066482, 118.57532592066482, 118.65808804887207, 118.65808804887209, 118.68110880693116, 118.68110880693118, 118.72926928317278, 118.72926928317278, 118.79258567497843, 118.79258567497843, 118.85696760837406, 118.85696760837406, 119.03538609061373, 119.03538609061373, 119.3591924981772, 119.3591924981772, 119.38110600684865, 119.38110600684865, 119.70604084738906, 119.70604084738906, 120.3113250042603, 120.3113250042603, 120.71826422569342, 120.71826422569342, 121.072774408754, 121.072774408754, 121.21919770444453, 121.21919770444454, 121.25957225225827, 121.25957225225828, 121.28056588010149, 121.28056588010149, 121.44639397159402, 121.44639397159402, 121.52241847649259, 121.52241847649259, 121.62262492848112, 121.62262492848112, 121.74992486766831, 121.74992486766831, 121.84236687321095, 121.84236687321095, 122.11357263414155, 122.11357263414155, 122.35908743626271, 122.35908743626271, 122.46585704188385, 122.46585704188387, 122.70063874224222, 122.70063874224223, 123.20109118225675, 123.20109118225675, 123.30113341223773, 123.30113341223775, 123.6336502545256, 123.6336502545256, 123.68393588633279, 123.6839358863328, 123.78679502076317, 123.78679502076317, 123.7908016966516, 123.79080169665161, 123.80757487961199, 123.80757487961199, 123.91401129586059, 123.91401129586059, 124.02381178854642, 124.02381178854642, 124.43856276479568, 124.43856276479568, 124.60892882971405, 124.60892882971405, 124.7031675000497, 124.7031675000497, 125.28020999598264, 125.28020999598264, 125.48229253676755, 125.48229253676755, 125.86406216893332, 125.86406216893332, 125.96556154840941, 125.96556154840941, 126.04871881073362, 126.04871881073362, 126.13747063202953, 126.13747063202953, 126.18693640941751, 126.18693640941751, 126.20475383311258, 126.20475383311258, 126.21101292183712, 126.21101292183714, 126.45954966742353, 126.45954966742353, 126.55425210546112, 126.55425210546112, 126.5777157829059, 126.5777157829059, 126.95690731005725, 126.95690731005725, 127.01098446080071, 127.01098446080071, 127.40735126063537, 127.40735126063537, 127.47949154103563, 127.47949154103563, 127.76280841539287, 127.76280841539287, 127.77567157466541, 127.77567157466541, 127.93776595094398, 127.93776595094398, 127.98293771377044, 127.98293771377044, 128.4509842455207, 128.4509842455207, 128.56325457655586, 128.56325457655586, 128.75459019446868, 128.7545901944687, 128.79933529462357, 128.79933529462357, 129.00291201960383, 129.00291201960383, 129.0791960543479, 129.0791960543479, 129.27473126791455, 129.27473126791455, 129.29252681333628, 129.29252681333628, 129.36112156988344, 129.36112156988344, 129.37472946009703, 129.37472946009703, 129.39751802755077, 129.39751802755077, 129.42748306718175, 129.42748306718175, 129.6099742276456, 129.6099742276456, 130.19287247346378, 130.19287247346378, 130.2737006523317, 130.2737006523317, 130.40548518137567, 130.40548518137567, 130.52823924615345, 130.52823924615345, 130.5957930262195, 130.5957930262195, 130.74074610545222, 130.74074610545222, 130.95943468313527, 130.95943468313527, 131.03323729919344, 131.03323729919344, 131.38027485684046, 131.38027485684046, 131.39073917014056, 131.39073917014056, 131.4324656373611, 131.43246563736113, 131.4603857332436, 131.4603857332436, 131.47466816783276, 131.47466816783276, 131.56707078454522, 131.56707078454522, 131.7859170601994, 131.7859170601994, 132.2961150961808, 132.2961150961808, 132.54199714157372, 132.54199714157372, 132.6678045108409, 132.6678045108409, 132.68652913292058, 132.68652913292058, 132.69800642932907, 132.6980064293291, 132.79732255609576, 132.79732255609576, 133.14462463778048, 133.1446246377805, 133.66635632814229, 133.66635632814229, 133.8946425076316, 133.89464250763163, 133.9987319158673, 133.9987319158673, 134.3173816179611, 134.3173816179611, 134.62227925891702, 134.62227925891702, 135.0460974215101, 135.0460974215101, 135.14611719220406, 135.14611719220406, 135.1793156301574, 135.1793156301574, 135.31079821496013, 135.31079821496013, 135.3282382655956, 135.32823826559564, 136.10415987738207, 136.10415987738207, 136.25595266187642, 136.25595266187642, 136.3620667144341, 136.36206671443412, 136.391996215294, 136.391996215294, 136.44272824519942, 136.44272824519942, 136.65505342314154, 136.65505342314154, 136.6926576689085, 136.6926576689085, 136.91458761716478, 136.91458761716478, 136.99618726237122, 136.99618726237122, 137.1442829232268, 137.1442829232268, 137.26279962251712, 137.26279962251712, 137.40374181817512, 137.40374181817512, 137.51998121644007, 137.51998121644007, 137.56105566530493, 137.56105566530493, 137.5833559939112, 137.5833559939112, 137.73313075270522, 137.73313075270522, 137.74754531093768, 137.74754531093768, 138.17073125894325, 138.17073125894325, 138.23985482078677, 138.23985482078677, 138.415931168919, 138.415931168919, 138.43196089787426, 138.43196089787426, 138.51852525551953, 138.51852525551953, 138.59526586015087, 138.59526586015087, 138.60458154690957, 138.60458154690957, 138.72749646058202, 138.72749646058202, 139.16258047166423, 139.16258047166423, 139.43415128337085, 139.43415128337088, 139.73345040153478, 139.73345040153478, 139.7487165038629, 139.7487165038629, 140.00629358134367, 140.00629358134367, 140.0744262057247, 140.0744262057247, 140.3392344384506, 140.3392344384506, 140.48543040076189, 140.4854304007619, 140.5464887975355, 140.54648879753552, 140.70530532929695, 140.70530532929695, 141.0390189802273, 141.0390189802273, 141.10190450113834, 141.10190450113834, 141.3099694157454, 141.30996941574543, 141.3477525386774, 141.3477525386774, 141.80042539183748, 141.80042539183748, 142.14847181007914, 142.14847181007914, 142.55936902181367, 142.55936902181367, 142.70151825522478, 142.70151825522478, 143.2692080736371, 143.2692080736371, 143.31284664619488, 143.31284664619488, 143.37828430499417, 143.37828430499417, 143.602352974543, 143.602352974543, 143.78926923487694, 143.78926923487697, 144.6049094344411, 144.60490943444114, 145.33839426190613, 145.33839426190613, 145.88029832101023, 145.88029832101023, 146.3488692752195, 146.3488692752195, 146.9677576568269, 146.9677576568269, 147.27151987887822, 147.27151987887822, 147.322495326972, 147.322495326972, 147.74836788515768, 147.74836788515768, 147.92214816050102, 147.92214816050102, 147.99001026009267, 147.99001026009267, 148.01322520777705, 148.01322520777705, 148.1493934715627, 148.1493934715627, 148.29822529319435, 148.29822529319435, 148.39069861046383, 148.39069861046386, 148.58742090599563, 148.58742090599566, 148.67645366803544, 148.67645366803544, 148.80524818614398, 148.80524818614398, 148.98872037839232, 148.98872037839232, 149.2280236523583, 149.2280236523583, 149.89486076939406, 149.89486076939406, 149.9189420669416, 149.9189420669416, 149.94963052412902, 149.94963052412902, 150.12932256185866, 150.12932256185866, 150.13066513849685, 150.13066513849685, 150.26400485135497, 150.26400485135497, 150.48024240086448, 150.48024240086448, 150.58915199515388, 150.58915199515388, 150.63560442193133, 150.63560442193136, 150.83911287035056, 150.83911287035056, 151.40139687461624, 151.40139687461624, 151.5074428249339, 151.5074428249339, 151.61082569937386, 151.61082569937386, 151.89305305552801, 151.89305305552801, 151.96590610456968, 151.96590610456968, 152.00776735916264, 152.00776735916264, 152.30533006685863, 152.30533006685863, 152.3372384464548, 152.33723844645482, 152.6507669363582, 152.6507669363582, 152.70907178572685, 152.70907178572685, 152.78009559351955, 152.78009559351958, 152.84035035880783, 152.84035035880783, 152.9958202828338, 152.9958202828338, 153.00365625729407, 153.00365625729407, 153.00822067581154, 153.00822067581154, 153.02900057487116, 153.02900057487116, 153.14726127227095, 153.14726127227095, 153.62029146151224, 153.62029146151224, 153.7382332444916, 153.7382332444916, 153.9076904307997, 153.90769043079973, 154.04092164871747, 154.0409216487175, 154.43580878598294, 154.43580878598294, 154.46994117530886, 154.46994117530886, 154.53905191766282, 154.53905191766282, 155.16233981924609, 155.16233981924609, 155.28070362491394, 155.28070362491394, 155.47833969652862, 155.47833969652862, 155.65717080490523, 155.65717080490523, 155.9480074688243, 155.94800746882433, 156.05483508082148, 156.05483508082148, 156.1946549004779, 156.1946549004779, 156.20456988126614, 156.20456988126614, 156.42494433685619, 156.42494433685619, 156.51979591717503, 156.51979591717503, 156.71567005469294, 156.71567005469294, 156.91776235416486, 156.91776235416486, 156.96248699883807, 156.96248699883807, 157.09336917834403, 157.09336917834403, 157.24003080962075, 157.24003080962078, 157.68797483999003, 157.68797483999003, 157.73789650947305, 157.73789650947305, 158.00488608998398, 158.00488608998398, 158.16502604202358, 158.16502604202358, 158.19317699750871, 158.19317699750871, 158.57402070035988, 158.57402070035988, 158.93908705648272, 158.93908705648272, 159.32688337955656, 159.3268833795566, 159.44873488624424, 159.44873488624424, 159.4549463048934, 159.4549463048934, 159.7788258040324, 159.7788258040324, 159.96025531526192, 159.96025531526192, 159.97859768446477, 159.9785976844648, 159.98386827467587, 159.98386827467587, 160.02639876245928, 160.02639876245928, 160.91654368480872, 160.91654368480872, 161.11439804875167, 161.1143980487517, 161.27971331427372, 161.27971331427372, 161.32983428783768, 161.32983428783768, 161.48050167020216, 161.4805016702022, 161.55396947844045, 161.55396947844045, 161.98343176907343, 161.98343176907343, 162.07010820003876, 162.0701082000388, 162.38496548680575, 162.38496548680575, 162.44539459765753, 162.44539459765753, 162.90278855148566, 162.90278855148566, 163.10176542202333, 163.10176542202333, 163.19264338804447, 163.1926433880445, 163.54993250243007, 163.54993250243007, 163.75580237067814, 163.75580237067817, 164.09131537084124, 164.09131537084124, 164.2141616818431, 164.2141616818431, 164.25121190904338, 164.25121190904338, 164.49376341531922, 164.49376341531922, 165.2119162480761, 165.2119162480761, 165.25975913282232, 165.25975913282232, 165.5497259655121, 165.5497259655121, 165.72784734768237, 165.72784734768237, 165.9208218129916, 165.9208218129916, 165.9267613428704, 165.92676134287044, 166.19496556523882, 166.19496556523882, 166.21303593403496, 166.21303593403496, 166.29449440020875, 166.29449440020875, 166.48141740287858, 166.48141740287858, 166.58669550928653, 166.58669550928653, 166.9213918561465, 166.9213918561465, 167.18071824268807, 167.18071824268807, 167.25522861967997, 167.25522861967997, 167.3044874652183, 167.3044874652183, 167.44685929583028, 167.44685929583028, 167.61191920576687, 167.61191920576687, 167.64264792811105, 167.64264792811105, 167.70036835833344, 167.70036835833346, 167.74212545114156, 167.74212545114156, 168.30016134930037, 168.30016134930037, 168.31676395737702, 168.31676395737702, 168.55353099200676, 168.55353099200676, 168.8772361171106, 168.8772361171106, 169.25372162336248, 169.25372162336248, 169.6398150116523, 169.6398150116523, 169.66296770231259, 169.66296770231259, 169.68007085445657, 169.68007085445657, 170.19744238585878, 170.19744238585878, 170.20257417415166, 170.20257417415166, 170.26960210157483, 170.26960210157483, 170.60946555675625, 170.60946555675625, 171.08999741946818, 171.08999741946818, 171.18044507388936, 171.18044507388936, 171.2119150918603, 171.2119150918603, 171.33351384748102, 171.33351384748102, 171.38346445207708, 171.38346445207708, 171.4401768051036, 171.4401768051036, 171.51292753701597, 171.51292753701597, 171.62006585444053, 171.62006585444053, 172.3247059842254, 172.3247059842254, 172.43179538080022, 172.43179538080025, 172.57136557747438, 172.57136557747438, 172.60170498376044, 172.60170498376044, 172.95350886777715, 172.95350886777715, 173.12381306633773, 173.12381306633773, 173.3463314785423, 173.3463314785423, 173.50948970032505, 173.50948970032505, 173.87617729803296, 173.87617729803296, 173.94051604664998, 173.94051604664998, 174.05721515215708, 174.05721515215714, 174.20571612142646, 174.2057161214265, 174.39080368759804, 174.39080368759804, 175.09136710225746, 175.09136710225746, 175.1086516792263, 175.1086516792263, 175.4076568359497, 175.4076568359497, 175.461304052574, 175.461304052574, 175.66281574068938, 175.6628157406894, 175.70604120919313, 175.70604120919313, 176.43792739247147, 176.43792739247147, 176.61831164384932, 176.61831164384932, 176.8346397009844, 176.8346397009844, 177.1905616963882, 177.19056169638822, 177.19954891905982, 177.19954891905985, 177.24610584896124, 177.24610584896124, 177.34961177933766, 177.3496117793377, 177.67940577684314, 177.67940577684314, 177.86979295262398, 177.86979295262398, 177.98282223729993, 177.98282223729996, 178.02817816303138, 178.02817816303138, 178.0423121437048, 178.0423121437048, 178.6875801389504, 178.6875801389504, 178.69078260385982, 178.69078260385984, 179.09135590056482, 179.09135590056482, 179.13801517962258, 179.13801517962258, 179.45687673603496, 179.45687673603496, 179.56217813914918, 179.56217813914918, 179.57792220665573, 179.57792220665573, 179.59407768227942, 179.59407768227942, 179.64749123664632, 179.64749123664632, 179.71342773412053, 179.71342773412053, 180.1331657224199, 180.13316572241993, 180.47580755139768, 180.47580755139768, 180.76823122453013, 180.76823122453015, 180.95743240412244, 180.95743240412247, 181.007459254665, 181.007459254665, 181.0624676774564, 181.0624676774564, 181.22176128405786, 181.22176128405786, 181.27299599765203, 181.27299599765206, 181.47136660003173, 181.47136660003173, 181.60100490100484, 181.60100490100484, 181.60613369400733, 181.60613369400733, 181.79796282621075, 181.79796282621078, 181.81017751257218, 181.81017751257218, 182.1130438262145, 182.1130438262145, 182.24128676603868, 182.2412867660387, 182.4729777937643, 182.4729777937643, 182.56400865893193, 182.56400865893195, 182.6535662496781, 182.65356624967814, 182.65763633570577, 182.65763633570577, 182.74315677603883, 182.74315677603883, 182.9619149880355, 182.96191498803552, 183.15541641047383, 183.15541641047383, 183.37115053900135, 183.37115053900138, 183.68102516719313, 183.68102516719313, 184.22013762103862, 184.22013762103862, 185.07038769640639, 185.0703876964064, 185.66953006543952, 185.66953006543952, 185.84945019279385, 185.84945019279388, 185.96148330724404, 185.96148330724404, 186.0541105707345, 186.0541105707345, 186.64725518169254, 186.64725518169257, 186.92951823579128, 186.9295182357913, 186.9782500559073, 186.9782500559073, 187.231277174338, 187.231277174338, 187.52421228665915, 187.52421228665918, 187.65537442318677, 187.6553744231868, 187.72670673715265, 187.72670673715265, 187.94885303987184, 187.9488530398719]\n"
     ]
    }
   ],
   "source": [
    "borders = check_small_boundary_lengths(vest_base)\n",
    "print(borders[:8000])"
   ]
  },
  {
   "cell_type": "code",
   "execution_count": 31,
   "metadata": {},
   "outputs": [
    {
     "name": "stdout",
     "output_type": "stream",
     "text": [
      "Snapping all geometries to a grid with precision 10^( -2 ) to avoid GEOS errors.\n",
      "Identifying overlaps...\n"
     ]
    },
    {
     "name": "stderr",
     "output_type": "stream",
     "text": [
      "100%|█████████████████████████████████████| 9011/9011 [00:03<00:00, 2751.64it/s]\n"
     ]
    },
    {
     "name": "stdout",
     "output_type": "stream",
     "text": [
      "Resolving overlaps...\n",
      "Assigning order 2 pieces...\n",
      "Assigning order 3 pieces...\n",
      "Filling gaps...\n"
     ]
    },
    {
     "name": "stderr",
     "output_type": "stream",
     "text": [
      "Gaps to simplify: 100%|███████████████████████████| 5/5 [00:15<00:00,  3.03s/it]\n",
      "Gaps to fill: 100%|███████████████████████████████| 4/4 [02:28<00:00, 37.19s/it]\n"
     ]
    },
    {
     "name": "stdout",
     "output_type": "stream",
     "text": [
      "Converting small rook adjacencies to queen...\n"
     ]
    },
    {
     "name": "stderr",
     "output_type": "stream",
     "text": [
      "100%|██████████████████████████████████████| 8936/8936 [00:09<00:00, 937.38it/s]\n",
      "100%|███████████████████████████████████████████| 4/4 [00:00<00:00, 3016.94it/s]\n",
      "100%|███████████████████████████████████████████| 4/4 [00:00<00:00, 3058.19it/s]\n",
      "100%|███████████████████████████████████████████| 4/4 [00:00<00:00, 2818.75it/s]\n",
      "100%|███████████████████████████████████████████| 4/4 [00:00<00:00, 3078.95it/s]\n",
      "100%|███████████████████████████████████████████| 4/4 [00:00<00:00, 3012.07it/s]\n",
      "100%|███████████████████████████████████████████| 7/7 [00:00<00:00, 3644.05it/s]\n",
      "100%|███████████████████████████████████████████| 4/4 [00:00<00:00, 3086.32it/s]\n",
      "100%|███████████████████████████████████████████| 4/4 [00:00<00:00, 2597.09it/s]\n",
      "100%|███████████████████████████████████████████| 5/5 [00:00<00:00, 3394.00it/s]\n",
      "100%|███████████████████████████████████████████| 4/4 [00:00<00:00, 3174.50it/s]\n",
      "100%|███████████████████████████████████████████| 6/6 [00:00<00:00, 3531.05it/s]\n",
      "100%|███████████████████████████████████████████| 4/4 [00:00<00:00, 3366.89it/s]\n",
      "100%|███████████████████████████████████████████| 4/4 [00:00<00:00, 2859.10it/s]\n",
      "100%|███████████████████████████████████████████| 4/4 [00:00<00:00, 3057.63it/s]\n",
      "100%|███████████████████████████████████████████| 6/6 [00:00<00:00, 3407.23it/s]\n",
      "100%|███████████████████████████████████████████| 5/5 [00:00<00:00, 3291.20it/s]\n",
      "100%|███████████████████████████████████████████| 5/5 [00:00<00:00, 3267.61it/s]\n",
      "100%|███████████████████████████████████████████| 4/4 [00:00<00:00, 2935.13it/s]\n",
      "100%|███████████████████████████████████████████| 5/5 [00:00<00:00, 3837.42it/s]\n",
      "100%|███████████████████████████████████████████| 6/6 [00:00<00:00, 3344.30it/s]\n",
      "100%|███████████████████████████████████████████| 5/5 [00:00<00:00, 2826.35it/s]\n",
      "100%|███████████████████████████████████████████| 4/4 [00:00<00:00, 2811.20it/s]\n",
      "100%|███████████████████████████████████████████| 5/5 [00:00<00:00, 3413.33it/s]\n",
      "100%|███████████████████████████████████████████| 4/4 [00:00<00:00, 2917.27it/s]\n",
      "100%|███████████████████████████████████████████| 4/4 [00:00<00:00, 2201.16it/s]\n",
      "100%|███████████████████████████████████████████| 4/4 [00:00<00:00, 2797.14it/s]\n",
      "100%|███████████████████████████████████████████| 4/4 [00:00<00:00, 2389.24it/s]\n",
      "100%|███████████████████████████████████████████| 4/4 [00:00<00:00, 1954.02it/s]\n",
      "100%|███████████████████████████████████████████| 5/5 [00:00<00:00, 2796.20it/s]\n",
      "100%|███████████████████████████████████████████| 4/4 [00:00<00:00, 2695.14it/s]\n",
      "100%|███████████████████████████████████████████| 5/5 [00:00<00:00, 2448.51it/s]\n",
      "100%|███████████████████████████████████████████| 4/4 [00:00<00:00, 2233.39it/s]\n",
      "100%|███████████████████████████████████████████| 4/4 [00:00<00:00, 2467.60it/s]\n",
      "100%|███████████████████████████████████████████| 5/5 [00:00<00:00, 2420.26it/s]\n",
      "100%|███████████████████████████████████████████| 4/4 [00:00<00:00, 2657.99it/s]\n",
      "100%|███████████████████████████████████████████| 4/4 [00:00<00:00, 2829.21it/s]\n",
      "100%|███████████████████████████████████████████| 4/4 [00:00<00:00, 2427.26it/s]\n",
      "100%|███████████████████████████████████████████| 3/3 [00:00<00:00, 2002.37it/s]\n",
      "100%|███████████████████████████████████████████| 5/5 [00:00<00:00, 2421.09it/s]\n",
      "100%|███████████████████████████████████████████| 4/4 [00:00<00:00, 2543.16it/s]\n",
      "100%|███████████████████████████████████████████| 4/4 [00:00<00:00, 2377.72it/s]\n",
      "100%|███████████████████████████████████████████| 4/4 [00:00<00:00, 2565.72it/s]\n",
      "100%|███████████████████████████████████████████| 4/4 [00:00<00:00, 2289.78it/s]\n",
      "100%|███████████████████████████████████████████| 4/4 [00:00<00:00, 2395.03it/s]\n",
      "100%|███████████████████████████████████████████| 4/4 [00:00<00:00, 2341.88it/s]\n",
      "100%|███████████████████████████████████████████| 4/4 [00:00<00:00, 2405.34it/s]\n",
      "100%|███████████████████████████████████████████| 4/4 [00:00<00:00, 2399.49it/s]\n",
      "100%|███████████████████████████████████████████| 4/4 [00:00<00:00, 2668.13it/s]\n",
      "100%|███████████████████████████████████████████| 4/4 [00:00<00:00, 2355.36it/s]\n",
      "100%|███████████████████████████████████████████| 5/5 [00:00<00:00, 2382.04it/s]\n",
      "100%|███████████████████████████████████████████| 4/4 [00:00<00:00, 2332.44it/s]\n",
      "100%|███████████████████████████████████████████| 4/4 [00:00<00:00, 2775.85it/s]\n",
      "100%|███████████████████████████████████████████| 4/4 [00:00<00:00, 2244.74it/s]\n",
      "100%|███████████████████████████████████████████| 5/5 [00:00<00:00, 2738.15it/s]\n",
      "100%|███████████████████████████████████████████| 5/5 [00:00<00:00, 2805.55it/s]\n",
      "100%|███████████████████████████████████████████| 4/4 [00:00<00:00, 2539.69it/s]\n",
      "100%|███████████████████████████████████████████| 5/5 [00:00<00:00, 2355.29it/s]\n",
      "100%|███████████████████████████████████████████| 4/4 [00:00<00:00, 2162.01it/s]\n",
      "100%|███████████████████████████████████████████| 4/4 [00:00<00:00, 2907.16it/s]\n",
      "100%|███████████████████████████████████████████| 4/4 [00:00<00:00, 2245.95it/s]\n",
      "100%|███████████████████████████████████████████| 4/4 [00:00<00:00, 2288.53it/s]\n",
      "100%|███████████████████████████████████████████| 5/5 [00:00<00:00, 2594.84it/s]\n",
      "100%|███████████████████████████████████████████| 4/4 [00:00<00:00, 2549.34it/s]\n",
      "100%|███████████████████████████████████████████| 4/4 [00:00<00:00, 2550.89it/s]\n",
      "100%|███████████████████████████████████████████| 4/4 [00:00<00:00, 2609.21it/s]\n",
      "100%|███████████████████████████████████████████| 4/4 [00:00<00:00, 2352.72it/s]\n",
      "100%|███████████████████████████████████████████| 4/4 [00:00<00:00, 2557.50it/s]\n",
      "100%|███████████████████████████████████████████| 4/4 [00:00<00:00, 2391.28it/s]\n",
      "100%|███████████████████████████████████████████| 4/4 [00:00<00:00, 2419.91it/s]\n",
      "100%|███████████████████████████████████████████| 4/4 [00:00<00:00, 2570.83it/s]\n",
      "100%|███████████████████████████████████████████| 4/4 [00:00<00:00, 2228.35it/s]\n",
      "100%|███████████████████████████████████████████| 4/4 [00:00<00:00, 2190.52it/s]\n",
      "100%|███████████████████████████████████████████| 4/4 [00:00<00:00, 2749.46it/s]\n",
      "100%|███████████████████████████████████████████| 4/4 [00:00<00:00, 2419.91it/s]\n",
      "100%|███████████████████████████████████████████| 4/4 [00:00<00:00, 2365.32it/s]\n",
      "100%|███████████████████████████████████████████| 5/5 [00:00<00:00, 2594.84it/s]\n",
      "100%|███████████████████████████████████████████| 4/4 [00:00<00:00, 2478.54it/s]\n",
      "100%|███████████████████████████████████████████| 4/4 [00:00<00:00, 2399.14it/s]\n",
      "100%|███████████████████████████████████████████| 8/8 [00:00<00:00, 2970.73it/s]\n",
      "100%|███████████████████████████████████████████| 5/5 [00:00<00:00, 2896.62it/s]\n",
      "100%|███████████████████████████████████████████| 6/6 [00:00<00:00, 2283.03it/s]\n",
      "100%|███████████████████████████████████████████| 5/5 [00:00<00:00, 2557.50it/s]\n",
      "100%|███████████████████████████████████████████| 7/7 [00:00<00:00, 3104.59it/s]\n",
      "100%|███████████████████████████████████████████| 6/6 [00:00<00:00, 2690.38it/s]\n",
      "100%|███████████████████████████████████████████| 4/4 [00:00<00:00, 2710.37it/s]\n",
      "100%|███████████████████████████████████████████| 6/6 [00:00<00:00, 2506.31it/s]\n",
      "100%|███████████████████████████████████████████| 4/4 [00:00<00:00, 2200.58it/s]\n",
      "100%|███████████████████████████████████████████| 5/5 [00:00<00:00, 2395.65it/s]\n",
      "100%|███████████████████████████████████████████| 4/4 [00:00<00:00, 2189.38it/s]\n",
      "100%|███████████████████████████████████████████| 4/4 [00:00<00:00, 2522.13it/s]\n",
      "100%|███████████████████████████████████████████| 5/5 [00:00<00:00, 2850.55it/s]\n",
      "100%|███████████████████████████████████████████| 4/4 [00:00<00:00, 2429.72it/s]\n",
      "100%|███████████████████████████████████████████| 5/5 [00:00<00:00, 2652.61it/s]\n",
      "100%|███████████████████████████████████████████| 5/5 [00:00<00:00, 2585.57it/s]\n",
      "100%|███████████████████████████████████████████| 4/4 [00:00<00:00, 2350.41it/s]\n",
      "100%|███████████████████████████████████████████| 5/5 [00:00<00:00, 2190.92it/s]\n",
      "100%|███████████████████████████████████████████| 4/4 [00:00<00:00, 2849.39it/s]\n",
      "100%|███████████████████████████████████████████| 5/5 [00:00<00:00, 2451.09it/s]\n",
      "100%|███████████████████████████████████████████| 4/4 [00:00<00:00, 3157.17it/s]\n",
      "100%|███████████████████████████████████████████| 4/4 [00:00<00:00, 2336.66it/s]\n",
      "100%|███████████████████████████████████████████| 5/5 [00:00<00:00, 2668.13it/s]\n",
      "100%|███████████████████████████████████████████| 4/4 [00:00<00:00, 2472.33it/s]\n",
      "100%|███████████████████████████████████████████| 4/4 [00:00<00:00, 2288.22it/s]\n",
      "100%|███████████████████████████████████████████| 4/4 [00:00<00:00, 2139.13it/s]\n",
      "100%|███████████████████████████████████████████| 4/4 [00:00<00:00, 1388.38it/s]\n",
      "100%|███████████████████████████████████████████| 4/4 [00:00<00:00, 2402.24it/s]\n",
      "100%|███████████████████████████████████████████| 5/5 [00:00<00:00, 2880.31it/s]\n",
      "100%|███████████████████████████████████████████| 4/4 [00:00<00:00, 2758.05it/s]\n",
      "100%|███████████████████████████████████████████| 4/4 [00:00<00:00, 2420.95it/s]\n",
      "100%|███████████████████████████████████████████| 5/5 [00:00<00:00, 2593.56it/s]\n",
      "100%|███████████████████████████████████████████| 4/4 [00:00<00:00, 2478.17it/s]\n",
      "100%|███████████████████████████████████████████| 6/6 [00:00<00:00, 3033.12it/s]\n",
      "100%|███████████████████████████████████████████| 4/4 [00:00<00:00, 2545.09it/s]\n",
      "100%|███████████████████████████████████████████| 5/5 [00:00<00:00, 2900.22it/s]\n",
      "100%|███████████████████████████████████████████| 5/5 [00:00<00:00, 2570.67it/s]\n",
      "100%|███████████████████████████████████████████| 4/4 [00:00<00:00, 3169.10it/s]\n",
      "100%|███████████████████████████████████████████| 5/5 [00:00<00:00, 3022.70it/s]\n",
      "100%|███████████████████████████████████████████| 4/4 [00:00<00:00, 2405.34it/s]\n",
      "100%|███████████████████████████████████████████| 4/4 [00:00<00:00, 2582.30it/s]\n",
      "100%|███████████████████████████████████████████| 4/4 [00:00<00:00, 2597.09it/s]\n",
      "100%|███████████████████████████████████████████| 5/5 [00:00<00:00, 2652.27it/s]\n",
      "100%|███████████████████████████████████████████| 4/4 [00:00<00:00, 2855.70it/s]\n",
      "100%|███████████████████████████████████████████| 4/4 [00:00<00:00, 2575.56it/s]\n",
      "100%|███████████████████████████████████████████| 5/5 [00:00<00:00, 2672.55it/s]\n",
      "100%|███████████████████████████████████████████| 4/4 [00:00<00:00, 2713.88it/s]\n",
      "100%|███████████████████████████████████████████| 5/5 [00:00<00:00, 2660.69it/s]\n",
      "100%|███████████████████████████████████████████| 4/4 [00:00<00:00, 2845.04it/s]\n",
      "100%|███████████████████████████████████████████| 7/7 [00:00<00:00, 3101.64it/s]\n",
      "100%|███████████████████████████████████████████| 6/6 [00:00<00:00, 2938.56it/s]\n",
      "100%|███████████████████████████████████████████| 4/4 [00:00<00:00, 2704.69it/s]\n",
      "100%|███████████████████████████████████████████| 4/4 [00:00<00:00, 2591.88it/s]\n",
      "100%|███████████████████████████████████████████| 4/4 [00:00<00:00, 2399.49it/s]\n",
      "100%|███████████████████████████████████████████| 5/5 [00:00<00:00, 2748.92it/s]\n",
      "100%|███████████████████████████████████████████| 4/4 [00:00<00:00, 2314.74it/s]\n",
      "100%|███████████████████████████████████████████| 4/4 [00:00<00:00, 2699.04it/s]\n",
      "100%|███████████████████████████████████████████| 5/5 [00:00<00:00, 2788.40it/s]\n",
      "100%|███████████████████████████████████████████| 4/4 [00:00<00:00, 2363.99it/s]\n",
      "100%|███████████████████████████████████████████| 4/4 [00:00<00:00, 2661.36it/s]\n",
      "100%|███████████████████████████████████████████| 4/4 [00:00<00:00, 2597.09it/s]\n",
      "100%|███████████████████████████████████████████| 4/4 [00:00<00:00, 2377.72it/s]\n",
      "100%|███████████████████████████████████████████| 4/4 [00:00<00:00, 2992.19it/s]\n",
      "100%|███████████████████████████████████████████| 4/4 [00:00<00:00, 2432.89it/s]\n",
      "100%|███████████████████████████████████████████| 5/5 [00:00<00:00, 2699.73it/s]\n",
      "100%|███████████████████████████████████████████| 4/4 [00:00<00:00, 2657.99it/s]\n",
      "100%|███████████████████████████████████████████| 4/4 [00:00<00:00, 2717.40it/s]\n",
      "100%|███████████████████████████████████████████| 4/4 [00:00<00:00, 3436.55it/s]\n",
      "100%|███████████████████████████████████████████| 5/5 [00:00<00:00, 2844.37it/s]\n",
      "100%|███████████████████████████████████████████| 5/5 [00:00<00:00, 2672.21it/s]\n",
      "100%|███████████████████████████████████████████| 5/5 [00:00<00:00, 2671.19it/s]\n",
      "100%|███████████████████████████████████████████| 5/5 [00:00<00:00, 2796.20it/s]\n",
      "100%|███████████████████████████████████████████| 6/6 [00:00<00:00, 3039.35it/s]\n",
      "100%|███████████████████████████████████████████| 4/4 [00:00<00:00, 2605.56it/s]\n",
      "100%|███████████████████████████████████████████| 4/4 [00:00<00:00, 2512.31it/s]\n",
      "100%|███████████████████████████████████████████| 4/4 [00:00<00:00, 2460.00it/s]\n",
      "100%|███████████████████████████████████████████| 5/5 [00:00<00:00, 3209.11it/s]\n",
      "100%|███████████████████████████████████████████| 5/5 [00:00<00:00, 3026.63it/s]\n",
      "100%|███████████████████████████████████████████| 4/4 [00:00<00:00, 2560.63it/s]\n",
      "100%|███████████████████████████████████████████| 4/4 [00:00<00:00, 2585.49it/s]\n",
      "100%|███████████████████████████████████████████| 4/4 [00:00<00:00, 2630.07it/s]\n",
      "100%|███████████████████████████████████████████| 5/5 [00:00<00:00, 2852.10it/s]\n",
      "100%|███████████████████████████████████████████| 4/4 [00:00<00:00, 2715.64it/s]\n",
      "100%|███████████████████████████████████████████| 4/4 [00:00<00:00, 2624.72it/s]\n",
      "100%|███████████████████████████████████████████| 6/6 [00:00<00:00, 2690.67it/s]\n",
      "100%|███████████████████████████████████████████| 5/5 [00:00<00:00, 2648.59it/s]\n",
      "100%|███████████████████████████████████████████| 5/5 [00:00<00:00, 2844.37it/s]\n",
      "100%|███████████████████████████████████████████| 4/4 [00:00<00:00, 2431.48it/s]\n",
      "100%|███████████████████████████████████████████| 4/4 [00:00<00:00, 2575.96it/s]\n",
      "100%|███████████████████████████████████████████| 4/4 [00:00<00:00, 2364.32it/s]\n",
      "100%|███████████████████████████████████████████| 4/4 [00:00<00:00, 2485.88it/s]\n",
      "100%|███████████████████████████████████████████| 5/5 [00:00<00:00, 3061.98it/s]\n",
      "100%|███████████████████████████████████████████| 6/6 [00:00<00:00, 2731.85it/s]\n",
      "100%|███████████████████████████████████████████| 4/4 [00:00<00:00, 3060.98it/s]\n",
      "100%|███████████████████████████████████████████| 3/3 [00:00<00:00, 3154.40it/s]\n",
      "100%|███████████████████████████████████████████| 4/4 [00:00<00:00, 2749.46it/s]\n",
      "100%|███████████████████████████████████████████| 5/5 [00:00<00:00, 3285.53it/s]\n",
      "100%|███████████████████████████████████████████| 4/4 [00:00<00:00, 3294.82it/s]\n",
      "100%|███████████████████████████████████████████| 4/4 [00:00<00:00, 2846.49it/s]\n",
      "100%|███████████████████████████████████████████| 6/6 [00:00<00:00, 1275.83it/s]\n",
      "100%|███████████████████████████████████████████| 4/4 [00:00<00:00, 3041.55it/s]\n",
      "100%|███████████████████████████████████████████| 5/5 [00:00<00:00, 1336.87it/s]\n",
      "100%|███████████████████████████████████████████| 4/4 [00:00<00:00, 3511.35it/s]\n",
      "100%|███████████████████████████████████████████| 4/4 [00:00<00:00, 3210.34it/s]\n",
      "100%|███████████████████████████████████████████| 4/4 [00:00<00:00, 3316.31it/s]\n",
      "100%|███████████████████████████████████████████| 4/4 [00:00<00:00, 3062.65it/s]\n",
      "100%|███████████████████████████████████████████| 4/4 [00:00<00:00, 3306.51it/s]\n",
      "100%|███████████████████████████████████████████| 4/4 [00:00<00:00, 3204.82it/s]\n",
      "100%|███████████████████████████████████████████| 4/4 [00:00<00:00, 3182.32it/s]\n",
      "100%|███████████████████████████████████████████| 4/4 [00:00<00:00, 3235.72it/s]\n",
      "100%|███████████████████████████████████████████| 5/5 [00:00<00:00, 3431.20it/s]\n",
      "100%|███████████████████████████████████████████| 4/4 [00:00<00:00, 3364.86it/s]\n",
      "100%|███████████████████████████████████████████| 4/4 [00:00<00:00, 3076.69it/s]\n",
      "100%|███████████████████████████████████████████| 5/5 [00:00<00:00, 3129.14it/s]\n",
      "100%|███████████████████████████████████████████| 4/4 [00:00<00:00, 2549.34it/s]\n",
      "100%|███████████████████████████████████████████| 4/4 [00:00<00:00, 2930.52it/s]\n",
      "100%|███████████████████████████████████████████| 4/4 [00:00<00:00, 3117.86it/s]\n",
      "100%|███████████████████████████████████████████| 4/4 [00:00<00:00, 2873.80it/s]\n",
      "100%|███████████████████████████████████████████| 4/4 [00:00<00:00, 2810.72it/s]\n",
      "100%|███████████████████████████████████████████| 4/4 [00:00<00:00, 3028.38it/s]\n",
      "100%|███████████████████████████████████████████| 4/4 [00:00<00:00, 3014.23it/s]\n",
      "100%|███████████████████████████████████████████| 5/5 [00:00<00:00, 3349.01it/s]\n",
      "100%|███████████████████████████████████████████| 4/4 [00:00<00:00, 3452.10it/s]\n",
      "100%|███████████████████████████████████████████| 4/4 [00:00<00:00, 3093.71it/s]\n",
      "100%|███████████████████████████████████████████| 4/4 [00:00<00:00, 2719.16it/s]\n",
      "100%|███████████████████████████████████████████| 4/4 [00:00<00:00, 3053.73it/s]\n",
      "100%|███████████████████████████████████████████| 4/4 [00:00<00:00, 2736.01it/s]\n",
      "100%|███████████████████████████████████████████| 4/4 [00:00<00:00, 3350.08it/s]\n",
      "100%|███████████████████████████████████████████| 4/4 [00:00<00:00, 2915.75it/s]\n",
      "100%|███████████████████████████████████████████| 4/4 [00:00<00:00, 2890.63it/s]\n",
      "100%|███████████████████████████████████████████| 4/4 [00:00<00:00, 3140.04it/s]\n",
      "100%|███████████████████████████████████████████| 4/4 [00:00<00:00, 3311.07it/s]\n",
      "100%|███████████████████████████████████████████| 4/4 [00:00<00:00, 2737.80it/s]\n",
      "100%|███████████████████████████████████████████| 4/4 [00:00<00:00, 3062.09it/s]\n",
      "100%|███████████████████████████████████████████| 5/5 [00:00<00:00, 3276.29it/s]\n",
      "100%|███████████████████████████████████████████| 4/4 [00:00<00:00, 2803.21it/s]\n",
      "100%|███████████████████████████████████████████| 4/4 [00:00<00:00, 3217.72it/s]\n",
      "100%|███████████████████████████████████████████| 4/4 [00:00<00:00, 3058.19it/s]\n",
      "100%|███████████████████████████████████████████| 4/4 [00:00<00:00, 3037.70it/s]\n",
      "100%|███████████████████████████████████████████| 4/4 [00:00<00:00, 3086.32it/s]\n",
      "100%|███████████████████████████████████████████| 5/5 [00:00<00:00, 3349.01it/s]\n",
      "100%|███████████████████████████████████████████| 4/4 [00:00<00:00, 2811.67it/s]\n",
      "100%|███████████████████████████████████████████| 4/4 [00:00<00:00, 3512.08it/s]\n",
      "100%|███████████████████████████████████████████| 5/5 [00:00<00:00, 3015.75it/s]\n",
      "100%|███████████████████████████████████████████| 4/4 [00:00<00:00, 3081.78it/s]\n",
      "100%|███████████████████████████████████████████| 4/4 [00:00<00:00, 3271.05it/s]\n",
      "100%|███████████████████████████████████████████| 4/4 [00:00<00:00, 2848.91it/s]\n",
      "100%|███████████████████████████████████████████| 4/4 [00:00<00:00, 3198.10it/s]\n",
      "100%|███████████████████████████████████████████| 4/4 [00:00<00:00, 3005.05it/s]\n",
      "100%|███████████████████████████████████████████| 4/4 [00:00<00:00, 2607.59it/s]\n",
      "100%|███████████████████████████████████████████| 4/4 [00:00<00:00, 2995.93it/s]\n",
      "100%|████████████████████████████████████████████| 4/4 [00:00<00:00, 818.16it/s]\n",
      "100%|███████████████████████████████████████████| 5/5 [00:00<00:00, 3082.23it/s]\n",
      "100%|███████████████████████████████████████████| 5/5 [00:00<00:00, 1660.45it/s]\n",
      "100%|███████████████████████████████████████████| 4/4 [00:00<00:00, 3072.19it/s]\n",
      "100%|███████████████████████████████████████████| 4/4 [00:00<00:00, 3474.26it/s]\n",
      "100%|███████████████████████████████████████████| 4/4 [00:00<00:00, 3596.40it/s]\n",
      "100%|███████████████████████████████████████████| 5/5 [00:00<00:00, 3540.69it/s]\n",
      "100%|███████████████████████████████████████████| 6/6 [00:00<00:00, 3601.81it/s]\n",
      "100%|███████████████████████████████████████████| 4/4 [00:00<00:00, 2907.16it/s]\n",
      "100%|███████████████████████████████████████████| 4/4 [00:00<00:00, 3096.00it/s]\n",
      "100%|███████████████████████████████████████████| 4/4 [00:00<00:00, 3292.23it/s]\n",
      "100%|███████████████████████████████████████████| 4/4 [00:00<00:00, 2997.00it/s]\n",
      "100%|███████████████████████████████████████████| 4/4 [00:00<00:00, 2704.69it/s]\n",
      "100%|███████████████████████████████████████████| 4/4 [00:00<00:00, 2902.63it/s]\n",
      "100%|███████████████████████████████████████████| 4/4 [00:00<00:00, 3484.36it/s]\n",
      "100%|███████████████████████████████████████████| 6/6 [00:00<00:00, 3215.26it/s]\n",
      "100%|███████████████████████████████████████████| 4/4 [00:00<00:00, 2915.75it/s]\n",
      "100%|███████████████████████████████████████████| 4/4 [00:00<00:00, 3069.94it/s]\n",
      "100%|███████████████████████████████████████████| 5/5 [00:00<00:00, 2985.27it/s]\n",
      "100%|███████████████████████████████████████████| 4/4 [00:00<00:00, 3102.87it/s]\n",
      "100%|███████████████████████████████████████████| 4/4 [00:00<00:00, 3319.59it/s]\n",
      "100%|███████████████████████████████████████████| 5/5 [00:00<00:00, 3326.70it/s]\n",
      "100%|███████████████████████████████████████████| 4/4 [00:00<00:00, 2937.19it/s]\n",
      "100%|███████████████████████████████████████████| 5/5 [00:00<00:00, 3205.18it/s]\n",
      "100%|███████████████████████████████████████████| 4/4 [00:00<00:00, 3065.45it/s]\n",
      "100%|███████████████████████████████████████████| 4/4 [00:00<00:00, 2947.51it/s]\n",
      "100%|███████████████████████████████████████████| 5/5 [00:00<00:00, 3042.88it/s]\n",
      "100%|███████████████████████████████████████████| 5/5 [00:00<00:00, 3477.29it/s]\n",
      "100%|███████████████████████████████████████████| 4/4 [00:00<00:00, 2896.62it/s]\n",
      "100%|███████████████████████████████████████████| 4/4 [00:00<00:00, 3284.50it/s]\n",
      "100%|███████████████████████████████████████████| 4/4 [00:00<00:00, 3050.40it/s]\n",
      "100%|███████████████████████████████████████████| 4/4 [00:00<00:00, 3076.13it/s]\n",
      "100%|███████████████████████████████████████████| 4/4 [00:00<00:00, 2952.18it/s]\n",
      "100%|███████████████████████████████████████████| 4/4 [00:00<00:00, 3265.32it/s]\n",
      "100%|███████████████████████████████████████████| 4/4 [00:00<00:00, 3005.05it/s]\n",
      "100%|███████████████████████████████████████████| 4/4 [00:00<00:00, 3246.37it/s]\n",
      "100%|███████████████████████████████████████████| 4/4 [00:00<00:00, 3294.82it/s]\n",
      "100%|███████████████████████████████████████████| 4/4 [00:00<00:00, 2921.33it/s]\n",
      "100%|███████████████████████████████████████████| 5/5 [00:00<00:00, 3166.47it/s]\n",
      "100%|███████████████████████████████████████████| 4/4 [00:00<00:00, 2702.52it/s]\n",
      "100%|███████████████████████████████████████████| 4/4 [00:00<00:00, 2983.15it/s]\n",
      "100%|███████████████████████████████████████████| 4/4 [00:00<00:00, 3139.45it/s]\n",
      "100%|███████████████████████████████████████████| 4/4 [00:00<00:00, 2927.96it/s]\n",
      "100%|███████████████████████████████████████████| 4/4 [00:00<00:00, 1188.44it/s]\n",
      "100%|███████████████████████████████████████████| 4/4 [00:00<00:00, 2467.60it/s]\n",
      "100%|███████████████████████████████████████████| 4/4 [00:00<00:00, 2584.29it/s]\n",
      "100%|███████████████████████████████████████████| 5/5 [00:00<00:00, 3324.06it/s]\n",
      "100%|███████████████████████████████████████████| 4/4 [00:00<00:00, 2378.06it/s]\n",
      "100%|███████████████████████████████████████████| 4/4 [00:00<00:00, 3151.83it/s]\n",
      "100%|███████████████████████████████████████████| 5/5 [00:00<00:00, 2850.94it/s]\n",
      "100%|███████████████████████████████████████████| 4/4 [00:00<00:00, 2751.27it/s]\n",
      "100%|███████████████████████████████████████████| 4/4 [00:00<00:00, 2871.34it/s]\n",
      "100%|███████████████████████████████████████████| 5/5 [00:00<00:00, 3238.34it/s]\n",
      "100%|███████████████████████████████████████████| 4/4 [00:00<00:00, 3192.62it/s]\n",
      "100%|███████████████████████████████████████████| 4/4 [00:00<00:00, 3419.04it/s]\n",
      "100%|███████████████████████████████████████████| 4/4 [00:00<00:00, 3064.89it/s]\n",
      "100%|███████████████████████████████████████████| 4/4 [00:00<00:00, 3132.42it/s]\n",
      "100%|███████████████████████████████████████████| 4/4 [00:00<00:00, 2702.95it/s]\n",
      "100%|███████████████████████████████████████████| 5/5 [00:00<00:00, 3531.15it/s]\n",
      "100%|███████████████████████████████████████████| 4/4 [00:00<00:00, 2853.27it/s]\n",
      "100%|███████████████████████████████████████████| 4/4 [00:00<00:00, 2920.32it/s]\n",
      "100%|███████████████████████████████████████████| 4/4 [00:00<00:00, 2460.36it/s]\n",
      "100%|███████████████████████████████████████████| 5/5 [00:00<00:00, 2839.36it/s]\n",
      "100%|███████████████████████████████████████████| 4/4 [00:00<00:00, 3043.76it/s]\n",
      "100%|███████████████████████████████████████████| 4/4 [00:00<00:00, 2871.34it/s]\n",
      "100%|███████████████████████████████████████████| 5/5 [00:00<00:00, 3300.00it/s]\n",
      "100%|███████████████████████████████████████████| 5/5 [00:00<00:00, 2619.15it/s]\n",
      "100%|███████████████████████████████████████████| 4/4 [00:00<00:00, 3150.65it/s]\n",
      "100%|███████████████████████████████████████████| 6/6 [00:00<00:00, 3556.50it/s]\n",
      "100%|███████████████████████████████████████████| 4/4 [00:00<00:00, 2875.27it/s]\n",
      "100%|███████████████████████████████████████████| 4/4 [00:00<00:00, 3156.58it/s]\n",
      "100%|███████████████████████████████████████████| 5/5 [00:00<00:00, 3244.86it/s]\n",
      "100%|███████████████████████████████████████████| 4/4 [00:00<00:00, 3081.78it/s]\n",
      "100%|███████████████████████████████████████████| 4/4 [00:00<00:00, 2661.36it/s]\n",
      "100%|███████████████████████████████████████████| 5/5 [00:00<00:00, 3049.07it/s]\n",
      "100%|███████████████████████████████████████████| 4/4 [00:00<00:00, 2691.68it/s]\n",
      "100%|███████████████████████████████████████████| 4/4 [00:00<00:00, 2820.65it/s]\n",
      "100%|███████████████████████████████████████████| 4/4 [00:00<00:00, 3275.52it/s]\n",
      "100%|███████████████████████████████████████████| 4/4 [00:00<00:00, 2991.66it/s]\n",
      "100%|███████████████████████████████████████████| 4/4 [00:00<00:00, 2670.26it/s]\n",
      "100%|███████████████████████████████████████████| 4/4 [00:00<00:00, 2871.83it/s]\n",
      "100%|███████████████████████████████████████████| 4/4 [00:00<00:00, 3210.95it/s]\n",
      "100%|███████████████████████████████████████████| 5/5 [00:00<00:00, 2810.82it/s]\n",
      "100%|███████████████████████████████████████████| 4/4 [00:00<00:00, 2524.79it/s]\n",
      "100%|███████████████████████████████████████████| 4/4 [00:00<00:00, 2581.11it/s]\n",
      "100%|███████████████████████████████████████████| 4/4 [00:00<00:00, 2857.16it/s]\n",
      "100%|███████████████████████████████████████████| 5/5 [00:00<00:00, 3190.56it/s]\n",
      "100%|███████████████████████████████████████████| 4/4 [00:00<00:00, 3157.17it/s]\n",
      "100%|███████████████████████████████████████████| 4/4 [00:00<00:00, 3062.65it/s]\n",
      "100%|████████████████████████████████████████████| 4/4 [00:00<00:00, 844.43it/s]\n",
      "100%|███████████████████████████████████████████| 4/4 [00:00<00:00, 2480.00it/s]\n",
      "100%|███████████████████████████████████████████| 4/4 [00:00<00:00, 2787.84it/s]\n",
      "100%|███████████████████████████████████████████| 4/4 [00:00<00:00, 2579.13it/s]\n",
      "100%|███████████████████████████████████████████| 4/4 [00:00<00:00, 2616.13it/s]\n",
      "100%|███████████████████████████████████████████| 4/4 [00:00<00:00, 2716.08it/s]\n",
      "100%|███████████████████████████████████████████| 4/4 [00:00<00:00, 3222.67it/s]\n",
      "100%|███████████████████████████████████████████| 4/4 [00:00<00:00, 2859.10it/s]\n",
      "100%|███████████████████████████████████████████| 5/5 [00:00<00:00, 3311.47it/s]\n",
      "100%|██████████████████████████████████████| 8936/8936 [00:09<00:00, 940.53it/s]\n"
     ]
    }
   ],
   "source": [
    "vest_base = do_smart_repair(vest_base, min_rook_length = 30.5, snap_precision = 8)"
   ]
  },
  {
   "cell_type": "code",
   "execution_count": 32,
   "metadata": {},
   "outputs": [
    {
     "name": "stderr",
     "output_type": "stream",
     "text": [
      "100%|██████████████████████████████████████| 8936/8936 [00:10<00:00, 887.30it/s]\n"
     ]
    },
    {
     "data": {
      "text/plain": [
       "True"
      ]
     },
     "execution_count": 32,
     "metadata": {},
     "output_type": "execute_result"
    }
   ],
   "source": [
    "maup.doctor(vest_base)"
   ]
  },
  {
   "cell_type": "code",
   "execution_count": 33,
   "metadata": {},
   "outputs": [
    {
     "name": "stderr",
     "output_type": "stream",
     "text": [
      "100%|██████████████████████████████████████| 8936/8936 [00:29<00:00, 307.22it/s]\n",
      "100%|██████████████████████████████████████| 8936/8936 [01:24<00:00, 105.38it/s]\n"
     ]
    }
   ],
   "source": [
    "# vap and population have the same GEOID20\n",
    "blocks_to_precincts_assignment = maup.assign(population_df.geometry, vest_base.geometry)"
   ]
  },
  {
   "cell_type": "code",
   "execution_count": 34,
   "metadata": {},
   "outputs": [],
   "source": [
    "vest_base[pop_col] = population_df[pop_col].groupby(blocks_to_precincts_assignment).sum()"
   ]
  },
  {
   "cell_type": "code",
   "execution_count": 35,
   "metadata": {},
   "outputs": [],
   "source": [
    "election_df = gpd.GeoDataFrame(vest_base)"
   ]
  },
  {
   "cell_type": "code",
   "execution_count": 36,
   "metadata": {},
   "outputs": [
    {
     "data": {
      "text/plain": [
       "Index(['AGR18D', 'AGR18O', 'AGR18R', 'ATG18D', 'ATG18O', 'ATG18R', 'CNTY',\n",
       "       'CNTYKEY', 'COLOR', 'COM18D', 'COM18O', 'COM18R', 'G18SSVR', 'G18VR',\n",
       "       'GOV18D', 'GOV18O', 'GOV18R', 'LAN18D', 'LAN18O', 'LAN18R', 'LTG18D',\n",
       "       'LTG18O', 'LTG18R', 'PCTKEY', 'PREC', 'RRC18D', 'RRC18O', 'RRC18R',\n",
       "       'SCC18D', 'SCC18O', 'SCC18R', 'SSC18D', 'SSC18R', 'USS18D', 'USS18O',\n",
       "       'USS18R', 'geometry', 'TOTPOP', 'HISP', 'NH_WHITE', 'NH_BLACK',\n",
       "       'NH_AMIN', 'NH_ASIAN', 'NH_NHPI', 'NH_OTHER', 'NH_2MORE', 'H_WHITE',\n",
       "       'H_BLACK', 'H_AMIN', 'H_ASIAN', 'H_NHPI', 'H_OTHER', 'H_2MORE', 'VAP',\n",
       "       'HVAP', 'WVAP', 'BVAP', 'AMINVAP', 'ASIANVAP', 'NHPIVAP', 'OTHERVAP',\n",
       "       '2MOREVAP'],\n",
       "      dtype='object')"
      ]
     },
     "execution_count": 36,
     "metadata": {},
     "output_type": "execute_result"
    }
   ],
   "source": [
    "election_df.columns"
   ]
  },
  {
   "cell_type": "markdown",
   "metadata": {},
   "source": [
    "## Check if population agrees"
   ]
  },
  {
   "cell_type": "code",
   "execution_count": 38,
   "metadata": {},
   "outputs": [
    {
     "name": "stdout",
     "output_type": "stream",
     "text": [
      "population agrees\n"
     ]
    }
   ],
   "source": [
    "check_population(population_df, vest_base)"
   ]
  },
  {
   "cell_type": "markdown",
   "metadata": {},
   "source": [
    "## Add more vest data"
   ]
  },
  {
   "cell_type": "code",
   "execution_count": 40,
   "metadata": {},
   "outputs": [],
   "source": [
    "vest20 = gpd.read_file(vest20_data)\n",
    "vest16 = gpd.read_file(vest16_data)"
   ]
  },
  {
   "cell_type": "code",
   "execution_count": 41,
   "metadata": {},
   "outputs": [
    {
     "data": {
      "text/plain": [
       "Index(['CNTY', 'COLOR', 'PREC', 'PCTKEY', 'CNTYKEY', 'G20VR', 'G20SSVR',\n",
       "       'G20PRERTRU', 'G20PREDBID', 'G20PRELJOR', 'G20PREGHAW', 'G20PREOWRI',\n",
       "       'G20USSRCOR', 'G20USSDHEG', 'G20USSLMCK', 'G20USSGCOL', 'G20RRCRWRI',\n",
       "       'G20RRCDCAS', 'G20RRCLSTE', 'G20RRCGGRU', 'G20SSCRHEC', 'G20SSCDMEA',\n",
       "       'G20SSCLASH', 'G20SSCRBLA', 'G20SSCDCHE', 'G20SSCRBOY', 'G20SSCDWIL',\n",
       "       'G20SSCLSTR', 'G20SSCRBUS', 'G20SSCDTRI', 'G20SSCLOXF', 'G20SCCRRIC',\n",
       "       'G20SCCDFRI', 'G20SCCRYEA', 'G20SCCDCLI', 'G20SCCRNEW', 'G20SCCDBIR',\n",
       "       'geometry'],\n",
       "      dtype='object')"
      ]
     },
     "execution_count": 41,
     "metadata": {},
     "output_type": "execute_result"
    }
   ],
   "source": [
    "vest20.columns"
   ]
  },
  {
   "cell_type": "code",
   "execution_count": 42,
   "metadata": {},
   "outputs": [
    {
     "data": {
      "text/plain": [
       "Index(['CNTY', 'COLOR', 'PREC', 'PCTKEY', 'CNTYKEY', 'G16VR', 'G16SSVR',\n",
       "       'G16PRERTRU', 'G16PREDCLI', 'G16PRELJOH', 'G16PREGSTE', 'G16PREOWRI',\n",
       "       'G16RRCRCHR', 'G16RRCDYAR', 'G16RRCLMIL', 'G16RRCGSAL', 'G16SSCRLEH',\n",
       "       'G16SSCDWES', 'G16SSCLGLA', 'G16SSCGMUN', 'G16SSCRGRE', 'G16SSCDGAR',\n",
       "       'G16SSCLOXF', 'G16SSCGWAT', 'G16SSCRGUZ', 'G16SSCDROB', 'G16SSCLFUL',\n",
       "       'G16SSCGCHI', 'G16SCCRKEE', 'G16SCCDMEY', 'G16SCCLASH', 'G16SCCGREP',\n",
       "       'G16SCCRWAL', 'G16SCCDJOH', 'G16SCCLSTR', 'G16SCCGSAN', 'G16SCCRKEA',\n",
       "       'G16SCCDBUR', 'G16SCCLBEN', 'geometry'],\n",
       "      dtype='object')"
      ]
     },
     "execution_count": 42,
     "metadata": {},
     "output_type": "execute_result"
    }
   ],
   "source": [
    "vest16.columns"
   ]
  },
  {
   "cell_type": "code",
   "execution_count": 43,
   "metadata": {},
   "outputs": [
    {
     "name": "stderr",
     "output_type": "stream",
     "text": [
      "100%|█████████████████████████████████████| 9014/9014 [00:09<00:00, 1000.03it/s]\n"
     ]
    },
    {
     "name": "stdout",
     "output_type": "stream",
     "text": [
      "There are 4 holes.\n",
      "There are some invalid geometries.\n",
      "Snapping all geometries to a grid with precision 10^( -4 ) to avoid GEOS errors.\n",
      "Identifying overlaps...\n"
     ]
    },
    {
     "name": "stderr",
     "output_type": "stream",
     "text": [
      "100%|█████████████████████████████████████| 9073/9073 [00:03<00:00, 2930.74it/s]\n"
     ]
    },
    {
     "name": "stdout",
     "output_type": "stream",
     "text": [
      "Resolving overlaps...\n",
      "Filling gaps...\n"
     ]
    },
    {
     "name": "stderr",
     "output_type": "stream",
     "text": [
      "Gaps to simplify: 100%|███████████████████████████| 4/4 [00:06<00:00,  1.63s/it]\n",
      "Gaps to fill: 0it [00:00, ?it/s]\n",
      "100%|██████████████████████████████████████| 9014/9014 [00:18<00:00, 475.08it/s]\n",
      "100%|██████████████████████████████████████| 9014/9014 [00:19<00:00, 460.75it/s]\n",
      "100%|██████████████████████████████████████| 9014/9014 [01:23<00:00, 108.59it/s]\n",
      "100%|██████████████████████████████████████| 8936/8936 [00:18<00:00, 494.25it/s]\n",
      "100%|██████████████████████████████████████| 8936/8936 [01:16<00:00, 117.33it/s]\n"
     ]
    },
    {
     "name": "stdout",
     "output_type": "stream",
     "text": [
      "population agrees\n"
     ]
    }
   ],
   "source": [
    "# check the result here\n",
    "election_df = add_vest(vest20, election_df, '20', population_df, start_col)"
   ]
  },
  {
   "cell_type": "code",
   "execution_count": 44,
   "metadata": {},
   "outputs": [
    {
     "data": {
      "text/plain": [
       "Index(['2MOREVAP', 'AGR18D', 'AGR18O', 'AGR18R', 'AMINVAP', 'ASIANVAP',\n",
       "       'ATG18D', 'ATG18O', 'ATG18R', 'BVAP', 'CNTY', 'CNTYKEY', 'COLOR',\n",
       "       'COM18D', 'COM18O', 'COM18R', 'G18SSVR', 'G18VR', 'GOV18D', 'GOV18O',\n",
       "       'GOV18R', 'HISP', 'HVAP', 'H_2MORE', 'H_AMIN', 'H_ASIAN', 'H_BLACK',\n",
       "       'H_NHPI', 'H_OTHER', 'H_WHITE', 'LAN18D', 'LAN18O', 'LAN18R', 'LTG18D',\n",
       "       'LTG18O', 'LTG18R', 'NHPIVAP', 'NH_2MORE', 'NH_AMIN', 'NH_ASIAN',\n",
       "       'NH_BLACK', 'NH_NHPI', 'NH_OTHER', 'NH_WHITE', 'OTHERVAP', 'PCTKEY',\n",
       "       'PRE20D', 'PRE20O', 'PRE20R', 'PREC', 'RRC18D', 'RRC18O', 'RRC18R',\n",
       "       'RRC20D', 'RRC20O', 'RRC20R', 'SCC18D', 'SCC18O', 'SCC18R', 'SCC20D',\n",
       "       'SCC20R', 'SSC18D', 'SSC18R', 'SSC20D', 'SSC20O', 'SSC20R', 'TOTPOP',\n",
       "       'USS18D', 'USS18O', 'USS18R', 'USS20D', 'USS20O', 'USS20R', 'VAP',\n",
       "       'WVAP', 'geometry'],\n",
       "      dtype='object')"
      ]
     },
     "execution_count": 44,
     "metadata": {},
     "output_type": "execute_result"
    }
   ],
   "source": [
    "election_df.columns"
   ]
  },
  {
   "cell_type": "code",
   "execution_count": 45,
   "metadata": {},
   "outputs": [
    {
     "name": "stderr",
     "output_type": "stream",
     "text": [
      "100%|██████████████████████████████████████| 8832/8832 [00:11<00:00, 793.25it/s]\n"
     ]
    },
    {
     "name": "stdout",
     "output_type": "stream",
     "text": [
      "There are some invalid geometries.\n",
      "Snapping all geometries to a grid with precision 10^( -4 ) to avoid GEOS errors.\n",
      "Identifying overlaps...\n"
     ]
    },
    {
     "name": "stderr",
     "output_type": "stream",
     "text": [
      "100%|█████████████████████████████████████| 8883/8883 [00:02<00:00, 3404.65it/s]\n"
     ]
    },
    {
     "name": "stdout",
     "output_type": "stream",
     "text": [
      "Resolving overlaps...\n",
      "Filling gaps...\n"
     ]
    },
    {
     "name": "stderr",
     "output_type": "stream",
     "text": [
      "Gaps to simplify: 0it [00:00, ?it/s]\n",
      "Gaps to fill: 0it [00:00, ?it/s]\n",
      "100%|██████████████████████████████████████| 8832/8832 [00:09<00:00, 906.77it/s]\n",
      "100%|██████████████████████████████████████| 8832/8832 [00:30<00:00, 291.86it/s]\n",
      "100%|██████████████████████████████████████| 8832/8832 [01:15<00:00, 117.51it/s]\n",
      "100%|██████████████████████████████████████| 8936/8936 [00:16<00:00, 530.45it/s]\n",
      "100%|██████████████████████████████████████| 8936/8936 [01:17<00:00, 115.24it/s]\n"
     ]
    },
    {
     "name": "stdout",
     "output_type": "stream",
     "text": [
      "population agrees\n"
     ]
    }
   ],
   "source": [
    "election_df = add_vest(vest16, election_df, '16', population_df, start_col)"
   ]
  },
  {
   "cell_type": "markdown",
   "metadata": {},
   "source": [
    "##  Add the district data"
   ]
  },
  {
   "cell_type": "code",
   "execution_count": 47,
   "metadata": {},
   "outputs": [],
   "source": [
    "cong_df = gpd.read_file(cd_data)\n",
    "cong_df = cong_df.to_crs(cong_df.estimate_utm_crs())\n",
    "send = gpd.read_file(send_data)\n",
    "send = send.to_crs(send.estimate_utm_crs())\n",
    "hdist = gpd.read_file(hdist_data)\n",
    "hdist = hdist.to_crs(hdist.estimate_utm_crs())"
   ]
  },
  {
   "cell_type": "code",
   "execution_count": 48,
   "metadata": {},
   "outputs": [
    {
     "data": {
      "text/html": [
       "<div>\n",
       "<style scoped>\n",
       "    .dataframe tbody tr th:only-of-type {\n",
       "        vertical-align: middle;\n",
       "    }\n",
       "\n",
       "    .dataframe tbody tr th {\n",
       "        vertical-align: top;\n",
       "    }\n",
       "\n",
       "    .dataframe thead th {\n",
       "        text-align: right;\n",
       "    }\n",
       "</style>\n",
       "<table border=\"1\" class=\"dataframe\">\n",
       "  <thead>\n",
       "    <tr style=\"text-align: right;\">\n",
       "      <th></th>\n",
       "      <th>District</th>\n",
       "      <th>geometry</th>\n",
       "    </tr>\n",
       "  </thead>\n",
       "  <tbody>\n",
       "    <tr>\n",
       "      <th>0</th>\n",
       "      <td>1</td>\n",
       "      <td>POLYGON ((880030.892 3530415.334, 880028.784 3...</td>\n",
       "    </tr>\n",
       "    <tr>\n",
       "      <th>1</th>\n",
       "      <td>2</td>\n",
       "      <td>POLYGON ((737004.157 3520574.421, 737000.318 3...</td>\n",
       "    </tr>\n",
       "    <tr>\n",
       "      <th>2</th>\n",
       "      <td>3</td>\n",
       "      <td>POLYGON ((888189.129 3312752.108, 888188.007 3...</td>\n",
       "    </tr>\n",
       "    <tr>\n",
       "      <th>3</th>\n",
       "      <td>4</td>\n",
       "      <td>POLYGON ((911465.746 3253344.051, 909630.212 3...</td>\n",
       "    </tr>\n",
       "    <tr>\n",
       "      <th>4</th>\n",
       "      <td>5</td>\n",
       "      <td>POLYGON ((662793.440 3296321.544, 662570.697 3...</td>\n",
       "    </tr>\n",
       "  </tbody>\n",
       "</table>\n",
       "</div>"
      ],
      "text/plain": [
       "   District                                           geometry\n",
       "0         1  POLYGON ((880030.892 3530415.334, 880028.784 3...\n",
       "1         2  POLYGON ((737004.157 3520574.421, 737000.318 3...\n",
       "2         3  POLYGON ((888189.129 3312752.108, 888188.007 3...\n",
       "3         4  POLYGON ((911465.746 3253344.051, 909630.212 3...\n",
       "4         5  POLYGON ((662793.440 3296321.544, 662570.697 3..."
      ]
     },
     "execution_count": 48,
     "metadata": {},
     "output_type": "execute_result"
    }
   ],
   "source": [
    "send.head()"
   ]
  },
  {
   "cell_type": "code",
   "execution_count": 49,
   "metadata": {},
   "outputs": [
    {
     "name": "stderr",
     "output_type": "stream",
     "text": [
      "100%|███████████████████████████████████████████| 31/31 [00:00<00:00, 51.84it/s]\n",
      "100%|███████████████████████████████████████████| 31/31 [00:00<00:00, 77.68it/s]\n",
      "100%|███████████████████████████████████████████| 31/31 [00:04<00:00,  6.79it/s]\n"
     ]
    }
   ],
   "source": [
    "election_df = add_district(send, \"SEND\", election_df, \"District\")"
   ]
  },
  {
   "cell_type": "code",
   "execution_count": 50,
   "metadata": {},
   "outputs": [
    {
     "data": {
      "text/html": [
       "<div>\n",
       "<style scoped>\n",
       "    .dataframe tbody tr th:only-of-type {\n",
       "        vertical-align: middle;\n",
       "    }\n",
       "\n",
       "    .dataframe tbody tr th {\n",
       "        vertical-align: top;\n",
       "    }\n",
       "\n",
       "    .dataframe thead th {\n",
       "        text-align: right;\n",
       "    }\n",
       "</style>\n",
       "<table border=\"1\" class=\"dataframe\">\n",
       "  <thead>\n",
       "    <tr style=\"text-align: right;\">\n",
       "      <th></th>\n",
       "      <th>District</th>\n",
       "      <th>geometry</th>\n",
       "    </tr>\n",
       "  </thead>\n",
       "  <tbody>\n",
       "    <tr>\n",
       "      <th>0</th>\n",
       "      <td>1</td>\n",
       "      <td>POLYGON ((964735.202 3450822.511, 964551.503 3...</td>\n",
       "    </tr>\n",
       "    <tr>\n",
       "      <th>1</th>\n",
       "      <td>2</td>\n",
       "      <td>POLYGON ((874822.537 3298183.754, 874767.456 3...</td>\n",
       "    </tr>\n",
       "    <tr>\n",
       "      <th>2</th>\n",
       "      <td>3</td>\n",
       "      <td>POLYGON ((752958.226 3643200.262, 752935.458 3...</td>\n",
       "    </tr>\n",
       "    <tr>\n",
       "      <th>3</th>\n",
       "      <td>4</td>\n",
       "      <td>POLYGON ((813113.476 3624229.316, 813021.080 3...</td>\n",
       "    </tr>\n",
       "    <tr>\n",
       "      <th>4</th>\n",
       "      <td>5</td>\n",
       "      <td>POLYGON ((778416.502 3544886.377, 778416.359 3...</td>\n",
       "    </tr>\n",
       "  </tbody>\n",
       "</table>\n",
       "</div>"
      ],
      "text/plain": [
       "   District                                           geometry\n",
       "0         1  POLYGON ((964735.202 3450822.511, 964551.503 3...\n",
       "1         2  POLYGON ((874822.537 3298183.754, 874767.456 3...\n",
       "2         3  POLYGON ((752958.226 3643200.262, 752935.458 3...\n",
       "3         4  POLYGON ((813113.476 3624229.316, 813021.080 3...\n",
       "4         5  POLYGON ((778416.502 3544886.377, 778416.359 3..."
      ]
     },
     "execution_count": 50,
     "metadata": {},
     "output_type": "execute_result"
    }
   ],
   "source": [
    "cong_df.head()"
   ]
  },
  {
   "cell_type": "code",
   "execution_count": 51,
   "metadata": {},
   "outputs": [
    {
     "name": "stderr",
     "output_type": "stream",
     "text": [
      "100%|███████████████████████████████████████████| 38/38 [00:00<00:00, 64.42it/s]\n",
      "100%|██████████████████████████████████████████| 38/38 [00:00<00:00, 127.96it/s]\n",
      "100%|███████████████████████████████████████████| 38/38 [00:05<00:00,  7.08it/s]\n"
     ]
    }
   ],
   "source": [
    "election_df = add_district(cong_df, \"CD\", election_df, \"District\")"
   ]
  },
  {
   "cell_type": "code",
   "execution_count": 52,
   "metadata": {},
   "outputs": [
    {
     "data": {
      "text/html": [
       "<div>\n",
       "<style scoped>\n",
       "    .dataframe tbody tr th:only-of-type {\n",
       "        vertical-align: middle;\n",
       "    }\n",
       "\n",
       "    .dataframe tbody tr th {\n",
       "        vertical-align: top;\n",
       "    }\n",
       "\n",
       "    .dataframe thead th {\n",
       "        text-align: right;\n",
       "    }\n",
       "</style>\n",
       "<table border=\"1\" class=\"dataframe\">\n",
       "  <thead>\n",
       "    <tr style=\"text-align: right;\">\n",
       "      <th></th>\n",
       "      <th>District</th>\n",
       "      <th>geometry</th>\n",
       "    </tr>\n",
       "  </thead>\n",
       "  <tbody>\n",
       "    <tr>\n",
       "      <th>0</th>\n",
       "      <td>1</td>\n",
       "      <td>POLYGON ((901851.213 3646075.291, 901849.045 3...</td>\n",
       "    </tr>\n",
       "    <tr>\n",
       "      <th>1</th>\n",
       "      <td>2</td>\n",
       "      <td>POLYGON ((775231.624 3583822.886, 775222.009 3...</td>\n",
       "    </tr>\n",
       "    <tr>\n",
       "      <th>2</th>\n",
       "      <td>3</td>\n",
       "      <td>POLYGON ((860370.513 3328274.595, 860367.223 3...</td>\n",
       "    </tr>\n",
       "    <tr>\n",
       "      <th>3</th>\n",
       "      <td>4</td>\n",
       "      <td>POLYGON ((773181.222 3552448.786, 773151.567 3...</td>\n",
       "    </tr>\n",
       "    <tr>\n",
       "      <th>4</th>\n",
       "      <td>5</td>\n",
       "      <td>POLYGON ((877472.783 3576311.248, 877471.408 3...</td>\n",
       "    </tr>\n",
       "  </tbody>\n",
       "</table>\n",
       "</div>"
      ],
      "text/plain": [
       "   District                                           geometry\n",
       "0         1  POLYGON ((901851.213 3646075.291, 901849.045 3...\n",
       "1         2  POLYGON ((775231.624 3583822.886, 775222.009 3...\n",
       "2         3  POLYGON ((860370.513 3328274.595, 860367.223 3...\n",
       "3         4  POLYGON ((773181.222 3552448.786, 773151.567 3...\n",
       "4         5  POLYGON ((877472.783 3576311.248, 877471.408 3..."
      ]
     },
     "execution_count": 52,
     "metadata": {},
     "output_type": "execute_result"
    }
   ],
   "source": [
    "hdist.head()"
   ]
  },
  {
   "cell_type": "code",
   "execution_count": 53,
   "metadata": {},
   "outputs": [
    {
     "name": "stderr",
     "output_type": "stream",
     "text": [
      "100%|████████████████████████████████████████| 150/150 [00:01<00:00, 143.08it/s]\n",
      "100%|████████████████████████████████████████| 150/150 [00:00<00:00, 258.94it/s]\n",
      "100%|█████████████████████████████████████████| 150/150 [00:05<00:00, 26.27it/s]\n"
     ]
    }
   ],
   "source": [
    "election_df = add_district(hdist, \"HDIST\", election_df, \"District\")"
   ]
  },
  {
   "cell_type": "code",
   "execution_count": 54,
   "metadata": {},
   "outputs": [
    {
     "data": {
      "text/html": [
       "<div>\n",
       "<style scoped>\n",
       "    .dataframe tbody tr th:only-of-type {\n",
       "        vertical-align: middle;\n",
       "    }\n",
       "\n",
       "    .dataframe tbody tr th {\n",
       "        vertical-align: top;\n",
       "    }\n",
       "\n",
       "    .dataframe thead th {\n",
       "        text-align: right;\n",
       "    }\n",
       "</style>\n",
       "<table border=\"1\" class=\"dataframe\">\n",
       "  <thead>\n",
       "    <tr style=\"text-align: right;\">\n",
       "      <th></th>\n",
       "      <th>2MOREVAP</th>\n",
       "      <th>AGR18D</th>\n",
       "      <th>AGR18O</th>\n",
       "      <th>AGR18R</th>\n",
       "      <th>AMINVAP</th>\n",
       "      <th>ASIANVAP</th>\n",
       "      <th>ATG18D</th>\n",
       "      <th>ATG18O</th>\n",
       "      <th>ATG18R</th>\n",
       "      <th>BVAP</th>\n",
       "      <th>...</th>\n",
       "      <th>USS18R</th>\n",
       "      <th>USS20D</th>\n",
       "      <th>USS20O</th>\n",
       "      <th>USS20R</th>\n",
       "      <th>VAP</th>\n",
       "      <th>WVAP</th>\n",
       "      <th>geometry</th>\n",
       "      <th>SEND</th>\n",
       "      <th>CD</th>\n",
       "      <th>HDIST</th>\n",
       "    </tr>\n",
       "  </thead>\n",
       "  <tbody>\n",
       "    <tr>\n",
       "      <th>1768</th>\n",
       "      <td>0.0</td>\n",
       "      <td>0</td>\n",
       "      <td>0</td>\n",
       "      <td>0</td>\n",
       "      <td>0.0</td>\n",
       "      <td>0.0</td>\n",
       "      <td>0</td>\n",
       "      <td>0</td>\n",
       "      <td>0</td>\n",
       "      <td>0.0</td>\n",
       "      <td>...</td>\n",
       "      <td>0</td>\n",
       "      <td>0.0</td>\n",
       "      <td>0.0</td>\n",
       "      <td>0.0</td>\n",
       "      <td>0.0</td>\n",
       "      <td>0.0</td>\n",
       "      <td>POLYGON EMPTY</td>\n",
       "      <td>NaN</td>\n",
       "      <td>NaN</td>\n",
       "      <td>NaN</td>\n",
       "    </tr>\n",
       "    <tr>\n",
       "      <th>4966</th>\n",
       "      <td>0.0</td>\n",
       "      <td>0</td>\n",
       "      <td>0</td>\n",
       "      <td>0</td>\n",
       "      <td>0.0</td>\n",
       "      <td>0.0</td>\n",
       "      <td>0</td>\n",
       "      <td>0</td>\n",
       "      <td>0</td>\n",
       "      <td>0.0</td>\n",
       "      <td>...</td>\n",
       "      <td>0</td>\n",
       "      <td>0.0</td>\n",
       "      <td>0.0</td>\n",
       "      <td>0.0</td>\n",
       "      <td>0.0</td>\n",
       "      <td>0.0</td>\n",
       "      <td>POLYGON EMPTY</td>\n",
       "      <td>NaN</td>\n",
       "      <td>NaN</td>\n",
       "      <td>NaN</td>\n",
       "    </tr>\n",
       "    <tr>\n",
       "      <th>4967</th>\n",
       "      <td>0.0</td>\n",
       "      <td>0</td>\n",
       "      <td>0</td>\n",
       "      <td>0</td>\n",
       "      <td>0.0</td>\n",
       "      <td>0.0</td>\n",
       "      <td>0</td>\n",
       "      <td>0</td>\n",
       "      <td>0</td>\n",
       "      <td>0.0</td>\n",
       "      <td>...</td>\n",
       "      <td>0</td>\n",
       "      <td>0.0</td>\n",
       "      <td>0.0</td>\n",
       "      <td>0.0</td>\n",
       "      <td>0.0</td>\n",
       "      <td>0.0</td>\n",
       "      <td>POLYGON EMPTY</td>\n",
       "      <td>NaN</td>\n",
       "      <td>NaN</td>\n",
       "      <td>NaN</td>\n",
       "    </tr>\n",
       "  </tbody>\n",
       "</table>\n",
       "<p>3 rows × 91 columns</p>\n",
       "</div>"
      ],
      "text/plain": [
       "      2MOREVAP  AGR18D  AGR18O  AGR18R  AMINVAP  ASIANVAP  ATG18D  ATG18O  \\\n",
       "1768       0.0       0       0       0      0.0       0.0       0       0   \n",
       "4966       0.0       0       0       0      0.0       0.0       0       0   \n",
       "4967       0.0       0       0       0      0.0       0.0       0       0   \n",
       "\n",
       "      ATG18R  BVAP  ...  USS18R  USS20D  USS20O  USS20R  VAP  WVAP  \\\n",
       "1768       0   0.0  ...       0     0.0     0.0     0.0  0.0   0.0   \n",
       "4966       0   0.0  ...       0     0.0     0.0     0.0  0.0   0.0   \n",
       "4967       0   0.0  ...       0     0.0     0.0     0.0  0.0   0.0   \n",
       "\n",
       "           geometry  SEND  CD  HDIST  \n",
       "1768  POLYGON EMPTY   NaN NaN    NaN  \n",
       "4966  POLYGON EMPTY   NaN NaN    NaN  \n",
       "4967  POLYGON EMPTY   NaN NaN    NaN  \n",
       "\n",
       "[3 rows x 91 columns]"
      ]
     },
     "execution_count": 54,
     "metadata": {},
     "output_type": "execute_result"
    }
   ],
   "source": [
    "election_df[election_df[\"SEND\"].isna()]"
   ]
  },
  {
   "cell_type": "code",
   "execution_count": 55,
   "metadata": {},
   "outputs": [
    {
     "data": {
      "text/html": [
       "<div>\n",
       "<style scoped>\n",
       "    .dataframe tbody tr th:only-of-type {\n",
       "        vertical-align: middle;\n",
       "    }\n",
       "\n",
       "    .dataframe tbody tr th {\n",
       "        vertical-align: top;\n",
       "    }\n",
       "\n",
       "    .dataframe thead th {\n",
       "        text-align: right;\n",
       "    }\n",
       "</style>\n",
       "<table border=\"1\" class=\"dataframe\">\n",
       "  <thead>\n",
       "    <tr style=\"text-align: right;\">\n",
       "      <th></th>\n",
       "      <th>2MOREVAP</th>\n",
       "      <th>AGR18D</th>\n",
       "      <th>AGR18O</th>\n",
       "      <th>AGR18R</th>\n",
       "      <th>AMINVAP</th>\n",
       "      <th>ASIANVAP</th>\n",
       "      <th>ATG18D</th>\n",
       "      <th>ATG18O</th>\n",
       "      <th>ATG18R</th>\n",
       "      <th>BVAP</th>\n",
       "      <th>...</th>\n",
       "      <th>USS18R</th>\n",
       "      <th>USS20D</th>\n",
       "      <th>USS20O</th>\n",
       "      <th>USS20R</th>\n",
       "      <th>VAP</th>\n",
       "      <th>WVAP</th>\n",
       "      <th>geometry</th>\n",
       "      <th>SEND</th>\n",
       "      <th>CD</th>\n",
       "      <th>HDIST</th>\n",
       "    </tr>\n",
       "  </thead>\n",
       "  <tbody>\n",
       "    <tr>\n",
       "      <th>1768</th>\n",
       "      <td>0.0</td>\n",
       "      <td>0</td>\n",
       "      <td>0</td>\n",
       "      <td>0</td>\n",
       "      <td>0.0</td>\n",
       "      <td>0.0</td>\n",
       "      <td>0</td>\n",
       "      <td>0</td>\n",
       "      <td>0</td>\n",
       "      <td>0.0</td>\n",
       "      <td>...</td>\n",
       "      <td>0</td>\n",
       "      <td>0.0</td>\n",
       "      <td>0.0</td>\n",
       "      <td>0.0</td>\n",
       "      <td>0.0</td>\n",
       "      <td>0.0</td>\n",
       "      <td>POLYGON EMPTY</td>\n",
       "      <td>NaN</td>\n",
       "      <td>NaN</td>\n",
       "      <td>NaN</td>\n",
       "    </tr>\n",
       "    <tr>\n",
       "      <th>4966</th>\n",
       "      <td>0.0</td>\n",
       "      <td>0</td>\n",
       "      <td>0</td>\n",
       "      <td>0</td>\n",
       "      <td>0.0</td>\n",
       "      <td>0.0</td>\n",
       "      <td>0</td>\n",
       "      <td>0</td>\n",
       "      <td>0</td>\n",
       "      <td>0.0</td>\n",
       "      <td>...</td>\n",
       "      <td>0</td>\n",
       "      <td>0.0</td>\n",
       "      <td>0.0</td>\n",
       "      <td>0.0</td>\n",
       "      <td>0.0</td>\n",
       "      <td>0.0</td>\n",
       "      <td>POLYGON EMPTY</td>\n",
       "      <td>NaN</td>\n",
       "      <td>NaN</td>\n",
       "      <td>NaN</td>\n",
       "    </tr>\n",
       "    <tr>\n",
       "      <th>4967</th>\n",
       "      <td>0.0</td>\n",
       "      <td>0</td>\n",
       "      <td>0</td>\n",
       "      <td>0</td>\n",
       "      <td>0.0</td>\n",
       "      <td>0.0</td>\n",
       "      <td>0</td>\n",
       "      <td>0</td>\n",
       "      <td>0</td>\n",
       "      <td>0.0</td>\n",
       "      <td>...</td>\n",
       "      <td>0</td>\n",
       "      <td>0.0</td>\n",
       "      <td>0.0</td>\n",
       "      <td>0.0</td>\n",
       "      <td>0.0</td>\n",
       "      <td>0.0</td>\n",
       "      <td>POLYGON EMPTY</td>\n",
       "      <td>NaN</td>\n",
       "      <td>NaN</td>\n",
       "      <td>NaN</td>\n",
       "    </tr>\n",
       "  </tbody>\n",
       "</table>\n",
       "<p>3 rows × 91 columns</p>\n",
       "</div>"
      ],
      "text/plain": [
       "      2MOREVAP  AGR18D  AGR18O  AGR18R  AMINVAP  ASIANVAP  ATG18D  ATG18O  \\\n",
       "1768       0.0       0       0       0      0.0       0.0       0       0   \n",
       "4966       0.0       0       0       0      0.0       0.0       0       0   \n",
       "4967       0.0       0       0       0      0.0       0.0       0       0   \n",
       "\n",
       "      ATG18R  BVAP  ...  USS18R  USS20D  USS20O  USS20R  VAP  WVAP  \\\n",
       "1768       0   0.0  ...       0     0.0     0.0     0.0  0.0   0.0   \n",
       "4966       0   0.0  ...       0     0.0     0.0     0.0  0.0   0.0   \n",
       "4967       0   0.0  ...       0     0.0     0.0     0.0  0.0   0.0   \n",
       "\n",
       "           geometry  SEND  CD  HDIST  \n",
       "1768  POLYGON EMPTY   NaN NaN    NaN  \n",
       "4966  POLYGON EMPTY   NaN NaN    NaN  \n",
       "4967  POLYGON EMPTY   NaN NaN    NaN  \n",
       "\n",
       "[3 rows x 91 columns]"
      ]
     },
     "execution_count": 55,
     "metadata": {},
     "output_type": "execute_result"
    }
   ],
   "source": [
    "election_df[election_df[\"CD\"].isna()]"
   ]
  },
  {
   "cell_type": "code",
   "execution_count": 56,
   "metadata": {},
   "outputs": [
    {
     "data": {
      "text/html": [
       "<div>\n",
       "<style scoped>\n",
       "    .dataframe tbody tr th:only-of-type {\n",
       "        vertical-align: middle;\n",
       "    }\n",
       "\n",
       "    .dataframe tbody tr th {\n",
       "        vertical-align: top;\n",
       "    }\n",
       "\n",
       "    .dataframe thead th {\n",
       "        text-align: right;\n",
       "    }\n",
       "</style>\n",
       "<table border=\"1\" class=\"dataframe\">\n",
       "  <thead>\n",
       "    <tr style=\"text-align: right;\">\n",
       "      <th></th>\n",
       "      <th>2MOREVAP</th>\n",
       "      <th>AGR18D</th>\n",
       "      <th>AGR18O</th>\n",
       "      <th>AGR18R</th>\n",
       "      <th>AMINVAP</th>\n",
       "      <th>ASIANVAP</th>\n",
       "      <th>ATG18D</th>\n",
       "      <th>ATG18O</th>\n",
       "      <th>ATG18R</th>\n",
       "      <th>BVAP</th>\n",
       "      <th>...</th>\n",
       "      <th>USS18R</th>\n",
       "      <th>USS20D</th>\n",
       "      <th>USS20O</th>\n",
       "      <th>USS20R</th>\n",
       "      <th>VAP</th>\n",
       "      <th>WVAP</th>\n",
       "      <th>geometry</th>\n",
       "      <th>SEND</th>\n",
       "      <th>CD</th>\n",
       "      <th>HDIST</th>\n",
       "    </tr>\n",
       "  </thead>\n",
       "  <tbody>\n",
       "    <tr>\n",
       "      <th>1768</th>\n",
       "      <td>0.0</td>\n",
       "      <td>0</td>\n",
       "      <td>0</td>\n",
       "      <td>0</td>\n",
       "      <td>0.0</td>\n",
       "      <td>0.0</td>\n",
       "      <td>0</td>\n",
       "      <td>0</td>\n",
       "      <td>0</td>\n",
       "      <td>0.0</td>\n",
       "      <td>...</td>\n",
       "      <td>0</td>\n",
       "      <td>0.0</td>\n",
       "      <td>0.0</td>\n",
       "      <td>0.0</td>\n",
       "      <td>0.0</td>\n",
       "      <td>0.0</td>\n",
       "      <td>POLYGON EMPTY</td>\n",
       "      <td>NaN</td>\n",
       "      <td>NaN</td>\n",
       "      <td>NaN</td>\n",
       "    </tr>\n",
       "    <tr>\n",
       "      <th>4966</th>\n",
       "      <td>0.0</td>\n",
       "      <td>0</td>\n",
       "      <td>0</td>\n",
       "      <td>0</td>\n",
       "      <td>0.0</td>\n",
       "      <td>0.0</td>\n",
       "      <td>0</td>\n",
       "      <td>0</td>\n",
       "      <td>0</td>\n",
       "      <td>0.0</td>\n",
       "      <td>...</td>\n",
       "      <td>0</td>\n",
       "      <td>0.0</td>\n",
       "      <td>0.0</td>\n",
       "      <td>0.0</td>\n",
       "      <td>0.0</td>\n",
       "      <td>0.0</td>\n",
       "      <td>POLYGON EMPTY</td>\n",
       "      <td>NaN</td>\n",
       "      <td>NaN</td>\n",
       "      <td>NaN</td>\n",
       "    </tr>\n",
       "    <tr>\n",
       "      <th>4967</th>\n",
       "      <td>0.0</td>\n",
       "      <td>0</td>\n",
       "      <td>0</td>\n",
       "      <td>0</td>\n",
       "      <td>0.0</td>\n",
       "      <td>0.0</td>\n",
       "      <td>0</td>\n",
       "      <td>0</td>\n",
       "      <td>0</td>\n",
       "      <td>0.0</td>\n",
       "      <td>...</td>\n",
       "      <td>0</td>\n",
       "      <td>0.0</td>\n",
       "      <td>0.0</td>\n",
       "      <td>0.0</td>\n",
       "      <td>0.0</td>\n",
       "      <td>0.0</td>\n",
       "      <td>POLYGON EMPTY</td>\n",
       "      <td>NaN</td>\n",
       "      <td>NaN</td>\n",
       "      <td>NaN</td>\n",
       "    </tr>\n",
       "  </tbody>\n",
       "</table>\n",
       "<p>3 rows × 91 columns</p>\n",
       "</div>"
      ],
      "text/plain": [
       "      2MOREVAP  AGR18D  AGR18O  AGR18R  AMINVAP  ASIANVAP  ATG18D  ATG18O  \\\n",
       "1768       0.0       0       0       0      0.0       0.0       0       0   \n",
       "4966       0.0       0       0       0      0.0       0.0       0       0   \n",
       "4967       0.0       0       0       0      0.0       0.0       0       0   \n",
       "\n",
       "      ATG18R  BVAP  ...  USS18R  USS20D  USS20O  USS20R  VAP  WVAP  \\\n",
       "1768       0   0.0  ...       0     0.0     0.0     0.0  0.0   0.0   \n",
       "4966       0   0.0  ...       0     0.0     0.0     0.0  0.0   0.0   \n",
       "4967       0   0.0  ...       0     0.0     0.0     0.0  0.0   0.0   \n",
       "\n",
       "           geometry  SEND  CD  HDIST  \n",
       "1768  POLYGON EMPTY   NaN NaN    NaN  \n",
       "4966  POLYGON EMPTY   NaN NaN    NaN  \n",
       "4967  POLYGON EMPTY   NaN NaN    NaN  \n",
       "\n",
       "[3 rows x 91 columns]"
      ]
     },
     "execution_count": 56,
     "metadata": {},
     "output_type": "execute_result"
    }
   ],
   "source": [
    "election_df[election_df[\"HDIST\"].isna()]"
   ]
  },
  {
   "cell_type": "code",
   "execution_count": 57,
   "metadata": {},
   "outputs": [
    {
     "data": {
      "text/plain": [
       "0.0"
      ]
     },
     "execution_count": 57,
     "metadata": {},
     "output_type": "execute_result"
    }
   ],
   "source": [
    "sum(election_df[election_df[\"SEND\"].isna()][\"TOTPOP\"])"
   ]
  },
  {
   "cell_type": "markdown",
   "metadata": {},
   "source": [
    "## There are some rows not assigned to districts.  Since they have 0 population, we can remove them:"
   ]
  },
  {
   "cell_type": "code",
   "execution_count": 59,
   "metadata": {},
   "outputs": [],
   "source": [
    "election_df = election_df.dropna(subset=['SEND'])"
   ]
  },
  {
   "cell_type": "code",
   "execution_count": 60,
   "metadata": {},
   "outputs": [
    {
     "data": {
      "text/html": [
       "<div>\n",
       "<style scoped>\n",
       "    .dataframe tbody tr th:only-of-type {\n",
       "        vertical-align: middle;\n",
       "    }\n",
       "\n",
       "    .dataframe tbody tr th {\n",
       "        vertical-align: top;\n",
       "    }\n",
       "\n",
       "    .dataframe thead th {\n",
       "        text-align: right;\n",
       "    }\n",
       "</style>\n",
       "<table border=\"1\" class=\"dataframe\">\n",
       "  <thead>\n",
       "    <tr style=\"text-align: right;\">\n",
       "      <th></th>\n",
       "      <th>2MOREVAP</th>\n",
       "      <th>AGR18D</th>\n",
       "      <th>AGR18O</th>\n",
       "      <th>AGR18R</th>\n",
       "      <th>AMINVAP</th>\n",
       "      <th>ASIANVAP</th>\n",
       "      <th>ATG18D</th>\n",
       "      <th>ATG18O</th>\n",
       "      <th>ATG18R</th>\n",
       "      <th>BVAP</th>\n",
       "      <th>...</th>\n",
       "      <th>USS18R</th>\n",
       "      <th>USS20D</th>\n",
       "      <th>USS20O</th>\n",
       "      <th>USS20R</th>\n",
       "      <th>VAP</th>\n",
       "      <th>WVAP</th>\n",
       "      <th>geometry</th>\n",
       "      <th>SEND</th>\n",
       "      <th>CD</th>\n",
       "      <th>HDIST</th>\n",
       "    </tr>\n",
       "  </thead>\n",
       "  <tbody>\n",
       "  </tbody>\n",
       "</table>\n",
       "<p>0 rows × 91 columns</p>\n",
       "</div>"
      ],
      "text/plain": [
       "Empty GeoDataFrame\n",
       "Columns: [2MOREVAP, AGR18D, AGR18O, AGR18R, AMINVAP, ASIANVAP, ATG18D, ATG18O, ATG18R, BVAP, CNTY, CNTYKEY, COLOR, COM18D, COM18O, COM18R, G18SSVR, G18VR, GOV18D, GOV18O, GOV18R, HISP, HVAP, H_2MORE, H_AMIN, H_ASIAN, H_BLACK, H_NHPI, H_OTHER, H_WHITE, LAN18D, LAN18O, LAN18R, LTG18D, LTG18O, LTG18R, NHPIVAP, NH_2MORE, NH_AMIN, NH_ASIAN, NH_BLACK, NH_NHPI, NH_OTHER, NH_WHITE, OTHERVAP, PCTKEY, PRE16D, PRE16O, PRE16R, PRE20D, PRE20O, PRE20R, PREC, RRC16D, RRC16O, RRC16R, RRC18D, RRC18O, RRC18R, RRC20D, RRC20O, RRC20R, SCC16D, SCC16O, SCC16R, SCC18D, SCC18O, SCC18R, SCC20D, SCC20R, SSC16D, SSC16O, SSC16R, SSC18D, SSC18R, SSC20D, SSC20O, SSC20R, TOTPOP, USS18D, USS18O, USS18R, USS20D, USS20O, USS20R, VAP, WVAP, geometry, SEND, CD, HDIST]\n",
       "Index: []\n",
       "\n",
       "[0 rows x 91 columns]"
      ]
     },
     "execution_count": 60,
     "metadata": {},
     "output_type": "execute_result"
    }
   ],
   "source": [
    "election_df[election_df[\"HDIST\"].isna()]"
   ]
  },
  {
   "cell_type": "markdown",
   "metadata": {},
   "source": [
    "### Put the base precinct year after the precinct information column"
   ]
  },
  {
   "cell_type": "code",
   "execution_count": 62,
   "metadata": {},
   "outputs": [],
   "source": [
    "'CNTY', 'COLOR', 'PREC', 'PCTKEY', 'CNTYKEY', 'G20VR', 'G20SSVR'\n",
    "base_columns = {}\n",
    "if 'COUNTYFP' + year not in election_df.columns:\n",
    "    base_columns = {\n",
    "        'CNTY':'CNTY'+year,\n",
    "        'COLOR':'COLOR'+year,\n",
    "        'PREC':'PREC'+year,\n",
    "        'PCTKEY':'PCTKEY'+year,\n",
    "        'CNTYKEY':'CNTYKEY'+year,\n",
    "        'G18VR':'G18VR'+year,\n",
    "        'G18SSVR':'G18SSVR'+year}\n",
    "election_df.rename(columns=base_columns, inplace = True)"
   ]
  },
  {
   "cell_type": "code",
   "execution_count": 63,
   "metadata": {},
   "outputs": [
    {
     "data": {
      "text/plain": [
       "Index(['2MOREVAP', 'AGR18D', 'AGR18O', 'AGR18R', 'AMINVAP', 'ASIANVAP',\n",
       "       'ATG18D', 'ATG18O', 'ATG18R', 'BVAP', 'CNTY18', 'CNTYKEY18', 'COLOR18',\n",
       "       'COM18D', 'COM18O', 'COM18R', 'G18SSVR18', 'G18VR18', 'GOV18D',\n",
       "       'GOV18O', 'GOV18R', 'HISP', 'HVAP', 'H_2MORE', 'H_AMIN', 'H_ASIAN',\n",
       "       'H_BLACK', 'H_NHPI', 'H_OTHER', 'H_WHITE', 'LAN18D', 'LAN18O', 'LAN18R',\n",
       "       'LTG18D', 'LTG18O', 'LTG18R', 'NHPIVAP', 'NH_2MORE', 'NH_AMIN',\n",
       "       'NH_ASIAN', 'NH_BLACK', 'NH_NHPI', 'NH_OTHER', 'NH_WHITE', 'OTHERVAP',\n",
       "       'PCTKEY18', 'PRE16D', 'PRE16O', 'PRE16R', 'PRE20D', 'PRE20O', 'PRE20R',\n",
       "       'PREC18', 'RRC16D', 'RRC16O', 'RRC16R', 'RRC18D', 'RRC18O', 'RRC18R',\n",
       "       'RRC20D', 'RRC20O', 'RRC20R', 'SCC16D', 'SCC16O', 'SCC16R', 'SCC18D',\n",
       "       'SCC18O', 'SCC18R', 'SCC20D', 'SCC20R', 'SSC16D', 'SSC16O', 'SSC16R',\n",
       "       'SSC18D', 'SSC18R', 'SSC20D', 'SSC20O', 'SSC20R', 'TOTPOP', 'USS18D',\n",
       "       'USS18O', 'USS18R', 'USS20D', 'USS20O', 'USS20R', 'VAP', 'WVAP',\n",
       "       'geometry', 'SEND', 'CD', 'HDIST'],\n",
       "      dtype='object')"
      ]
     },
     "execution_count": 63,
     "metadata": {},
     "output_type": "execute_result"
    }
   ],
   "source": [
    "election_df.columns"
   ]
  },
  {
   "cell_type": "code",
   "execution_count": 64,
   "metadata": {},
   "outputs": [
    {
     "name": "stderr",
     "output_type": "stream",
     "text": [
      "100%|█████████████████████████████████████| 8933/8933 [00:08<00:00, 1037.09it/s]\n"
     ]
    },
    {
     "data": {
      "text/plain": [
       "True"
      ]
     },
     "execution_count": 64,
     "metadata": {},
     "output_type": "execute_result"
    }
   ],
   "source": [
    "maup.doctor(election_df)"
   ]
  },
  {
   "cell_type": "code",
   "execution_count": 65,
   "metadata": {},
   "outputs": [],
   "source": [
    "# reorder the columns\n",
    "fixed_columns = [\n",
    "    'CNTY'+year,\n",
    "    'COLOR'+year,\n",
    "    'PREC'+year,\n",
    "    'PCTKEY'+year,\n",
    "    'CNTYKEY'+year,\n",
    "    'G18VR'+year,\n",
    "    'G18SSVR'+year,\n",
    "    'CD',\n",
    "    'SEND',\n",
    "    'HDIST',\n",
    "    'TOTPOP',\n",
    "    'NH_2MORE',\n",
    "    'NH_AMIN',\n",
    "    'NH_ASIAN',\n",
    "    'NH_BLACK',\n",
    "    'NH_NHPI',\n",
    "    'NH_OTHER',\n",
    "    'NH_WHITE',\n",
    "    'HISP',\n",
    "    'H_AMIN',\n",
    "    'H_ASIAN',\n",
    "    'H_BLACK',\n",
    "    'H_NHPI',\n",
    "    'H_OTHER',\n",
    "    'H_WHITE',\n",
    "    'H_2MORE',\n",
    "    'VAP',\n",
    "    'HVAP',\n",
    "    'WVAP',\n",
    "    'BVAP',\n",
    "    'AMINVAP',\n",
    "    'ASIANVAP',\n",
    "    'NHPIVAP',\n",
    "    'OTHERVAP',\n",
    "    '2MOREVAP']\n",
    "\n",
    "election_columns = [col for col in election_df.columns if col not in fixed_columns]\n",
    "final_col = fixed_columns + election_columns\n",
    "election_df = election_df[final_col]"
   ]
  },
  {
   "cell_type": "code",
   "execution_count": 66,
   "metadata": {},
   "outputs": [
    {
     "data": {
      "text/plain": [
       "Index(['CNTY18', 'COLOR18', 'PREC18', 'PCTKEY18', 'CNTYKEY18', 'G18VR18',\n",
       "       'G18SSVR18', 'CD', 'SEND', 'HDIST', 'TOTPOP', 'NH_2MORE', 'NH_AMIN',\n",
       "       'NH_ASIAN', 'NH_BLACK', 'NH_NHPI', 'NH_OTHER', 'NH_WHITE', 'HISP',\n",
       "       'H_AMIN', 'H_ASIAN', 'H_BLACK', 'H_NHPI', 'H_OTHER', 'H_WHITE',\n",
       "       'H_2MORE', 'VAP', 'HVAP', 'WVAP', 'BVAP', 'AMINVAP', 'ASIANVAP',\n",
       "       'NHPIVAP', 'OTHERVAP', '2MOREVAP', 'AGR18D', 'AGR18O', 'AGR18R',\n",
       "       'ATG18D', 'ATG18O', 'ATG18R', 'COM18D', 'COM18O', 'COM18R', 'GOV18D',\n",
       "       'GOV18O', 'GOV18R', 'LAN18D', 'LAN18O', 'LAN18R', 'LTG18D', 'LTG18O',\n",
       "       'LTG18R', 'PRE16D', 'PRE16O', 'PRE16R', 'PRE20D', 'PRE20O', 'PRE20R',\n",
       "       'RRC16D', 'RRC16O', 'RRC16R', 'RRC18D', 'RRC18O', 'RRC18R', 'RRC20D',\n",
       "       'RRC20O', 'RRC20R', 'SCC16D', 'SCC16O', 'SCC16R', 'SCC18D', 'SCC18O',\n",
       "       'SCC18R', 'SCC20D', 'SCC20R', 'SSC16D', 'SSC16O', 'SSC16R', 'SSC18D',\n",
       "       'SSC18R', 'SSC20D', 'SSC20O', 'SSC20R', 'USS18D', 'USS18O', 'USS18R',\n",
       "       'USS20D', 'USS20O', 'USS20R', 'geometry'],\n",
       "      dtype='object')"
      ]
     },
     "execution_count": 66,
     "metadata": {},
     "output_type": "execute_result"
    }
   ],
   "source": [
    "election_df.columns"
   ]
  },
  {
   "cell_type": "code",
   "execution_count": 67,
   "metadata": {},
   "outputs": [],
   "source": [
    "import os\n",
    "\n",
    "# store the result in directory \"tx\"\n",
    "directory = \"./{}\".format(state_ab)\n",
    "if not os.path.exists(directory):\n",
    "    os.makedirs(directory)\n",
    "\n",
    "shapefile_path = \"./{}/{}.shp\".format(state_ab, state_ab)\n",
    "geojson_path = './{}/{}.geojson'.format(state_ab, state_ab)\n",
    "json_path = \"./{}.json\".format(state_ab, state_ab)\n",
    "\n",
    "# Check if the shapefile or geojson file already exists\n",
    "if os.path.exists(shapefile_path):\n",
    "    os.remove(shapefile_path)\n",
    "if os.path.exists(geojson_path):\n",
    "    os.remove(geojson_path)\n",
    "\n",
    "election_df.to_file(shapefile_path)\n",
    "election_df.to_file(geojson_path, driver='GeoJSON')\n",
    "\n",
    "# Only do once to build json and read from file when generating ensembles\n",
    "graph = Graph.from_file(shapefile_path, ignore_errors=True)\n",
    "graph.to_json(json_path)"
   ]
  },
  {
   "cell_type": "code",
   "execution_count": 68,
   "metadata": {},
   "outputs": [
    {
     "data": {
      "text/plain": [
       "<Axes: >"
      ]
     },
     "execution_count": 68,
     "metadata": {},
     "output_type": "execute_result"
    },
    {
     "data": {
      "image/png": "[encoded data removed]",
      "text/plain": [
       "<Figure size 640x480 with 1 Axes>"
      ]
     },
     "metadata": {},
     "output_type": "display_data"
    }
   ],
   "source": [
    "shapefile_path = \"./{}/{}.shp\".format(state_ab, state_ab)\n",
    "shape=gpd.read_file(shapefile_path)\n",
    "shape.plot()"
   ]
  },
  {
   "cell_type": "code",
   "execution_count": null,
   "metadata": {},
   "outputs": [],
   "source": []
  }
 ],
 "metadata": {
  "kernelspec": {
   "display_name": "gerry",
   "language": "python",
   "name": "gerry"
  },
  "language_info": {
   "codemirror_mode": {
    "name": "ipython",
    "version": 3
   },
   "file_extension": ".py",
   "mimetype": "text/x-python",
   "name": "python",
   "nbconvert_exporter": "python",
   "pygments_lexer": "ipython3",
   "version": "3.11.4"
  }
 },
 "nbformat": 4,
 "nbformat_minor": 4
}
