{
 "cells": [
  {
   "cell_type": "code",
   "execution_count": 1,
   "metadata": {},
   "outputs": [],
   "source": [
    "import pandas as pd\n",
    "import geopandas as gpd\n",
    "import maup\n",
    "import time\n",
    "from maup import smart_repair\n",
    "from gerrychain import Graph\n",
    "\n",
    "maup.progress.enabled = True"
   ]
  },
  {
   "cell_type": "code",
   "execution_count": 2,
   "metadata": {},
   "outputs": [],
   "source": [
    "import warnings\n",
    "warnings.filterwarnings(\"ignore\")"
   ]
  },
  {
   "cell_type": "code",
   "execution_count": 3,
   "metadata": {},
   "outputs": [],
   "source": [
    "# state = Texas\n",
    "state_ab = \"tx\""
   ]
  },
  {
   "cell_type": "markdown",
   "metadata": {},
   "source": [
    "## Data\n",
    "1. Download all the data in directory \"tx_data\"\n",
    "2. Extract them all"
   ]
  },
  {
   "cell_type": "code",
   "execution_count": 5,
   "metadata": {},
   "outputs": [],
   "source": [
    "data_folder = state_ab + \"_data/\"\n",
    "population1_data = \"./{}{}_pl2020_b/{}_pl2020_p1_b.shp\".format(data_folder, state_ab, state_ab)\n",
    "population2_data = \"./{}{}_pl2020_b/{}_pl2020_p2_b.shp\".format(data_folder, state_ab, state_ab)\n",
    "vap_data =  \"./{}{}_pl2020_b/{}_pl2020_p4_b.shp\".format(data_folder, state_ab, state_ab)\n",
    "vest20_data = \"./{}{}_vest_20/{}_vest_20.shp\".format(data_folder, state_ab, state_ab)\n",
    "vest18_data = \"./{}{}_vest_18/{}_vest_18.shp\".format(data_folder, state_ab, state_ab)\n",
    "vest16_data = \"./{}{}_vest_16/{}_vest_16.shp\".format(data_folder, state_ab, state_ab)\n",
    "cd_data = \"./{}{}_cong_2021/PLANC2193.shp\".format(data_folder, state_ab)\n",
    "send_data = \"./{}{}_sldu_2021/PLANS2168.shp\".format(data_folder, state_ab)\n",
    "hdist_data = \"./{}{}_sldl_2021/PLANH2316.shp\".format(data_folder, state_ab)"
   ]
  },
  {
   "cell_type": "code",
   "execution_count": 6,
   "metadata": {},
   "outputs": [],
   "source": [
    "def do_smart_repair(df):\n",
    "    # change it to the UTM it needs for smart_repair\n",
    "    df = df.to_crs(df.estimate_utm_crs())\n",
    "    df = smart_repair(df)\n",
    "    \n",
    "    # check maup doctor again to see if smart repair works\n",
    "    if maup.doctor(df) == True:\n",
    "        # change it back to this UTM for this data\n",
    "        df = df.to_crs('EPSG:4269')\n",
    "    else:\n",
    "        df = df.to_crs('EPSG:4269')\n",
    "        raise Exception('maup.doctor failed')\n",
    "    \n",
    "    return df"
   ]
  },
  {
   "cell_type": "code",
   "execution_count": 7,
   "metadata": {},
   "outputs": [],
   "source": [
    "def add_district(dist_df, dist_name, election_df, col_name):\n",
    "    election_df = election_df.to_crs('EPSG:4269')\n",
    "    dist_df = dist_df.to_crs('EPSG:4269')\n",
    "    # check if it needs to be smart_repair\n",
    "    if maup.doctor(dist_df) != True:\n",
    "        dist_df = do_smart_repair(dist_df)\n",
    "\n",
    "    election_df = gpd.GeoDataFrame(election_df, crs=\"EPSG:4269\")\n",
    "\n",
    "    # assign the pricincts\n",
    "    precincts_to_district_assignment = maup.assign(election_df.geometry, dist_df.geometry)\n",
    "    election_df[dist_name] = precincts_to_district_assignment\n",
    "    for precinct_index in range(len(election_df)):\n",
    "        election_df.at[precinct_index, dist_name] = dist_df.at[election_df.at[precinct_index, dist_name], col_name]\n",
    "\n",
    "    return election_df"
   ]
  },
  {
   "cell_type": "code",
   "execution_count": 8,
   "metadata": {},
   "outputs": [],
   "source": [
    "def rename(original, year):\n",
    "    party = original[6]\n",
    "    if party == 'R' or party == 'D':\n",
    "        return original[3:6] + year + original[6]\n",
    "    else:\n",
    "        return original[3:6] + year + 'O'"
   ]
  },
  {
   "cell_type": "code",
   "execution_count": 9,
   "metadata": {},
   "outputs": [],
   "source": [
    "pop_col = ['TOTPOP', 'HISP', 'NH_WHITE', 'NH_BLACK', 'NH_AMIN', 'NH_ASIAN', 'NH_NHPI', 'NH_OTHER', 'NH_2MORE', 'H_WHITE', 'H_BLACK', 'H_AMIN', 'H_ASIAN', 'H_NHPI', 'H_OTHER', 'H_2MORE', 'VAP', 'HVAP', 'WVAP', 'BVAP', 'AMINVAP', 'ASIANVAP', 'NHPIVAP', 'OTHERVAP', '2MOREVAP']"
   ]
  },
  {
   "cell_type": "code",
   "execution_count": 10,
   "metadata": {},
   "outputs": [],
   "source": [
    "def check_population(population, df):\n",
    "    pop_check = pd.DataFrame({\n",
    "        'pop_col': pop_col,\n",
    "        'population_df': population[pop_col].sum(), \n",
    "        'vest_base': df[pop_col].sum(),\n",
    "        'equal': [x == y for x, y in zip(population[pop_col].sum(), df[pop_col].sum())]\n",
    "    })\n",
    "    if pop_check['equal'].mean() < 1:\n",
    "        print(pop_check)\n",
    "        raise Exception(\"population doesn't agree\")\n",
    "\n",
    "    else:\n",
    "        print(\"population agrees\")"
   ]
  },
  {
   "cell_type": "code",
   "execution_count": 11,
   "metadata": {},
   "outputs": [],
   "source": [
    "def add_vest(vest, df, year, population, start_col):\n",
    "    df = df.to_crs('EPSG:4269')\n",
    "    vest = vest.to_crs('EPSG:4269')\n",
    "     # check if it needs to be smart_repair\n",
    "    if maup.doctor(vest) != True:\n",
    "        vest = do_smart_repair(vest)\n",
    "    \n",
    "    # rename the columns\n",
    "    original_col = vest.columns[start_col:-1]\n",
    "    new_col = [rename(i, year) for i in original_col]\n",
    "    rename_dict = dict(zip(original_col, new_col))\n",
    "    vest = vest.rename(columns=rename_dict)\n",
    "    vest = vest.groupby(level=0, axis=1).sum() # combine all the other party's vote into columns with sufix \"O\"\n",
    "    col_name = list(set(new_col))\n",
    "    col_name.sort()\n",
    "    \n",
    "    # make the blocks from precincts by weight\n",
    "    vest = gpd.GeoDataFrame(vest, crs=\"EPSG:4269\")\n",
    "    election_in_block = population[[\"VAP\", 'geometry']] # population_df is in block scale\n",
    "    blocks_to_precincts_assignment = maup.assign(election_in_block.geometry, vest.geometry)\n",
    "    weights = election_in_block[\"VAP\"] / blocks_to_precincts_assignment.map(election_in_block[\"VAP\"].groupby(blocks_to_precincts_assignment).sum())\n",
    "    weights = weights.fillna(0)\n",
    "    prorated = maup.prorate(blocks_to_precincts_assignment, vest[col_name], weights)\n",
    "    election_in_block[col_name] = prorated\n",
    "    \n",
    "    # assign blocks to precincts\n",
    "    election_in_block = gpd.GeoDataFrame(election_in_block, crs=\"EPSG:4269\")\n",
    "    df = gpd.GeoDataFrame(df, crs=\"EPSG:4269\")\n",
    "    block_to_pricinct_assginment = maup.assign(election_in_block.geometry, df.geometry)\n",
    "    df[col_name] = election_in_block[col_name].groupby(block_to_pricinct_assginment).sum()\n",
    "    df = df.groupby(level=0, axis=1).sum()\n",
    "    df = gpd.GeoDataFrame(df, crs = \"EPSG:4269\")\n",
    "    # check if population agrees\n",
    "    check_population(population, df)\n",
    "    \n",
    "    return df"
   ]
  },
  {
   "cell_type": "markdown",
   "metadata": {},
   "source": [
    "### Read the census data"
   ]
  },
  {
   "cell_type": "code",
   "execution_count": 13,
   "metadata": {},
   "outputs": [],
   "source": [
    "population1_df = gpd.read_file(population1_data)\n",
    "population2_df = gpd.read_file(population2_data)\n",
    "vap_df = gpd.read_file(vap_data)"
   ]
  },
  {
   "cell_type": "code",
   "execution_count": 14,
   "metadata": {},
   "outputs": [],
   "source": [
    "population2_df = population2_df.drop(columns=['SUMLEV', 'LOGRECNO', 'GEOID', 'COUNTY', 'geometry'])\n",
    "vap_df = vap_df.drop(columns=['SUMLEV', 'LOGRECNO', 'GEOID', 'COUNTY', 'geometry'])"
   ]
  },
  {
   "cell_type": "code",
   "execution_count": 15,
   "metadata": {},
   "outputs": [],
   "source": [
    "population_df = pd.merge(population1_df, population2_df, on='GEOID20')\n",
    "population_df = pd.merge(population_df, vap_df, on='GEOID20')"
   ]
  },
  {
   "cell_type": "code",
   "execution_count": 16,
   "metadata": {},
   "outputs": [
    {
     "name": "stderr",
     "output_type": "stream",
     "text": [
      "100%|█████████████████████████████████| 668757/668757 [05:06<00:00, 2183.76it/s]\n"
     ]
    },
    {
     "data": {
      "text/plain": [
       "True"
      ]
     },
     "execution_count": 16,
     "metadata": {},
     "output_type": "execute_result"
    }
   ],
   "source": [
    "maup.doctor(population_df)"
   ]
  },
  {
   "cell_type": "code",
   "execution_count": 17,
   "metadata": {},
   "outputs": [],
   "source": [
    "population_df['H_WHITE'] = population_df.apply(lambda t: t['P0010003'] - t['P0020005'], 1)\n",
    "population_df['H_BLACK'] = population_df.apply(lambda t: t['P0010004'] - t['P0020006'], 1)\n",
    "population_df['H_AMIN'] = population_df.apply(lambda t: t['P0010005'] - t['P0020007'], 1)\n",
    "population_df['H_ASIAN'] = population_df.apply(lambda t: t['P0010006'] - t['P0020008'], 1)\n",
    "population_df['H_NHPI'] = population_df.apply(lambda t: t['P0010007'] - t['P0020009'], 1)\n",
    "population_df['H_OTHER'] = population_df.apply(lambda t: t['P0010008'] - t['P0020010'], 1)\n",
    "population_df['H_2MORE'] = population_df.apply(lambda t: t['P0010009'] - t['P0020011'], 1)"
   ]
  },
  {
   "cell_type": "code",
   "execution_count": 18,
   "metadata": {},
   "outputs": [],
   "source": [
    "rename_dict = {'P0020001': 'TOTPOP', 'P0020002': 'HISP', 'P0020005': 'NH_WHITE', 'P0020006': 'NH_BLACK', 'P0020007': 'NH_AMIN',\n",
    "                    'P0020008': 'NH_ASIAN', 'P0020009': 'NH_NHPI', 'P0020010': 'NH_OTHER', 'P0020011': 'NH_2MORE',\n",
    "                    'P0040001': 'VAP', 'P0040002': 'HVAP', 'P0040005': 'WVAP', 'P0040006': 'BVAP', 'P0040007': 'AMINVAP',\n",
    "                                        'P0040008': 'ASIANVAP', 'P0040009': 'NHPIVAP', 'P0040010': 'OTHERVAP', 'P0040011': '2MOREVAP'}"
   ]
  },
  {
   "cell_type": "code",
   "execution_count": 19,
   "metadata": {},
   "outputs": [],
   "source": [
    "population_df.rename(columns=rename_dict, inplace = True)"
   ]
  },
  {
   "cell_type": "markdown",
   "metadata": {},
   "source": [
    "## Read the vest 20 data\n",
    "\n",
    "Now using it as a \"base pricinct\""
   ]
  },
  {
   "cell_type": "code",
   "execution_count": 21,
   "metadata": {},
   "outputs": [],
   "source": [
    "def add_vest_base(vest, start_col, year):\n",
    "    original_col = vest.columns[start_col:-1]\n",
    "    new_col = [rename(i, year) for i in original_col]\n",
    "    rename_dict = dict(zip(original_col, new_col))\n",
    "    vest = vest.rename(columns=rename_dict)\n",
    "    vest = vest.groupby(level=0, axis=1).sum()\n",
    "    vest = gpd.GeoDataFrame(vest, crs=\"EPSG:4269\")\n",
    "    \n",
    "    return vest"
   ]
  },
  {
   "cell_type": "markdown",
   "metadata": {},
   "source": [
    "## Check if vest20 can be used as base"
   ]
  },
  {
   "cell_type": "code",
   "execution_count": 23,
   "metadata": {},
   "outputs": [
    {
     "name": "stderr",
     "output_type": "stream",
     "text": [
      "100%|██████████████████████████████████████| 9014/9014 [00:10<00:00, 836.40it/s]\n"
     ]
    },
    {
     "name": "stdout",
     "output_type": "stream",
     "text": [
      "There are 4 holes.\n",
      "There are some invalid geometries.\n",
      "Snapping all geometries to a grid with precision 10^( -4 ) to avoid GEOS errors.\n",
      "Identifying overlaps...\n"
     ]
    },
    {
     "name": "stderr",
     "output_type": "stream",
     "text": [
      "100%|█████████████████████████████████████| 9073/9073 [00:03<00:00, 2835.87it/s]\n"
     ]
    },
    {
     "name": "stdout",
     "output_type": "stream",
     "text": [
      "Resolving overlaps...\n",
      "Filling gaps...\n"
     ]
    },
    {
     "name": "stderr",
     "output_type": "stream",
     "text": [
      "Gaps to simplify: 100%|███████████████████████████| 4/4 [00:06<00:00,  1.64s/it]\n",
      "Gaps to fill: 0it [00:00, ?it/s]\n",
      "100%|█████████████████████████████████████| 9014/9014 [00:08<00:00, 1038.02it/s]\n"
     ]
    }
   ],
   "source": [
    "vest20 = gpd.read_file(vest20_data)\n",
    "if maup.doctor(vest20) != True:\n",
    "    vest20 = do_smart_repair(vest20)"
   ]
  },
  {
   "cell_type": "code",
   "execution_count": 24,
   "metadata": {},
   "outputs": [
    {
     "data": {
      "text/plain": [
       "Index(['CNTY', 'COLOR', 'PREC', 'PCTKEY', 'CNTYKEY', 'G20VR', 'G20SSVR',\n",
       "       'G20PRERTRU', 'G20PREDBID', 'G20PRELJOR', 'G20PREGHAW', 'G20PREOWRI',\n",
       "       'G20USSRCOR', 'G20USSDHEG', 'G20USSLMCK', 'G20USSGCOL', 'G20RRCRWRI',\n",
       "       'G20RRCDCAS', 'G20RRCLSTE', 'G20RRCGGRU', 'G20SSCRHEC', 'G20SSCDMEA',\n",
       "       'G20SSCLASH', 'G20SSCRBLA', 'G20SSCDCHE', 'G20SSCRBOY', 'G20SSCDWIL',\n",
       "       'G20SSCLSTR', 'G20SSCRBUS', 'G20SSCDTRI', 'G20SSCLOXF', 'G20SCCRRIC',\n",
       "       'G20SCCDFRI', 'G20SCCRYEA', 'G20SCCDCLI', 'G20SCCRNEW', 'G20SCCDBIR',\n",
       "       'geometry'],\n",
       "      dtype='object')"
      ]
     },
     "execution_count": 24,
     "metadata": {},
     "output_type": "execute_result"
    }
   ],
   "source": [
    "vest20.columns"
   ]
  },
  {
   "cell_type": "markdown",
   "metadata": {},
   "source": [
    "## Fields\n",
    "G20VR - Voter registration\n",
    "G20SSVR - Spanish surname voter registration"
   ]
  },
  {
   "cell_type": "code",
   "execution_count": 26,
   "metadata": {},
   "outputs": [],
   "source": [
    "start_col = 7\n",
    "vest_base_data = vest20\n",
    "year = '20'"
   ]
  },
  {
   "cell_type": "code",
   "execution_count": 27,
   "metadata": {},
   "outputs": [],
   "source": [
    "vest_base = add_vest_base(vest_base_data, start_col, year)"
   ]
  },
  {
   "cell_type": "code",
   "execution_count": 28,
   "metadata": {},
   "outputs": [
    {
     "name": "stderr",
     "output_type": "stream",
     "text": [
      "100%|██████████████████████████████████████| 9014/9014 [00:27<00:00, 326.22it/s]\n",
      "100%|██████████████████████████████████████| 9014/9014 [01:22<00:00, 109.34it/s]\n"
     ]
    }
   ],
   "source": [
    "# vap and population have the same GEOID20\n",
    "blocks_to_precincts_assignment = maup.assign(population_df.geometry, vest_base.geometry)"
   ]
  },
  {
   "cell_type": "code",
   "execution_count": 29,
   "metadata": {},
   "outputs": [],
   "source": [
    "vest_base[pop_col] = population_df[pop_col].groupby(blocks_to_precincts_assignment).sum()"
   ]
  },
  {
   "cell_type": "code",
   "execution_count": 30,
   "metadata": {},
   "outputs": [],
   "source": [
    "election_df = gpd.GeoDataFrame(vest_base, crs=\"EPSG:4269\")"
   ]
  },
  {
   "cell_type": "code",
   "execution_count": 31,
   "metadata": {},
   "outputs": [
    {
     "data": {
      "text/plain": [
       "Index(['CNTY', 'CNTYKEY', 'COLOR', 'G20SSVR', 'G20VR', 'PCTKEY', 'PRE20D',\n",
       "       'PRE20O', 'PRE20R', 'PREC', 'RRC20D', 'RRC20O', 'RRC20R', 'SCC20D',\n",
       "       'SCC20R', 'SSC20D', 'SSC20O', 'SSC20R', 'USS20D', 'USS20O', 'USS20R',\n",
       "       'geometry', 'TOTPOP', 'HISP', 'NH_WHITE', 'NH_BLACK', 'NH_AMIN',\n",
       "       'NH_ASIAN', 'NH_NHPI', 'NH_OTHER', 'NH_2MORE', 'H_WHITE', 'H_BLACK',\n",
       "       'H_AMIN', 'H_ASIAN', 'H_NHPI', 'H_OTHER', 'H_2MORE', 'VAP', 'HVAP',\n",
       "       'WVAP', 'BVAP', 'AMINVAP', 'ASIANVAP', 'NHPIVAP', 'OTHERVAP',\n",
       "       '2MOREVAP'],\n",
       "      dtype='object')"
      ]
     },
     "execution_count": 31,
     "metadata": {},
     "output_type": "execute_result"
    }
   ],
   "source": [
    "election_df.columns"
   ]
  },
  {
   "cell_type": "markdown",
   "metadata": {},
   "source": [
    "## Check if population agrees"
   ]
  },
  {
   "cell_type": "code",
   "execution_count": 33,
   "metadata": {},
   "outputs": [
    {
     "data": {
      "text/html": [
       "<div>\n",
       "<style scoped>\n",
       "    .dataframe tbody tr th:only-of-type {\n",
       "        vertical-align: middle;\n",
       "    }\n",
       "\n",
       "    .dataframe tbody tr th {\n",
       "        vertical-align: top;\n",
       "    }\n",
       "\n",
       "    .dataframe thead th {\n",
       "        text-align: right;\n",
       "    }\n",
       "</style>\n",
       "<table border=\"1\" class=\"dataframe\">\n",
       "  <thead>\n",
       "    <tr style=\"text-align: right;\">\n",
       "      <th></th>\n",
       "      <th>pop_col</th>\n",
       "      <th>population_df</th>\n",
       "      <th>vest_base</th>\n",
       "      <th>equal</th>\n",
       "    </tr>\n",
       "  </thead>\n",
       "  <tbody>\n",
       "    <tr>\n",
       "      <th>TOTPOP</th>\n",
       "      <td>TOTPOP</td>\n",
       "      <td>29145505</td>\n",
       "      <td>29145505.0</td>\n",
       "      <td>True</td>\n",
       "    </tr>\n",
       "    <tr>\n",
       "      <th>HISP</th>\n",
       "      <td>HISP</td>\n",
       "      <td>11441717</td>\n",
       "      <td>11441717.0</td>\n",
       "      <td>True</td>\n",
       "    </tr>\n",
       "    <tr>\n",
       "      <th>NH_WHITE</th>\n",
       "      <td>NH_WHITE</td>\n",
       "      <td>11584597</td>\n",
       "      <td>11584597.0</td>\n",
       "      <td>True</td>\n",
       "    </tr>\n",
       "    <tr>\n",
       "      <th>NH_BLACK</th>\n",
       "      <td>NH_BLACK</td>\n",
       "      <td>3444712</td>\n",
       "      <td>3444712.0</td>\n",
       "      <td>True</td>\n",
       "    </tr>\n",
       "    <tr>\n",
       "      <th>NH_AMIN</th>\n",
       "      <td>NH_AMIN</td>\n",
       "      <td>85425</td>\n",
       "      <td>85425.0</td>\n",
       "      <td>True</td>\n",
       "    </tr>\n",
       "    <tr>\n",
       "      <th>NH_ASIAN</th>\n",
       "      <td>NH_ASIAN</td>\n",
       "      <td>1561518</td>\n",
       "      <td>1561518.0</td>\n",
       "      <td>True</td>\n",
       "    </tr>\n",
       "    <tr>\n",
       "      <th>NH_NHPI</th>\n",
       "      <td>NH_NHPI</td>\n",
       "      <td>27857</td>\n",
       "      <td>27857.0</td>\n",
       "      <td>True</td>\n",
       "    </tr>\n",
       "    <tr>\n",
       "      <th>NH_OTHER</th>\n",
       "      <td>NH_OTHER</td>\n",
       "      <td>113584</td>\n",
       "      <td>113584.0</td>\n",
       "      <td>True</td>\n",
       "    </tr>\n",
       "    <tr>\n",
       "      <th>NH_2MORE</th>\n",
       "      <td>NH_2MORE</td>\n",
       "      <td>886095</td>\n",
       "      <td>886095.0</td>\n",
       "      <td>True</td>\n",
       "    </tr>\n",
       "    <tr>\n",
       "      <th>H_WHITE</th>\n",
       "      <td>H_WHITE</td>\n",
       "      <td>3024768</td>\n",
       "      <td>3024768.0</td>\n",
       "      <td>True</td>\n",
       "    </tr>\n",
       "    <tr>\n",
       "      <th>H_BLACK</th>\n",
       "      <td>H_BLACK</td>\n",
       "      <td>108285</td>\n",
       "      <td>108285.0</td>\n",
       "      <td>True</td>\n",
       "    </tr>\n",
       "    <tr>\n",
       "      <th>H_AMIN</th>\n",
       "      <td>H_AMIN</td>\n",
       "      <td>193523</td>\n",
       "      <td>193523.0</td>\n",
       "      <td>True</td>\n",
       "    </tr>\n",
       "    <tr>\n",
       "      <th>H_ASIAN</th>\n",
       "      <td>H_ASIAN</td>\n",
       "      <td>23962</td>\n",
       "      <td>23962.0</td>\n",
       "      <td>True</td>\n",
       "    </tr>\n",
       "    <tr>\n",
       "      <th>H_NHPI</th>\n",
       "      <td>H_NHPI</td>\n",
       "      <td>5754</td>\n",
       "      <td>5754.0</td>\n",
       "      <td>True</td>\n",
       "    </tr>\n",
       "    <tr>\n",
       "      <th>H_OTHER</th>\n",
       "      <td>H_OTHER</td>\n",
       "      <td>3837782</td>\n",
       "      <td>3837782.0</td>\n",
       "      <td>True</td>\n",
       "    </tr>\n",
       "    <tr>\n",
       "      <th>H_2MORE</th>\n",
       "      <td>H_2MORE</td>\n",
       "      <td>4247643</td>\n",
       "      <td>4247643.0</td>\n",
       "      <td>True</td>\n",
       "    </tr>\n",
       "    <tr>\n",
       "      <th>VAP</th>\n",
       "      <td>VAP</td>\n",
       "      <td>21866700</td>\n",
       "      <td>21866700.0</td>\n",
       "      <td>True</td>\n",
       "    </tr>\n",
       "    <tr>\n",
       "      <th>HVAP</th>\n",
       "      <td>HVAP</td>\n",
       "      <td>7907319</td>\n",
       "      <td>7907319.0</td>\n",
       "      <td>True</td>\n",
       "    </tr>\n",
       "    <tr>\n",
       "      <th>WVAP</th>\n",
       "      <td>WVAP</td>\n",
       "      <td>9437993</td>\n",
       "      <td>9437993.0</td>\n",
       "      <td>True</td>\n",
       "    </tr>\n",
       "    <tr>\n",
       "      <th>BVAP</th>\n",
       "      <td>BVAP</td>\n",
       "      <td>2575257</td>\n",
       "      <td>2575257.0</td>\n",
       "      <td>True</td>\n",
       "    </tr>\n",
       "    <tr>\n",
       "      <th>AMINVAP</th>\n",
       "      <td>AMINVAP</td>\n",
       "      <td>67248</td>\n",
       "      <td>67248.0</td>\n",
       "      <td>True</td>\n",
       "    </tr>\n",
       "    <tr>\n",
       "      <th>ASIANVAP</th>\n",
       "      <td>ASIANVAP</td>\n",
       "      <td>1205578</td>\n",
       "      <td>1205578.0</td>\n",
       "      <td>True</td>\n",
       "    </tr>\n",
       "    <tr>\n",
       "      <th>NHPIVAP</th>\n",
       "      <td>NHPIVAP</td>\n",
       "      <td>20144</td>\n",
       "      <td>20144.0</td>\n",
       "      <td>True</td>\n",
       "    </tr>\n",
       "    <tr>\n",
       "      <th>OTHERVAP</th>\n",
       "      <td>OTHERVAP</td>\n",
       "      <td>77691</td>\n",
       "      <td>77691.0</td>\n",
       "      <td>True</td>\n",
       "    </tr>\n",
       "    <tr>\n",
       "      <th>2MOREVAP</th>\n",
       "      <td>2MOREVAP</td>\n",
       "      <td>575470</td>\n",
       "      <td>575470.0</td>\n",
       "      <td>True</td>\n",
       "    </tr>\n",
       "  </tbody>\n",
       "</table>\n",
       "</div>"
      ],
      "text/plain": [
       "           pop_col  population_df   vest_base  equal\n",
       "TOTPOP      TOTPOP       29145505  29145505.0   True\n",
       "HISP          HISP       11441717  11441717.0   True\n",
       "NH_WHITE  NH_WHITE       11584597  11584597.0   True\n",
       "NH_BLACK  NH_BLACK        3444712   3444712.0   True\n",
       "NH_AMIN    NH_AMIN          85425     85425.0   True\n",
       "NH_ASIAN  NH_ASIAN        1561518   1561518.0   True\n",
       "NH_NHPI    NH_NHPI          27857     27857.0   True\n",
       "NH_OTHER  NH_OTHER         113584    113584.0   True\n",
       "NH_2MORE  NH_2MORE         886095    886095.0   True\n",
       "H_WHITE    H_WHITE        3024768   3024768.0   True\n",
       "H_BLACK    H_BLACK         108285    108285.0   True\n",
       "H_AMIN      H_AMIN         193523    193523.0   True\n",
       "H_ASIAN    H_ASIAN          23962     23962.0   True\n",
       "H_NHPI      H_NHPI           5754      5754.0   True\n",
       "H_OTHER    H_OTHER        3837782   3837782.0   True\n",
       "H_2MORE    H_2MORE        4247643   4247643.0   True\n",
       "VAP            VAP       21866700  21866700.0   True\n",
       "HVAP          HVAP        7907319   7907319.0   True\n",
       "WVAP          WVAP        9437993   9437993.0   True\n",
       "BVAP          BVAP        2575257   2575257.0   True\n",
       "AMINVAP    AMINVAP          67248     67248.0   True\n",
       "ASIANVAP  ASIANVAP        1205578   1205578.0   True\n",
       "NHPIVAP    NHPIVAP          20144     20144.0   True\n",
       "OTHERVAP  OTHERVAP          77691     77691.0   True\n",
       "2MOREVAP  2MOREVAP         575470    575470.0   True"
      ]
     },
     "execution_count": 33,
     "metadata": {},
     "output_type": "execute_result"
    }
   ],
   "source": [
    "pd.DataFrame({\n",
    "    'pop_col': pop_col,\n",
    "    'population_df': population_df[pop_col].sum(), \n",
    "    'vest_base': vest_base[pop_col].sum(),\n",
    "    'equal': [x == y for x, y in zip(population_df[pop_col].sum(), vest_base[pop_col].sum())]\n",
    "})"
   ]
  },
  {
   "cell_type": "markdown",
   "metadata": {},
   "source": [
    "## Add more vest data"
   ]
  },
  {
   "cell_type": "code",
   "execution_count": 35,
   "metadata": {},
   "outputs": [],
   "source": [
    "vest18 = gpd.read_file(vest18_data)\n",
    "vest16 = gpd.read_file(vest16_data)"
   ]
  },
  {
   "cell_type": "code",
   "execution_count": 36,
   "metadata": {},
   "outputs": [
    {
     "data": {
      "text/plain": [
       "Index(['CNTY', 'COLOR', 'PREC', 'PCTKEY', 'CNTYKEY', 'G18VR', 'G18SSVR',\n",
       "       'G18USSRCRU', 'G18USSDORO', 'G18USSLDIK', 'G18GOVRABB', 'G18GOVDVAL',\n",
       "       'G18GOVLTIP', 'G18LTGRPAT', 'G18LTGDCOL', 'G18LTGLMCK', 'G18ATGRPAX',\n",
       "       'G18ATGDNEL', 'G18ATGLHAR', 'G18COMRHEG', 'G18COMDCHE', 'G18COMLSAN',\n",
       "       'G18LANRBUS', 'G18LANDSUA', 'G18LANLPIN', 'G18AGRRMIL', 'G18AGRDOLS',\n",
       "       'G18AGRLCAR', 'G18RRCRCRA', 'G18RRCDMCA', 'G18RRCLWRI', 'G18SSCRBLA',\n",
       "       'G18SSCDKIR', 'G18SSCRDEV', 'G18SSCDSAN', 'G18SSCRBRO', 'G18SSCDCHE',\n",
       "       'G18SCCRKEL', 'G18SCCDJAC', 'G18SCCLSTR', 'G18SCCRHER', 'G18SCCDFRA',\n",
       "       'G18SCCRSLA', 'G18SCCLASH', 'geometry'],\n",
       "      dtype='object')"
      ]
     },
     "execution_count": 36,
     "metadata": {},
     "output_type": "execute_result"
    }
   ],
   "source": [
    "vest18.columns"
   ]
  },
  {
   "cell_type": "code",
   "execution_count": 37,
   "metadata": {},
   "outputs": [
    {
     "data": {
      "text/plain": [
       "Index(['CNTY', 'COLOR', 'PREC', 'PCTKEY', 'CNTYKEY', 'G16VR', 'G16SSVR',\n",
       "       'G16PRERTRU', 'G16PREDCLI', 'G16PRELJOH', 'G16PREGSTE', 'G16PREOWRI',\n",
       "       'G16RRCRCHR', 'G16RRCDYAR', 'G16RRCLMIL', 'G16RRCGSAL', 'G16SSCRLEH',\n",
       "       'G16SSCDWES', 'G16SSCLGLA', 'G16SSCGMUN', 'G16SSCRGRE', 'G16SSCDGAR',\n",
       "       'G16SSCLOXF', 'G16SSCGWAT', 'G16SSCRGUZ', 'G16SSCDROB', 'G16SSCLFUL',\n",
       "       'G16SSCGCHI', 'G16SCCRKEE', 'G16SCCDMEY', 'G16SCCLASH', 'G16SCCGREP',\n",
       "       'G16SCCRWAL', 'G16SCCDJOH', 'G16SCCLSTR', 'G16SCCGSAN', 'G16SCCRKEA',\n",
       "       'G16SCCDBUR', 'G16SCCLBEN', 'geometry'],\n",
       "      dtype='object')"
      ]
     },
     "execution_count": 37,
     "metadata": {},
     "output_type": "execute_result"
    }
   ],
   "source": [
    "vest16.columns"
   ]
  },
  {
   "cell_type": "code",
   "execution_count": 38,
   "metadata": {},
   "outputs": [
    {
     "name": "stderr",
     "output_type": "stream",
     "text": [
      "100%|██████████████████████████████████████| 8936/8936 [00:13<00:00, 645.56it/s]\n"
     ]
    },
    {
     "name": "stdout",
     "output_type": "stream",
     "text": [
      "There are 2 overlaps.\n",
      "There are 2 holes.\n",
      "There are some invalid geometries.\n",
      "Snapping all geometries to a grid with precision 10^( -4 ) to avoid GEOS errors.\n",
      "Identifying overlaps...\n"
     ]
    },
    {
     "name": "stderr",
     "output_type": "stream",
     "text": [
      "100%|█████████████████████████████████████| 8989/8989 [00:02<00:00, 3524.10it/s]\n"
     ]
    },
    {
     "name": "stdout",
     "output_type": "stream",
     "text": [
      "Resolving overlaps...\n",
      "Assigning order 2 pieces...\n",
      "Filling gaps...\n"
     ]
    },
    {
     "name": "stderr",
     "output_type": "stream",
     "text": [
      "Gaps to simplify: 100%|███████████████████████████| 2/2 [00:03<00:00,  1.56s/it]\n",
      "Gaps to fill: 0it [00:00, ?it/s]\n",
      "100%|██████████████████████████████████████| 8936/8936 [00:17<00:00, 514.57it/s]\n",
      "100%|██████████████████████████████████████| 8936/8936 [00:23<00:00, 379.90it/s]\n",
      "100%|██████████████████████████████████████| 8936/8936 [01:26<00:00, 103.71it/s]\n",
      "100%|██████████████████████████████████████| 9014/9014 [00:20<00:00, 430.09it/s]\n",
      "100%|██████████████████████████████████████| 9014/9014 [01:25<00:00, 105.41it/s]\n"
     ]
    },
    {
     "name": "stdout",
     "output_type": "stream",
     "text": [
      "population agrees\n"
     ]
    }
   ],
   "source": [
    "# check the result here\n",
    "election_df = add_vest(vest18, election_df, '18', population_df, start_col)"
   ]
  },
  {
   "cell_type": "code",
   "execution_count": 39,
   "metadata": {},
   "outputs": [
    {
     "data": {
      "text/plain": [
       "Index(['2MOREVAP', 'AGR18D', 'AGR18O', 'AGR18R', 'AMINVAP', 'ASIANVAP',\n",
       "       'ATG18D', 'ATG18O', 'ATG18R', 'BVAP', 'CNTY', 'CNTYKEY', 'COLOR',\n",
       "       'COM18D', 'COM18O', 'COM18R', 'G20SSVR', 'G20VR', 'GOV18D', 'GOV18O',\n",
       "       'GOV18R', 'HISP', 'HVAP', 'H_2MORE', 'H_AMIN', 'H_ASIAN', 'H_BLACK',\n",
       "       'H_NHPI', 'H_OTHER', 'H_WHITE', 'LAN18D', 'LAN18O', 'LAN18R', 'LTG18D',\n",
       "       'LTG18O', 'LTG18R', 'NHPIVAP', 'NH_2MORE', 'NH_AMIN', 'NH_ASIAN',\n",
       "       'NH_BLACK', 'NH_NHPI', 'NH_OTHER', 'NH_WHITE', 'OTHERVAP', 'PCTKEY',\n",
       "       'PRE20D', 'PRE20O', 'PRE20R', 'PREC', 'RRC18D', 'RRC18O', 'RRC18R',\n",
       "       'RRC20D', 'RRC20O', 'RRC20R', 'SCC18D', 'SCC18O', 'SCC18R', 'SCC20D',\n",
       "       'SCC20R', 'SSC18D', 'SSC18R', 'SSC20D', 'SSC20O', 'SSC20R', 'TOTPOP',\n",
       "       'USS18D', 'USS18O', 'USS18R', 'USS20D', 'USS20O', 'USS20R', 'VAP',\n",
       "       'WVAP', 'geometry'],\n",
       "      dtype='object')"
      ]
     },
     "execution_count": 39,
     "metadata": {},
     "output_type": "execute_result"
    }
   ],
   "source": [
    "election_df.columns"
   ]
  },
  {
   "cell_type": "code",
   "execution_count": 40,
   "metadata": {},
   "outputs": [
    {
     "name": "stderr",
     "output_type": "stream",
     "text": [
      "100%|██████████████████████████████████████| 8832/8832 [00:10<00:00, 881.42it/s]\n"
     ]
    },
    {
     "name": "stdout",
     "output_type": "stream",
     "text": [
      "There are some invalid geometries.\n",
      "Snapping all geometries to a grid with precision 10^( -4 ) to avoid GEOS errors.\n",
      "Identifying overlaps...\n"
     ]
    },
    {
     "name": "stderr",
     "output_type": "stream",
     "text": [
      "100%|█████████████████████████████████████| 8883/8883 [00:02<00:00, 3220.29it/s]\n"
     ]
    },
    {
     "name": "stdout",
     "output_type": "stream",
     "text": [
      "Resolving overlaps...\n",
      "Filling gaps...\n"
     ]
    },
    {
     "name": "stderr",
     "output_type": "stream",
     "text": [
      "Gaps to simplify: 0it [00:00, ?it/s]\n",
      "Gaps to fill: 0it [00:00, ?it/s]\n",
      "100%|█████████████████████████████████████| 8832/8832 [00:08<00:00, 1001.69it/s]\n",
      "100%|██████████████████████████████████████| 8832/8832 [00:23<00:00, 368.10it/s]\n",
      "100%|██████████████████████████████████████| 8832/8832 [01:19<00:00, 110.41it/s]\n",
      "100%|██████████████████████████████████████| 9014/9014 [00:23<00:00, 383.95it/s]\n",
      "100%|██████████████████████████████████████| 9014/9014 [01:22<00:00, 109.37it/s]\n"
     ]
    },
    {
     "name": "stdout",
     "output_type": "stream",
     "text": [
      "population agrees\n"
     ]
    }
   ],
   "source": [
    "election_df = add_vest(vest16, election_df, '16', population_df, start_col)"
   ]
  },
  {
   "cell_type": "markdown",
   "metadata": {},
   "source": [
    "##  Add the district data"
   ]
  },
  {
   "cell_type": "code",
   "execution_count": 42,
   "metadata": {},
   "outputs": [],
   "source": [
    "send = gpd.read_file(send_data)\n",
    "hdist = gpd.read_file(hdist_data)"
   ]
  },
  {
   "cell_type": "code",
   "execution_count": 43,
   "metadata": {},
   "outputs": [
    {
     "data": {
      "text/html": [
       "<div>\n",
       "<style scoped>\n",
       "    .dataframe tbody tr th:only-of-type {\n",
       "        vertical-align: middle;\n",
       "    }\n",
       "\n",
       "    .dataframe tbody tr th {\n",
       "        vertical-align: top;\n",
       "    }\n",
       "\n",
       "    .dataframe thead th {\n",
       "        text-align: right;\n",
       "    }\n",
       "</style>\n",
       "<table border=\"1\" class=\"dataframe\">\n",
       "  <thead>\n",
       "    <tr style=\"text-align: right;\">\n",
       "      <th></th>\n",
       "      <th>District</th>\n",
       "      <th>geometry</th>\n",
       "    </tr>\n",
       "  </thead>\n",
       "  <tbody>\n",
       "    <tr>\n",
       "      <th>0</th>\n",
       "      <td>1</td>\n",
       "      <td>POLYGON ((1473551.679 1085915.992, 1473549.573...</td>\n",
       "    </tr>\n",
       "    <tr>\n",
       "      <th>1</th>\n",
       "      <td>2</td>\n",
       "      <td>POLYGON ((1331022.808 1074894.416, 1331018.925...</td>\n",
       "    </tr>\n",
       "    <tr>\n",
       "      <th>2</th>\n",
       "      <td>3</td>\n",
       "      <td>POLYGON ((1483706.915 869096.111, 1483705.780 ...</td>\n",
       "    </tr>\n",
       "    <tr>\n",
       "      <th>3</th>\n",
       "      <td>4</td>\n",
       "      <td>POLYGON ((1507538.844 810137.108, 1505702.017 ...</td>\n",
       "    </tr>\n",
       "    <tr>\n",
       "      <th>4</th>\n",
       "      <td>5</td>\n",
       "      <td>POLYGON ((1259037.401 850451.740, 1258813.045 ...</td>\n",
       "    </tr>\n",
       "  </tbody>\n",
       "</table>\n",
       "</div>"
      ],
      "text/plain": [
       "   District                                           geometry\n",
       "0         1  POLYGON ((1473551.679 1085915.992, 1473549.573...\n",
       "1         2  POLYGON ((1331022.808 1074894.416, 1331018.925...\n",
       "2         3  POLYGON ((1483706.915 869096.111, 1483705.780 ...\n",
       "3         4  POLYGON ((1507538.844 810137.108, 1505702.017 ...\n",
       "4         5  POLYGON ((1259037.401 850451.740, 1258813.045 ..."
      ]
     },
     "execution_count": 43,
     "metadata": {},
     "output_type": "execute_result"
    }
   ],
   "source": [
    "send.head()"
   ]
  },
  {
   "cell_type": "code",
   "execution_count": 44,
   "metadata": {},
   "outputs": [
    {
     "name": "stderr",
     "output_type": "stream",
     "text": [
      "100%|███████████████████████████████████████████| 31/31 [00:00<00:00, 41.23it/s]\n",
      "100%|███████████████████████████████████████████| 31/31 [00:00<00:00, 72.88it/s]\n",
      "100%|███████████████████████████████████████████| 31/31 [00:05<00:00,  5.73it/s]\n"
     ]
    }
   ],
   "source": [
    "send = send.to_crs(\"EPSG:4269\")\n",
    "election_df = add_district(send, \"SEND\", election_df, \"District\")"
   ]
  },
  {
   "cell_type": "code",
   "execution_count": 45,
   "metadata": {},
   "outputs": [
    {
     "data": {
      "text/html": [
       "<div>\n",
       "<style scoped>\n",
       "    .dataframe tbody tr th:only-of-type {\n",
       "        vertical-align: middle;\n",
       "    }\n",
       "\n",
       "    .dataframe tbody tr th {\n",
       "        vertical-align: top;\n",
       "    }\n",
       "\n",
       "    .dataframe thead th {\n",
       "        text-align: right;\n",
       "    }\n",
       "</style>\n",
       "<table border=\"1\" class=\"dataframe\">\n",
       "  <thead>\n",
       "    <tr style=\"text-align: right;\">\n",
       "      <th></th>\n",
       "      <th>District</th>\n",
       "      <th>geometry</th>\n",
       "    </tr>\n",
       "  </thead>\n",
       "  <tbody>\n",
       "    <tr>\n",
       "      <th>0</th>\n",
       "      <td>1</td>\n",
       "      <td>POLYGON ((1494406.980 1201348.426, 1494404.818...</td>\n",
       "    </tr>\n",
       "    <tr>\n",
       "      <th>1</th>\n",
       "      <td>2</td>\n",
       "      <td>POLYGON ((1368626.668 1138307.981, 1368617.076...</td>\n",
       "    </tr>\n",
       "    <tr>\n",
       "      <th>2</th>\n",
       "      <td>3</td>\n",
       "      <td>POLYGON ((1455820.856 884283.339, 1455817.544 ...</td>\n",
       "    </tr>\n",
       "    <tr>\n",
       "      <th>3</th>\n",
       "      <td>4</td>\n",
       "      <td>POLYGON ((1366839.633 1106996.402, 1366810.030...</td>\n",
       "    </tr>\n",
       "    <tr>\n",
       "      <th>4</th>\n",
       "      <td>5</td>\n",
       "      <td>POLYGON ((1470631.844 1131634.573, 1470630.166...</td>\n",
       "    </tr>\n",
       "  </tbody>\n",
       "</table>\n",
       "</div>"
      ],
      "text/plain": [
       "   District                                           geometry\n",
       "0         1  POLYGON ((1494406.980 1201348.426, 1494404.818...\n",
       "1         2  POLYGON ((1368626.668 1138307.981, 1368617.076...\n",
       "2         3  POLYGON ((1455820.856 884283.339, 1455817.544 ...\n",
       "3         4  POLYGON ((1366839.633 1106996.402, 1366810.030...\n",
       "4         5  POLYGON ((1470631.844 1131634.573, 1470630.166..."
      ]
     },
     "execution_count": 45,
     "metadata": {},
     "output_type": "execute_result"
    }
   ],
   "source": [
    "hdist.head()"
   ]
  },
  {
   "cell_type": "code",
   "execution_count": 46,
   "metadata": {},
   "outputs": [
    {
     "name": "stderr",
     "output_type": "stream",
     "text": [
      "100%|████████████████████████████████████████| 150/150 [00:01<00:00, 134.00it/s]\n",
      "100%|████████████████████████████████████████| 150/150 [00:00<00:00, 272.52it/s]\n",
      "100%|█████████████████████████████████████████| 150/150 [00:06<00:00, 24.84it/s]\n"
     ]
    }
   ],
   "source": [
    "hdist = hdist.to_crs(\"EPSG:4269\")\n",
    "election_df = add_district(hdist, \"HDIST\", election_df, \"District\")"
   ]
  },
  {
   "cell_type": "code",
   "execution_count": 47,
   "metadata": {},
   "outputs": [
    {
     "name": "stderr",
     "output_type": "stream",
     "text": [
      "100%|███████████████████████████████████████████| 38/38 [00:00<00:00, 57.03it/s]\n"
     ]
    }
   ],
   "source": [
    "cong_df = gpd.read_file(cd_data)\n",
    "if maup.doctor(cong_df) != True:\n",
    "    cong_df = do_smart_repair(cong_df)"
   ]
  },
  {
   "cell_type": "code",
   "execution_count": 48,
   "metadata": {},
   "outputs": [
    {
     "data": {
      "text/html": [
       "<div>\n",
       "<style scoped>\n",
       "    .dataframe tbody tr th:only-of-type {\n",
       "        vertical-align: middle;\n",
       "    }\n",
       "\n",
       "    .dataframe tbody tr th {\n",
       "        vertical-align: top;\n",
       "    }\n",
       "\n",
       "    .dataframe thead th {\n",
       "        text-align: right;\n",
       "    }\n",
       "</style>\n",
       "<table border=\"1\" class=\"dataframe\">\n",
       "  <thead>\n",
       "    <tr style=\"text-align: right;\">\n",
       "      <th></th>\n",
       "      <th>District</th>\n",
       "      <th>geometry</th>\n",
       "    </tr>\n",
       "  </thead>\n",
       "  <tbody>\n",
       "    <tr>\n",
       "      <th>0</th>\n",
       "      <td>1</td>\n",
       "      <td>POLYGON ((1558608.508 1007368.924, 1558424.339...</td>\n",
       "    </tr>\n",
       "    <tr>\n",
       "      <th>1</th>\n",
       "      <td>2</td>\n",
       "      <td>POLYGON ((1470535.622 854436.946, 1470480.616 ...</td>\n",
       "    </tr>\n",
       "    <tr>\n",
       "      <th>2</th>\n",
       "      <td>3</td>\n",
       "      <td>POLYGON ((1345931.776 1197371.115, 1345909.051...</td>\n",
       "    </tr>\n",
       "    <tr>\n",
       "      <th>3</th>\n",
       "      <td>4</td>\n",
       "      <td>POLYGON ((1406092.294 1178910.749, 1406000.068...</td>\n",
       "    </tr>\n",
       "    <tr>\n",
       "      <th>4</th>\n",
       "      <td>5</td>\n",
       "      <td>POLYGON ((1372124.540 1099497.361, 1372124.382...</td>\n",
       "    </tr>\n",
       "  </tbody>\n",
       "</table>\n",
       "</div>"
      ],
      "text/plain": [
       "   District                                           geometry\n",
       "0         1  POLYGON ((1558608.508 1007368.924, 1558424.339...\n",
       "1         2  POLYGON ((1470535.622 854436.946, 1470480.616 ...\n",
       "2         3  POLYGON ((1345931.776 1197371.115, 1345909.051...\n",
       "3         4  POLYGON ((1406092.294 1178910.749, 1406000.068...\n",
       "4         5  POLYGON ((1372124.540 1099497.361, 1372124.382..."
      ]
     },
     "execution_count": 48,
     "metadata": {},
     "output_type": "execute_result"
    }
   ],
   "source": [
    "cong_df.head()"
   ]
  },
  {
   "cell_type": "code",
   "execution_count": 49,
   "metadata": {},
   "outputs": [
    {
     "name": "stderr",
     "output_type": "stream",
     "text": [
      "100%|███████████████████████████████████████████| 38/38 [00:00<00:00, 61.20it/s]\n",
      "100%|██████████████████████████████████████████| 38/38 [00:00<00:00, 100.40it/s]\n",
      "100%|███████████████████████████████████████████| 38/38 [00:04<00:00,  8.64it/s]\n"
     ]
    }
   ],
   "source": [
    "cong_df = cong_df.to_crs(\"EPSG:4269\")\n",
    "election_df = add_district(cong_df, \"CD\", election_df, \"District\")"
   ]
  },
  {
   "cell_type": "code",
   "execution_count": 50,
   "metadata": {},
   "outputs": [
    {
     "data": {
      "text/plain": [
       "Index(['2MOREVAP', 'AGR18D', 'AGR18O', 'AGR18R', 'AMINVAP', 'ASIANVAP',\n",
       "       'ATG18D', 'ATG18O', 'ATG18R', 'BVAP', 'CNTY', 'CNTYKEY', 'COLOR',\n",
       "       'COM18D', 'COM18O', 'COM18R', 'G20SSVR', 'G20VR', 'GOV18D', 'GOV18O',\n",
       "       'GOV18R', 'HISP', 'HVAP', 'H_2MORE', 'H_AMIN', 'H_ASIAN', 'H_BLACK',\n",
       "       'H_NHPI', 'H_OTHER', 'H_WHITE', 'LAN18D', 'LAN18O', 'LAN18R', 'LTG18D',\n",
       "       'LTG18O', 'LTG18R', 'NHPIVAP', 'NH_2MORE', 'NH_AMIN', 'NH_ASIAN',\n",
       "       'NH_BLACK', 'NH_NHPI', 'NH_OTHER', 'NH_WHITE', 'OTHERVAP', 'PCTKEY',\n",
       "       'PRE16D', 'PRE16O', 'PRE16R', 'PRE20D', 'PRE20O', 'PRE20R', 'PREC',\n",
       "       'RRC16D', 'RRC16O', 'RRC16R', 'RRC18D', 'RRC18O', 'RRC18R', 'RRC20D',\n",
       "       'RRC20O', 'RRC20R', 'SCC16D', 'SCC16O', 'SCC16R', 'SCC18D', 'SCC18O',\n",
       "       'SCC18R', 'SCC20D', 'SCC20R', 'SSC16D', 'SSC16O', 'SSC16R', 'SSC18D',\n",
       "       'SSC18R', 'SSC20D', 'SSC20O', 'SSC20R', 'TOTPOP', 'USS18D', 'USS18O',\n",
       "       'USS18R', 'USS20D', 'USS20O', 'USS20R', 'VAP', 'WVAP', 'geometry',\n",
       "       'SEND', 'HDIST', 'CD'],\n",
       "      dtype='object')"
      ]
     },
     "execution_count": 50,
     "metadata": {},
     "output_type": "execute_result"
    }
   ],
   "source": [
    "election_df.columns"
   ]
  },
  {
   "cell_type": "markdown",
   "metadata": {},
   "source": [
    "### Put the base precinct year after the precinct information column"
   ]
  },
  {
   "cell_type": "code",
   "execution_count": 52,
   "metadata": {},
   "outputs": [],
   "source": [
    "'CNTY', 'COLOR', 'PREC', 'PCTKEY', 'CNTYKEY', 'G20VR', 'G20SSVR'\n",
    "base_columns = {}\n",
    "if 'COUNTYFP' + year not in election_df.columns:\n",
    "    base_columns = {\n",
    "        'CNTY':'CNTY'+year,\n",
    "        'COLOR':'COLOR'+year,\n",
    "        'PREC':'PREC'+year,\n",
    "        'PCTKEY':'PCTKEY'+year,\n",
    "        'CNTYKEY':'CNTYKEY'+year,\n",
    "        'G20VR':'G20VR'+year,\n",
    "        'G20SSVR':'G20SSVR'+year}\n",
    "election_df.rename(columns=base_columns, inplace = True)"
   ]
  },
  {
   "cell_type": "code",
   "execution_count": 53,
   "metadata": {},
   "outputs": [
    {
     "data": {
      "text/plain": [
       "Index(['2MOREVAP', 'AGR18D', 'AGR18O', 'AGR18R', 'AMINVAP', 'ASIANVAP',\n",
       "       'ATG18D', 'ATG18O', 'ATG18R', 'BVAP', 'CNTY20', 'CNTYKEY20', 'COLOR20',\n",
       "       'COM18D', 'COM18O', 'COM18R', 'G20SSVR20', 'G20VR20', 'GOV18D',\n",
       "       'GOV18O', 'GOV18R', 'HISP', 'HVAP', 'H_2MORE', 'H_AMIN', 'H_ASIAN',\n",
       "       'H_BLACK', 'H_NHPI', 'H_OTHER', 'H_WHITE', 'LAN18D', 'LAN18O', 'LAN18R',\n",
       "       'LTG18D', 'LTG18O', 'LTG18R', 'NHPIVAP', 'NH_2MORE', 'NH_AMIN',\n",
       "       'NH_ASIAN', 'NH_BLACK', 'NH_NHPI', 'NH_OTHER', 'NH_WHITE', 'OTHERVAP',\n",
       "       'PCTKEY20', 'PRE16D', 'PRE16O', 'PRE16R', 'PRE20D', 'PRE20O', 'PRE20R',\n",
       "       'PREC20', 'RRC16D', 'RRC16O', 'RRC16R', 'RRC18D', 'RRC18O', 'RRC18R',\n",
       "       'RRC20D', 'RRC20O', 'RRC20R', 'SCC16D', 'SCC16O', 'SCC16R', 'SCC18D',\n",
       "       'SCC18O', 'SCC18R', 'SCC20D', 'SCC20R', 'SSC16D', 'SSC16O', 'SSC16R',\n",
       "       'SSC18D', 'SSC18R', 'SSC20D', 'SSC20O', 'SSC20R', 'TOTPOP', 'USS18D',\n",
       "       'USS18O', 'USS18R', 'USS20D', 'USS20O', 'USS20R', 'VAP', 'WVAP',\n",
       "       'geometry', 'SEND', 'HDIST', 'CD'],\n",
       "      dtype='object')"
      ]
     },
     "execution_count": 53,
     "metadata": {},
     "output_type": "execute_result"
    }
   ],
   "source": [
    "election_df.columns"
   ]
  },
  {
   "cell_type": "code",
   "execution_count": 54,
   "metadata": {},
   "outputs": [
    {
     "name": "stderr",
     "output_type": "stream",
     "text": [
      "100%|██████████████████████████████████████| 9014/9014 [00:10<00:00, 867.81it/s]\n"
     ]
    },
    {
     "data": {
      "text/plain": [
       "True"
      ]
     },
     "execution_count": 54,
     "metadata": {},
     "output_type": "execute_result"
    }
   ],
   "source": [
    "maup.doctor(election_df)"
   ]
  },
  {
   "cell_type": "code",
   "execution_count": 55,
   "metadata": {},
   "outputs": [],
   "source": [
    "# reorder the columns\n",
    "fixed_columns = [\n",
    "    'CNTY'+year,\n",
    "    'COLOR'+year,\n",
    "    'PREC'+year,\n",
    "    'PCTKEY'+year,\n",
    "    'CNTYKEY'+year,\n",
    "    'G20VR'+year,\n",
    "    'G20SSVR'+year,\n",
    "    'CD',\n",
    "    'SEND',\n",
    "    'HDIST',\n",
    "    'TOTPOP',\n",
    "    'NH_2MORE',\n",
    "    'NH_AMIN',\n",
    "    'NH_ASIAN',\n",
    "    'NH_BLACK',\n",
    "    'NH_NHPI',\n",
    "    'NH_OTHER',\n",
    "    'NH_WHITE',\n",
    "    'HISP',\n",
    "    'H_AMIN',\n",
    "    'H_ASIAN',\n",
    "    'H_BLACK',\n",
    "    'H_NHPI',\n",
    "    'H_OTHER',\n",
    "    'H_WHITE',\n",
    "    'H_2MORE',\n",
    "    'VAP',\n",
    "    'HVAP',\n",
    "    'WVAP',\n",
    "    'BVAP',\n",
    "    'AMINVAP',\n",
    "    'ASIANVAP',\n",
    "    'NHPIVAP',\n",
    "    'OTHERVAP',\n",
    "    '2MOREVAP']\n",
    "\n",
    "election_columns = [col for col in election_df.columns if col not in fixed_columns]\n",
    "final_col = fixed_columns + election_columns\n",
    "election_df = election_df[final_col]"
   ]
  },
  {
   "cell_type": "code",
   "execution_count": 56,
   "metadata": {},
   "outputs": [
    {
     "data": {
      "text/plain": [
       "Index(['CNTY20', 'COLOR20', 'PREC20', 'PCTKEY20', 'CNTYKEY20', 'G20VR20',\n",
       "       'G20SSVR20', 'CD', 'SEND', 'HDIST', 'TOTPOP', 'NH_2MORE', 'NH_AMIN',\n",
       "       'NH_ASIAN', 'NH_BLACK', 'NH_NHPI', 'NH_OTHER', 'NH_WHITE', 'HISP',\n",
       "       'H_AMIN', 'H_ASIAN', 'H_BLACK', 'H_NHPI', 'H_OTHER', 'H_WHITE',\n",
       "       'H_2MORE', 'VAP', 'HVAP', 'WVAP', 'BVAP', 'AMINVAP', 'ASIANVAP',\n",
       "       'NHPIVAP', 'OTHERVAP', '2MOREVAP', 'AGR18D', 'AGR18O', 'AGR18R',\n",
       "       'ATG18D', 'ATG18O', 'ATG18R', 'COM18D', 'COM18O', 'COM18R', 'GOV18D',\n",
       "       'GOV18O', 'GOV18R', 'LAN18D', 'LAN18O', 'LAN18R', 'LTG18D', 'LTG18O',\n",
       "       'LTG18R', 'PRE16D', 'PRE16O', 'PRE16R', 'PRE20D', 'PRE20O', 'PRE20R',\n",
       "       'RRC16D', 'RRC16O', 'RRC16R', 'RRC18D', 'RRC18O', 'RRC18R', 'RRC20D',\n",
       "       'RRC20O', 'RRC20R', 'SCC16D', 'SCC16O', 'SCC16R', 'SCC18D', 'SCC18O',\n",
       "       'SCC18R', 'SCC20D', 'SCC20R', 'SSC16D', 'SSC16O', 'SSC16R', 'SSC18D',\n",
       "       'SSC18R', 'SSC20D', 'SSC20O', 'SSC20R', 'USS18D', 'USS18O', 'USS18R',\n",
       "       'USS20D', 'USS20O', 'USS20R', 'geometry'],\n",
       "      dtype='object')"
      ]
     },
     "execution_count": 56,
     "metadata": {},
     "output_type": "execute_result"
    }
   ],
   "source": [
    "election_df.columns"
   ]
  },
  {
   "cell_type": "code",
   "execution_count": 57,
   "metadata": {},
   "outputs": [],
   "source": [
    "import os\n",
    "\n",
    "# store the result in directory \"tx\"\n",
    "directory = \"./{}\".format(state_ab)\n",
    "if not os.path.exists(directory):\n",
    "    os.makedirs(directory)\n",
    "\n",
    "shapefile_path = \"./{}/{}.shp\".format(state_ab, state_ab)\n",
    "geojson_path = './{}/{}.geojson'.format(state_ab, state_ab)\n",
    "json_path = \"./{}/{}.json\".format(state_ab, state_ab)\n",
    "\n",
    "# Check if the shapefile or geojson file already exists\n",
    "if os.path.exists(shapefile_path):\n",
    "    os.remove(shapefile_path)\n",
    "if os.path.exists(geojson_path):\n",
    "    os.remove(geojson_path)\n",
    "\n",
    "election_df.to_file(shapefile_path)\n",
    "election_df.to_file(geojson_path, driver='GeoJSON')\n",
    "\n",
    "# Only do once to build json and read from file when generating ensembles\n",
    "graph = Graph.from_file(shapefile_path, ignore_errors=True)\n",
    "graph.to_json(json_path)"
   ]
  },
  {
   "cell_type": "code",
   "execution_count": 58,
   "metadata": {},
   "outputs": [
    {
     "data": {
      "text/plain": [
       "<Axes: >"
      ]
     },
     "execution_count": 58,
     "metadata": {},
     "output_type": "execute_result"
    },
    {
     "data": {
      "image/png": "[encoded data removed]",
      "text/plain": [
       "<Figure size 640x480 with 1 Axes>"
      ]
     },
     "metadata": {},
     "output_type": "display_data"
    }
   ],
   "source": [
    "shapefile_path = \"./{}/{}.shp\".format(state_ab, state_ab)\n",
    "shape=gpd.read_file(shapefile_path)\n",
    "shape.plot()"
   ]
  }
 ],
 "metadata": {
  "kernelspec": {
   "display_name": "gerry",
   "language": "python",
   "name": "gerry"
  },
  "language_info": {
   "codemirror_mode": {
    "name": "ipython",
    "version": 3
   },
   "file_extension": ".py",
   "mimetype": "text/x-python",
   "name": "python",
   "nbconvert_exporter": "python",
   "pygments_lexer": "ipython3",
   "version": "3.11.4"
  }
 },
 "nbformat": 4,
 "nbformat_minor": 4
}
